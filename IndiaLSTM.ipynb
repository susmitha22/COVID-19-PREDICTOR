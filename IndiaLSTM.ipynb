{
  "nbformat": 4,
  "nbformat_minor": 0,
  "metadata": {
    "colab": {
      "name": "IndiaLSTM.ipynb",
      "provenance": [],
      "authorship_tag": "ABX9TyPeE+fnGCQ09ElBYWtZy7L1",
      "include_colab_link": true
    },
    "kernelspec": {
      "name": "python3",
      "display_name": "Python 3"
    }
  },
  "cells": [
    {
      "cell_type": "markdown",
      "metadata": {
        "id": "view-in-github",
        "colab_type": "text"
      },
      "source": [
        "<a href=\"https://colab.research.google.com/github/susmitha22/COVID-19-PREDICTOR/blob/main/IndiaLSTM.ipynb\" target=\"_parent\"><img src=\"https://colab.research.google.com/assets/colab-badge.svg\" alt=\"Open In Colab\"/></a>"
      ]
    },
    {
      "cell_type": "code",
      "metadata": {
        "id": "xol__YN46bzx"
      },
      "source": [
        "import pandas as pd\r\n",
        "import numpy as np\r\n",
        "import matplotlib.pyplot as plt\r\n",
        "%matplotlib inline"
      ],
      "execution_count": 1,
      "outputs": []
    },
    {
      "cell_type": "code",
      "metadata": {
        "id": "15gM3_fO6mXP"
      },
      "source": [
        "url = \"https://raw.githubusercontent.com/CSSEGISandData/COVID-19/master/csse_covid_19_data/csse_covid_19_time_series/time_series_covid19_confirmed_global.csv\"\r\n",
        "df_confirmed = pd.read_csv(url)"
      ],
      "execution_count": 2,
      "outputs": []
    },
    {
      "cell_type": "code",
      "metadata": {
        "colab": {
          "base_uri": "https://localhost:8080/",
          "height": 246
        },
        "id": "yaCPvCFR6swa",
        "outputId": "f1d70b49-cac2-4464-a0d6-40213b0b07b8"
      },
      "source": [
        "df_confirmed.head()"
      ],
      "execution_count": 3,
      "outputs": [
        {
          "output_type": "execute_result",
          "data": {
            "text/html": [
              "<div>\n",
              "<style scoped>\n",
              "    .dataframe tbody tr th:only-of-type {\n",
              "        vertical-align: middle;\n",
              "    }\n",
              "\n",
              "    .dataframe tbody tr th {\n",
              "        vertical-align: top;\n",
              "    }\n",
              "\n",
              "    .dataframe thead th {\n",
              "        text-align: right;\n",
              "    }\n",
              "</style>\n",
              "<table border=\"1\" class=\"dataframe\">\n",
              "  <thead>\n",
              "    <tr style=\"text-align: right;\">\n",
              "      <th></th>\n",
              "      <th>Province/State</th>\n",
              "      <th>Country/Region</th>\n",
              "      <th>Lat</th>\n",
              "      <th>Long</th>\n",
              "      <th>1/22/20</th>\n",
              "      <th>1/23/20</th>\n",
              "      <th>1/24/20</th>\n",
              "      <th>1/25/20</th>\n",
              "      <th>1/26/20</th>\n",
              "      <th>1/27/20</th>\n",
              "      <th>1/28/20</th>\n",
              "      <th>1/29/20</th>\n",
              "      <th>1/30/20</th>\n",
              "      <th>1/31/20</th>\n",
              "      <th>2/1/20</th>\n",
              "      <th>2/2/20</th>\n",
              "      <th>2/3/20</th>\n",
              "      <th>2/4/20</th>\n",
              "      <th>2/5/20</th>\n",
              "      <th>2/6/20</th>\n",
              "      <th>2/7/20</th>\n",
              "      <th>2/8/20</th>\n",
              "      <th>2/9/20</th>\n",
              "      <th>2/10/20</th>\n",
              "      <th>2/11/20</th>\n",
              "      <th>2/12/20</th>\n",
              "      <th>2/13/20</th>\n",
              "      <th>2/14/20</th>\n",
              "      <th>2/15/20</th>\n",
              "      <th>2/16/20</th>\n",
              "      <th>2/17/20</th>\n",
              "      <th>2/18/20</th>\n",
              "      <th>2/19/20</th>\n",
              "      <th>2/20/20</th>\n",
              "      <th>2/21/20</th>\n",
              "      <th>2/22/20</th>\n",
              "      <th>2/23/20</th>\n",
              "      <th>2/24/20</th>\n",
              "      <th>2/25/20</th>\n",
              "      <th>2/26/20</th>\n",
              "      <th>...</th>\n",
              "      <th>12/1/20</th>\n",
              "      <th>12/2/20</th>\n",
              "      <th>12/3/20</th>\n",
              "      <th>12/4/20</th>\n",
              "      <th>12/5/20</th>\n",
              "      <th>12/6/20</th>\n",
              "      <th>12/7/20</th>\n",
              "      <th>12/8/20</th>\n",
              "      <th>12/9/20</th>\n",
              "      <th>12/10/20</th>\n",
              "      <th>12/11/20</th>\n",
              "      <th>12/12/20</th>\n",
              "      <th>12/13/20</th>\n",
              "      <th>12/14/20</th>\n",
              "      <th>12/15/20</th>\n",
              "      <th>12/16/20</th>\n",
              "      <th>12/17/20</th>\n",
              "      <th>12/18/20</th>\n",
              "      <th>12/19/20</th>\n",
              "      <th>12/20/20</th>\n",
              "      <th>12/21/20</th>\n",
              "      <th>12/22/20</th>\n",
              "      <th>12/23/20</th>\n",
              "      <th>12/24/20</th>\n",
              "      <th>12/25/20</th>\n",
              "      <th>12/26/20</th>\n",
              "      <th>12/27/20</th>\n",
              "      <th>12/28/20</th>\n",
              "      <th>12/29/20</th>\n",
              "      <th>12/30/20</th>\n",
              "      <th>12/31/20</th>\n",
              "      <th>1/1/21</th>\n",
              "      <th>1/2/21</th>\n",
              "      <th>1/3/21</th>\n",
              "      <th>1/4/21</th>\n",
              "      <th>1/5/21</th>\n",
              "      <th>1/6/21</th>\n",
              "      <th>1/7/21</th>\n",
              "      <th>1/8/21</th>\n",
              "      <th>1/9/21</th>\n",
              "    </tr>\n",
              "  </thead>\n",
              "  <tbody>\n",
              "    <tr>\n",
              "      <th>0</th>\n",
              "      <td>NaN</td>\n",
              "      <td>Afghanistan</td>\n",
              "      <td>33.93911</td>\n",
              "      <td>67.709953</td>\n",
              "      <td>0</td>\n",
              "      <td>0</td>\n",
              "      <td>0</td>\n",
              "      <td>0</td>\n",
              "      <td>0</td>\n",
              "      <td>0</td>\n",
              "      <td>0</td>\n",
              "      <td>0</td>\n",
              "      <td>0</td>\n",
              "      <td>0</td>\n",
              "      <td>0</td>\n",
              "      <td>0</td>\n",
              "      <td>0</td>\n",
              "      <td>0</td>\n",
              "      <td>0</td>\n",
              "      <td>0</td>\n",
              "      <td>0</td>\n",
              "      <td>0</td>\n",
              "      <td>0</td>\n",
              "      <td>0</td>\n",
              "      <td>0</td>\n",
              "      <td>0</td>\n",
              "      <td>0</td>\n",
              "      <td>0</td>\n",
              "      <td>0</td>\n",
              "      <td>0</td>\n",
              "      <td>0</td>\n",
              "      <td>0</td>\n",
              "      <td>0</td>\n",
              "      <td>0</td>\n",
              "      <td>0</td>\n",
              "      <td>0</td>\n",
              "      <td>0</td>\n",
              "      <td>1</td>\n",
              "      <td>1</td>\n",
              "      <td>1</td>\n",
              "      <td>...</td>\n",
              "      <td>46516</td>\n",
              "      <td>46718</td>\n",
              "      <td>46837</td>\n",
              "      <td>46837</td>\n",
              "      <td>47072</td>\n",
              "      <td>47306</td>\n",
              "      <td>47516</td>\n",
              "      <td>47716</td>\n",
              "      <td>47851</td>\n",
              "      <td>48053</td>\n",
              "      <td>48116</td>\n",
              "      <td>48229</td>\n",
              "      <td>48527</td>\n",
              "      <td>48718</td>\n",
              "      <td>48952</td>\n",
              "      <td>49161</td>\n",
              "      <td>49378</td>\n",
              "      <td>49621</td>\n",
              "      <td>49681</td>\n",
              "      <td>49817</td>\n",
              "      <td>50013</td>\n",
              "      <td>50190</td>\n",
              "      <td>50433</td>\n",
              "      <td>50655</td>\n",
              "      <td>50810</td>\n",
              "      <td>50886</td>\n",
              "      <td>51039</td>\n",
              "      <td>51280</td>\n",
              "      <td>51350</td>\n",
              "      <td>51405</td>\n",
              "      <td>51526</td>\n",
              "      <td>51526</td>\n",
              "      <td>51526</td>\n",
              "      <td>51526</td>\n",
              "      <td>53011</td>\n",
              "      <td>53105</td>\n",
              "      <td>53105</td>\n",
              "      <td>53207</td>\n",
              "      <td>53332</td>\n",
              "      <td>53400</td>\n",
              "    </tr>\n",
              "    <tr>\n",
              "      <th>1</th>\n",
              "      <td>NaN</td>\n",
              "      <td>Albania</td>\n",
              "      <td>41.15330</td>\n",
              "      <td>20.168300</td>\n",
              "      <td>0</td>\n",
              "      <td>0</td>\n",
              "      <td>0</td>\n",
              "      <td>0</td>\n",
              "      <td>0</td>\n",
              "      <td>0</td>\n",
              "      <td>0</td>\n",
              "      <td>0</td>\n",
              "      <td>0</td>\n",
              "      <td>0</td>\n",
              "      <td>0</td>\n",
              "      <td>0</td>\n",
              "      <td>0</td>\n",
              "      <td>0</td>\n",
              "      <td>0</td>\n",
              "      <td>0</td>\n",
              "      <td>0</td>\n",
              "      <td>0</td>\n",
              "      <td>0</td>\n",
              "      <td>0</td>\n",
              "      <td>0</td>\n",
              "      <td>0</td>\n",
              "      <td>0</td>\n",
              "      <td>0</td>\n",
              "      <td>0</td>\n",
              "      <td>0</td>\n",
              "      <td>0</td>\n",
              "      <td>0</td>\n",
              "      <td>0</td>\n",
              "      <td>0</td>\n",
              "      <td>0</td>\n",
              "      <td>0</td>\n",
              "      <td>0</td>\n",
              "      <td>0</td>\n",
              "      <td>0</td>\n",
              "      <td>0</td>\n",
              "      <td>...</td>\n",
              "      <td>39014</td>\n",
              "      <td>39719</td>\n",
              "      <td>40501</td>\n",
              "      <td>41302</td>\n",
              "      <td>42148</td>\n",
              "      <td>42988</td>\n",
              "      <td>43683</td>\n",
              "      <td>44436</td>\n",
              "      <td>45188</td>\n",
              "      <td>46061</td>\n",
              "      <td>46863</td>\n",
              "      <td>47742</td>\n",
              "      <td>48530</td>\n",
              "      <td>49191</td>\n",
              "      <td>50000</td>\n",
              "      <td>50637</td>\n",
              "      <td>51424</td>\n",
              "      <td>52004</td>\n",
              "      <td>52542</td>\n",
              "      <td>53003</td>\n",
              "      <td>53425</td>\n",
              "      <td>53814</td>\n",
              "      <td>54317</td>\n",
              "      <td>54827</td>\n",
              "      <td>55380</td>\n",
              "      <td>55755</td>\n",
              "      <td>56254</td>\n",
              "      <td>56572</td>\n",
              "      <td>57146</td>\n",
              "      <td>57727</td>\n",
              "      <td>58316</td>\n",
              "      <td>58316</td>\n",
              "      <td>58991</td>\n",
              "      <td>59438</td>\n",
              "      <td>59623</td>\n",
              "      <td>60283</td>\n",
              "      <td>61008</td>\n",
              "      <td>61705</td>\n",
              "      <td>62378</td>\n",
              "      <td>63033</td>\n",
              "    </tr>\n",
              "    <tr>\n",
              "      <th>2</th>\n",
              "      <td>NaN</td>\n",
              "      <td>Algeria</td>\n",
              "      <td>28.03390</td>\n",
              "      <td>1.659600</td>\n",
              "      <td>0</td>\n",
              "      <td>0</td>\n",
              "      <td>0</td>\n",
              "      <td>0</td>\n",
              "      <td>0</td>\n",
              "      <td>0</td>\n",
              "      <td>0</td>\n",
              "      <td>0</td>\n",
              "      <td>0</td>\n",
              "      <td>0</td>\n",
              "      <td>0</td>\n",
              "      <td>0</td>\n",
              "      <td>0</td>\n",
              "      <td>0</td>\n",
              "      <td>0</td>\n",
              "      <td>0</td>\n",
              "      <td>0</td>\n",
              "      <td>0</td>\n",
              "      <td>0</td>\n",
              "      <td>0</td>\n",
              "      <td>0</td>\n",
              "      <td>0</td>\n",
              "      <td>0</td>\n",
              "      <td>0</td>\n",
              "      <td>0</td>\n",
              "      <td>0</td>\n",
              "      <td>0</td>\n",
              "      <td>0</td>\n",
              "      <td>0</td>\n",
              "      <td>0</td>\n",
              "      <td>0</td>\n",
              "      <td>0</td>\n",
              "      <td>0</td>\n",
              "      <td>0</td>\n",
              "      <td>1</td>\n",
              "      <td>1</td>\n",
              "      <td>...</td>\n",
              "      <td>84152</td>\n",
              "      <td>85084</td>\n",
              "      <td>85927</td>\n",
              "      <td>86730</td>\n",
              "      <td>87502</td>\n",
              "      <td>88252</td>\n",
              "      <td>88825</td>\n",
              "      <td>89416</td>\n",
              "      <td>90014</td>\n",
              "      <td>90579</td>\n",
              "      <td>91121</td>\n",
              "      <td>91638</td>\n",
              "      <td>92102</td>\n",
              "      <td>92597</td>\n",
              "      <td>93065</td>\n",
              "      <td>93507</td>\n",
              "      <td>93933</td>\n",
              "      <td>94371</td>\n",
              "      <td>94781</td>\n",
              "      <td>95203</td>\n",
              "      <td>95659</td>\n",
              "      <td>96069</td>\n",
              "      <td>96549</td>\n",
              "      <td>97007</td>\n",
              "      <td>97441</td>\n",
              "      <td>97857</td>\n",
              "      <td>98249</td>\n",
              "      <td>98631</td>\n",
              "      <td>98988</td>\n",
              "      <td>99311</td>\n",
              "      <td>99610</td>\n",
              "      <td>99897</td>\n",
              "      <td>100159</td>\n",
              "      <td>100408</td>\n",
              "      <td>100645</td>\n",
              "      <td>100873</td>\n",
              "      <td>101120</td>\n",
              "      <td>101382</td>\n",
              "      <td>101657</td>\n",
              "      <td>101913</td>\n",
              "    </tr>\n",
              "    <tr>\n",
              "      <th>3</th>\n",
              "      <td>NaN</td>\n",
              "      <td>Andorra</td>\n",
              "      <td>42.50630</td>\n",
              "      <td>1.521800</td>\n",
              "      <td>0</td>\n",
              "      <td>0</td>\n",
              "      <td>0</td>\n",
              "      <td>0</td>\n",
              "      <td>0</td>\n",
              "      <td>0</td>\n",
              "      <td>0</td>\n",
              "      <td>0</td>\n",
              "      <td>0</td>\n",
              "      <td>0</td>\n",
              "      <td>0</td>\n",
              "      <td>0</td>\n",
              "      <td>0</td>\n",
              "      <td>0</td>\n",
              "      <td>0</td>\n",
              "      <td>0</td>\n",
              "      <td>0</td>\n",
              "      <td>0</td>\n",
              "      <td>0</td>\n",
              "      <td>0</td>\n",
              "      <td>0</td>\n",
              "      <td>0</td>\n",
              "      <td>0</td>\n",
              "      <td>0</td>\n",
              "      <td>0</td>\n",
              "      <td>0</td>\n",
              "      <td>0</td>\n",
              "      <td>0</td>\n",
              "      <td>0</td>\n",
              "      <td>0</td>\n",
              "      <td>0</td>\n",
              "      <td>0</td>\n",
              "      <td>0</td>\n",
              "      <td>0</td>\n",
              "      <td>0</td>\n",
              "      <td>0</td>\n",
              "      <td>...</td>\n",
              "      <td>6790</td>\n",
              "      <td>6842</td>\n",
              "      <td>6904</td>\n",
              "      <td>6955</td>\n",
              "      <td>7005</td>\n",
              "      <td>7050</td>\n",
              "      <td>7084</td>\n",
              "      <td>7127</td>\n",
              "      <td>7162</td>\n",
              "      <td>7190</td>\n",
              "      <td>7236</td>\n",
              "      <td>7288</td>\n",
              "      <td>7338</td>\n",
              "      <td>7382</td>\n",
              "      <td>7382</td>\n",
              "      <td>7446</td>\n",
              "      <td>7466</td>\n",
              "      <td>7519</td>\n",
              "      <td>7560</td>\n",
              "      <td>7577</td>\n",
              "      <td>7602</td>\n",
              "      <td>7633</td>\n",
              "      <td>7669</td>\n",
              "      <td>7699</td>\n",
              "      <td>7756</td>\n",
              "      <td>7806</td>\n",
              "      <td>7821</td>\n",
              "      <td>7875</td>\n",
              "      <td>7919</td>\n",
              "      <td>7983</td>\n",
              "      <td>8049</td>\n",
              "      <td>8117</td>\n",
              "      <td>8166</td>\n",
              "      <td>8192</td>\n",
              "      <td>8249</td>\n",
              "      <td>8308</td>\n",
              "      <td>8348</td>\n",
              "      <td>8348</td>\n",
              "      <td>8489</td>\n",
              "      <td>8586</td>\n",
              "    </tr>\n",
              "    <tr>\n",
              "      <th>4</th>\n",
              "      <td>NaN</td>\n",
              "      <td>Angola</td>\n",
              "      <td>-11.20270</td>\n",
              "      <td>17.873900</td>\n",
              "      <td>0</td>\n",
              "      <td>0</td>\n",
              "      <td>0</td>\n",
              "      <td>0</td>\n",
              "      <td>0</td>\n",
              "      <td>0</td>\n",
              "      <td>0</td>\n",
              "      <td>0</td>\n",
              "      <td>0</td>\n",
              "      <td>0</td>\n",
              "      <td>0</td>\n",
              "      <td>0</td>\n",
              "      <td>0</td>\n",
              "      <td>0</td>\n",
              "      <td>0</td>\n",
              "      <td>0</td>\n",
              "      <td>0</td>\n",
              "      <td>0</td>\n",
              "      <td>0</td>\n",
              "      <td>0</td>\n",
              "      <td>0</td>\n",
              "      <td>0</td>\n",
              "      <td>0</td>\n",
              "      <td>0</td>\n",
              "      <td>0</td>\n",
              "      <td>0</td>\n",
              "      <td>0</td>\n",
              "      <td>0</td>\n",
              "      <td>0</td>\n",
              "      <td>0</td>\n",
              "      <td>0</td>\n",
              "      <td>0</td>\n",
              "      <td>0</td>\n",
              "      <td>0</td>\n",
              "      <td>0</td>\n",
              "      <td>0</td>\n",
              "      <td>...</td>\n",
              "      <td>15251</td>\n",
              "      <td>15319</td>\n",
              "      <td>15361</td>\n",
              "      <td>15493</td>\n",
              "      <td>15536</td>\n",
              "      <td>15591</td>\n",
              "      <td>15648</td>\n",
              "      <td>15729</td>\n",
              "      <td>15804</td>\n",
              "      <td>15925</td>\n",
              "      <td>16061</td>\n",
              "      <td>16161</td>\n",
              "      <td>16188</td>\n",
              "      <td>16277</td>\n",
              "      <td>16362</td>\n",
              "      <td>16407</td>\n",
              "      <td>16484</td>\n",
              "      <td>16562</td>\n",
              "      <td>16626</td>\n",
              "      <td>16644</td>\n",
              "      <td>16686</td>\n",
              "      <td>16802</td>\n",
              "      <td>16931</td>\n",
              "      <td>17029</td>\n",
              "      <td>17099</td>\n",
              "      <td>17149</td>\n",
              "      <td>17240</td>\n",
              "      <td>17296</td>\n",
              "      <td>17371</td>\n",
              "      <td>17433</td>\n",
              "      <td>17553</td>\n",
              "      <td>17568</td>\n",
              "      <td>17608</td>\n",
              "      <td>17642</td>\n",
              "      <td>17684</td>\n",
              "      <td>17756</td>\n",
              "      <td>17864</td>\n",
              "      <td>17974</td>\n",
              "      <td>18066</td>\n",
              "      <td>18156</td>\n",
              "    </tr>\n",
              "  </tbody>\n",
              "</table>\n",
              "<p>5 rows × 358 columns</p>\n",
              "</div>"
            ],
            "text/plain": [
              "  Province/State Country/Region       Lat  ...  1/7/21  1/8/21  1/9/21\n",
              "0            NaN    Afghanistan  33.93911  ...   53207   53332   53400\n",
              "1            NaN        Albania  41.15330  ...   61705   62378   63033\n",
              "2            NaN        Algeria  28.03390  ...  101382  101657  101913\n",
              "3            NaN        Andorra  42.50630  ...    8348    8489    8586\n",
              "4            NaN         Angola -11.20270  ...   17974   18066   18156\n",
              "\n",
              "[5 rows x 358 columns]"
            ]
          },
          "metadata": {
            "tags": []
          },
          "execution_count": 3
        }
      ]
    },
    {
      "cell_type": "code",
      "metadata": {
        "id": "iJnkl-g561wn"
      },
      "source": [
        "country = \"India\""
      ],
      "execution_count": 4,
      "outputs": []
    },
    {
      "cell_type": "code",
      "metadata": {
        "id": "01Nzki-o65qy"
      },
      "source": [
        "df_confirmed1 = df_confirmed[df_confirmed[\"Country/Region\"] == country]"
      ],
      "execution_count": 5,
      "outputs": []
    },
    {
      "cell_type": "code",
      "metadata": {
        "colab": {
          "base_uri": "https://localhost:8080/",
          "height": 126
        },
        "id": "YyM-Wtk16__x",
        "outputId": "20701499-9577-4997-c7d4-98a2f7300b6b"
      },
      "source": [
        "df_confirmed1"
      ],
      "execution_count": 6,
      "outputs": [
        {
          "output_type": "execute_result",
          "data": {
            "text/html": [
              "<div>\n",
              "<style scoped>\n",
              "    .dataframe tbody tr th:only-of-type {\n",
              "        vertical-align: middle;\n",
              "    }\n",
              "\n",
              "    .dataframe tbody tr th {\n",
              "        vertical-align: top;\n",
              "    }\n",
              "\n",
              "    .dataframe thead th {\n",
              "        text-align: right;\n",
              "    }\n",
              "</style>\n",
              "<table border=\"1\" class=\"dataframe\">\n",
              "  <thead>\n",
              "    <tr style=\"text-align: right;\">\n",
              "      <th></th>\n",
              "      <th>Province/State</th>\n",
              "      <th>Country/Region</th>\n",
              "      <th>Lat</th>\n",
              "      <th>Long</th>\n",
              "      <th>1/22/20</th>\n",
              "      <th>1/23/20</th>\n",
              "      <th>1/24/20</th>\n",
              "      <th>1/25/20</th>\n",
              "      <th>1/26/20</th>\n",
              "      <th>1/27/20</th>\n",
              "      <th>1/28/20</th>\n",
              "      <th>1/29/20</th>\n",
              "      <th>1/30/20</th>\n",
              "      <th>1/31/20</th>\n",
              "      <th>2/1/20</th>\n",
              "      <th>2/2/20</th>\n",
              "      <th>2/3/20</th>\n",
              "      <th>2/4/20</th>\n",
              "      <th>2/5/20</th>\n",
              "      <th>2/6/20</th>\n",
              "      <th>2/7/20</th>\n",
              "      <th>2/8/20</th>\n",
              "      <th>2/9/20</th>\n",
              "      <th>2/10/20</th>\n",
              "      <th>2/11/20</th>\n",
              "      <th>2/12/20</th>\n",
              "      <th>2/13/20</th>\n",
              "      <th>2/14/20</th>\n",
              "      <th>2/15/20</th>\n",
              "      <th>2/16/20</th>\n",
              "      <th>2/17/20</th>\n",
              "      <th>2/18/20</th>\n",
              "      <th>2/19/20</th>\n",
              "      <th>2/20/20</th>\n",
              "      <th>2/21/20</th>\n",
              "      <th>2/22/20</th>\n",
              "      <th>2/23/20</th>\n",
              "      <th>2/24/20</th>\n",
              "      <th>2/25/20</th>\n",
              "      <th>2/26/20</th>\n",
              "      <th>...</th>\n",
              "      <th>12/1/20</th>\n",
              "      <th>12/2/20</th>\n",
              "      <th>12/3/20</th>\n",
              "      <th>12/4/20</th>\n",
              "      <th>12/5/20</th>\n",
              "      <th>12/6/20</th>\n",
              "      <th>12/7/20</th>\n",
              "      <th>12/8/20</th>\n",
              "      <th>12/9/20</th>\n",
              "      <th>12/10/20</th>\n",
              "      <th>12/11/20</th>\n",
              "      <th>12/12/20</th>\n",
              "      <th>12/13/20</th>\n",
              "      <th>12/14/20</th>\n",
              "      <th>12/15/20</th>\n",
              "      <th>12/16/20</th>\n",
              "      <th>12/17/20</th>\n",
              "      <th>12/18/20</th>\n",
              "      <th>12/19/20</th>\n",
              "      <th>12/20/20</th>\n",
              "      <th>12/21/20</th>\n",
              "      <th>12/22/20</th>\n",
              "      <th>12/23/20</th>\n",
              "      <th>12/24/20</th>\n",
              "      <th>12/25/20</th>\n",
              "      <th>12/26/20</th>\n",
              "      <th>12/27/20</th>\n",
              "      <th>12/28/20</th>\n",
              "      <th>12/29/20</th>\n",
              "      <th>12/30/20</th>\n",
              "      <th>12/31/20</th>\n",
              "      <th>1/1/21</th>\n",
              "      <th>1/2/21</th>\n",
              "      <th>1/3/21</th>\n",
              "      <th>1/4/21</th>\n",
              "      <th>1/5/21</th>\n",
              "      <th>1/6/21</th>\n",
              "      <th>1/7/21</th>\n",
              "      <th>1/8/21</th>\n",
              "      <th>1/9/21</th>\n",
              "    </tr>\n",
              "  </thead>\n",
              "  <tbody>\n",
              "    <tr>\n",
              "      <th>146</th>\n",
              "      <td>NaN</td>\n",
              "      <td>India</td>\n",
              "      <td>20.593684</td>\n",
              "      <td>78.96288</td>\n",
              "      <td>0</td>\n",
              "      <td>0</td>\n",
              "      <td>0</td>\n",
              "      <td>0</td>\n",
              "      <td>0</td>\n",
              "      <td>0</td>\n",
              "      <td>0</td>\n",
              "      <td>0</td>\n",
              "      <td>1</td>\n",
              "      <td>1</td>\n",
              "      <td>1</td>\n",
              "      <td>2</td>\n",
              "      <td>3</td>\n",
              "      <td>3</td>\n",
              "      <td>3</td>\n",
              "      <td>3</td>\n",
              "      <td>3</td>\n",
              "      <td>3</td>\n",
              "      <td>3</td>\n",
              "      <td>3</td>\n",
              "      <td>3</td>\n",
              "      <td>3</td>\n",
              "      <td>3</td>\n",
              "      <td>3</td>\n",
              "      <td>3</td>\n",
              "      <td>3</td>\n",
              "      <td>3</td>\n",
              "      <td>3</td>\n",
              "      <td>3</td>\n",
              "      <td>3</td>\n",
              "      <td>3</td>\n",
              "      <td>3</td>\n",
              "      <td>3</td>\n",
              "      <td>3</td>\n",
              "      <td>3</td>\n",
              "      <td>3</td>\n",
              "      <td>...</td>\n",
              "      <td>9499413</td>\n",
              "      <td>9534964</td>\n",
              "      <td>9571559</td>\n",
              "      <td>9608211</td>\n",
              "      <td>9644222</td>\n",
              "      <td>9677203</td>\n",
              "      <td>9703770</td>\n",
              "      <td>9735850</td>\n",
              "      <td>9767371</td>\n",
              "      <td>9796744</td>\n",
              "      <td>9826775</td>\n",
              "      <td>9857029</td>\n",
              "      <td>9884100</td>\n",
              "      <td>9906165</td>\n",
              "      <td>9932547</td>\n",
              "      <td>9956557</td>\n",
              "      <td>9979447</td>\n",
              "      <td>10004599</td>\n",
              "      <td>10031223</td>\n",
              "      <td>10055560</td>\n",
              "      <td>10075116</td>\n",
              "      <td>10099066</td>\n",
              "      <td>10123778</td>\n",
              "      <td>10146845</td>\n",
              "      <td>10169118</td>\n",
              "      <td>10187850</td>\n",
              "      <td>10207871</td>\n",
              "      <td>10224303</td>\n",
              "      <td>10244852</td>\n",
              "      <td>10266674</td>\n",
              "      <td>10266674</td>\n",
              "      <td>10286709</td>\n",
              "      <td>10323965</td>\n",
              "      <td>10340469</td>\n",
              "      <td>10356844</td>\n",
              "      <td>10374932</td>\n",
              "      <td>10395278</td>\n",
              "      <td>10413417</td>\n",
              "      <td>10413417</td>\n",
              "      <td>10450284</td>\n",
              "    </tr>\n",
              "  </tbody>\n",
              "</table>\n",
              "<p>1 rows × 358 columns</p>\n",
              "</div>"
            ],
            "text/plain": [
              "    Province/State Country/Region        Lat  ...    1/7/21    1/8/21    1/9/21\n",
              "146            NaN          India  20.593684  ...  10413417  10413417  10450284\n",
              "\n",
              "[1 rows x 358 columns]"
            ]
          },
          "metadata": {
            "tags": []
          },
          "execution_count": 6
        }
      ]
    },
    {
      "cell_type": "code",
      "metadata": {
        "colab": {
          "base_uri": "https://localhost:8080/",
          "height": 197
        },
        "id": "E__nwnmvA_O8",
        "outputId": "514d8312-44bd-4f95-8b93-71da1a19ffbc"
      },
      "source": [
        "## structuring times eries data\r\n",
        "df_confirmed2 = pd.DataFrame(df_confirmed1[df_confirmed1.columns[4:]].sum(),columns=[\"confirmed\"])\r\n",
        "df_confirmed2.index = pd.to_datetime(df_confirmed2.index,format='%m/%d/%y')\r\n",
        "df_confirmed2.tail()\r\n"
      ],
      "execution_count": 7,
      "outputs": [
        {
          "output_type": "execute_result",
          "data": {
            "text/html": [
              "<div>\n",
              "<style scoped>\n",
              "    .dataframe tbody tr th:only-of-type {\n",
              "        vertical-align: middle;\n",
              "    }\n",
              "\n",
              "    .dataframe tbody tr th {\n",
              "        vertical-align: top;\n",
              "    }\n",
              "\n",
              "    .dataframe thead th {\n",
              "        text-align: right;\n",
              "    }\n",
              "</style>\n",
              "<table border=\"1\" class=\"dataframe\">\n",
              "  <thead>\n",
              "    <tr style=\"text-align: right;\">\n",
              "      <th></th>\n",
              "      <th>confirmed</th>\n",
              "    </tr>\n",
              "  </thead>\n",
              "  <tbody>\n",
              "    <tr>\n",
              "      <th>2021-01-05</th>\n",
              "      <td>10374932</td>\n",
              "    </tr>\n",
              "    <tr>\n",
              "      <th>2021-01-06</th>\n",
              "      <td>10395278</td>\n",
              "    </tr>\n",
              "    <tr>\n",
              "      <th>2021-01-07</th>\n",
              "      <td>10413417</td>\n",
              "    </tr>\n",
              "    <tr>\n",
              "      <th>2021-01-08</th>\n",
              "      <td>10413417</td>\n",
              "    </tr>\n",
              "    <tr>\n",
              "      <th>2021-01-09</th>\n",
              "      <td>10450284</td>\n",
              "    </tr>\n",
              "  </tbody>\n",
              "</table>\n",
              "</div>"
            ],
            "text/plain": [
              "            confirmed\n",
              "2021-01-05   10374932\n",
              "2021-01-06   10395278\n",
              "2021-01-07   10413417\n",
              "2021-01-08   10413417\n",
              "2021-01-09   10450284"
            ]
          },
          "metadata": {
            "tags": []
          },
          "execution_count": 7
        }
      ]
    },
    {
      "cell_type": "code",
      "metadata": {
        "colab": {
          "base_uri": "https://localhost:8080/",
          "height": 311
        },
        "id": "66_3-INRBKsm",
        "outputId": "0a39234a-65d1-4bcf-f9fe-310df0e852dd"
      },
      "source": [
        "df_confirmed2.plot(title=\"India-Confirmed cases\")"
      ],
      "execution_count": 8,
      "outputs": [
        {
          "output_type": "execute_result",
          "data": {
            "text/plain": [
              "<matplotlib.axes._subplots.AxesSubplot at 0x7f9982f09710>"
            ]
          },
          "metadata": {
            "tags": []
          },
          "execution_count": 8
        },
        {
          "output_type": "display_data",
          "data": {
            "image/png": "[encoded data removed]",
            "text/plain": [
              "<Figure size 432x288 with 1 Axes>"
            ]
          },
          "metadata": {
            "tags": [],
            "needs_background": "light"
          }
        }
      ]
    },
    {
      "cell_type": "code",
      "metadata": {
        "colab": {
          "base_uri": "https://localhost:8080/",
          "height": 347
        },
        "id": "d8HjDMu9CcUV",
        "outputId": "9832f4b1-737a-4018-d32b-fddb0e226db8"
      },
      "source": [
        "df_new = df_confirmed2[[\"confirmed\"]]\r\n",
        "df_new.tail(10)"
      ],
      "execution_count": 9,
      "outputs": [
        {
          "output_type": "execute_result",
          "data": {
            "text/html": [
              "<div>\n",
              "<style scoped>\n",
              "    .dataframe tbody tr th:only-of-type {\n",
              "        vertical-align: middle;\n",
              "    }\n",
              "\n",
              "    .dataframe tbody tr th {\n",
              "        vertical-align: top;\n",
              "    }\n",
              "\n",
              "    .dataframe thead th {\n",
              "        text-align: right;\n",
              "    }\n",
              "</style>\n",
              "<table border=\"1\" class=\"dataframe\">\n",
              "  <thead>\n",
              "    <tr style=\"text-align: right;\">\n",
              "      <th></th>\n",
              "      <th>confirmed</th>\n",
              "    </tr>\n",
              "  </thead>\n",
              "  <tbody>\n",
              "    <tr>\n",
              "      <th>2020-12-31</th>\n",
              "      <td>10266674</td>\n",
              "    </tr>\n",
              "    <tr>\n",
              "      <th>2021-01-01</th>\n",
              "      <td>10286709</td>\n",
              "    </tr>\n",
              "    <tr>\n",
              "      <th>2021-01-02</th>\n",
              "      <td>10323965</td>\n",
              "    </tr>\n",
              "    <tr>\n",
              "      <th>2021-01-03</th>\n",
              "      <td>10340469</td>\n",
              "    </tr>\n",
              "    <tr>\n",
              "      <th>2021-01-04</th>\n",
              "      <td>10356844</td>\n",
              "    </tr>\n",
              "    <tr>\n",
              "      <th>2021-01-05</th>\n",
              "      <td>10374932</td>\n",
              "    </tr>\n",
              "    <tr>\n",
              "      <th>2021-01-06</th>\n",
              "      <td>10395278</td>\n",
              "    </tr>\n",
              "    <tr>\n",
              "      <th>2021-01-07</th>\n",
              "      <td>10413417</td>\n",
              "    </tr>\n",
              "    <tr>\n",
              "      <th>2021-01-08</th>\n",
              "      <td>10413417</td>\n",
              "    </tr>\n",
              "    <tr>\n",
              "      <th>2021-01-09</th>\n",
              "      <td>10450284</td>\n",
              "    </tr>\n",
              "  </tbody>\n",
              "</table>\n",
              "</div>"
            ],
            "text/plain": [
              "            confirmed\n",
              "2020-12-31   10266674\n",
              "2021-01-01   10286709\n",
              "2021-01-02   10323965\n",
              "2021-01-03   10340469\n",
              "2021-01-04   10356844\n",
              "2021-01-05   10374932\n",
              "2021-01-06   10395278\n",
              "2021-01-07   10413417\n",
              "2021-01-08   10413417\n",
              "2021-01-09   10450284"
            ]
          },
          "metadata": {
            "tags": []
          },
          "execution_count": 9
        }
      ]
    },
    {
      "cell_type": "code",
      "metadata": {
        "colab": {
          "base_uri": "https://localhost:8080/",
          "height": 406
        },
        "id": "flzRb_4YCkL_",
        "outputId": "5f1b628e-3293-429f-e76d-648be6f9b808"
      },
      "source": [
        "x = len(df_new)-5\r\n",
        "train=df_new.iloc[:x]\r\n",
        "test = df_new.iloc[x:]\r\n",
        "train\r\n"
      ],
      "execution_count": 10,
      "outputs": [
        {
          "output_type": "execute_result",
          "data": {
            "text/html": [
              "<div>\n",
              "<style scoped>\n",
              "    .dataframe tbody tr th:only-of-type {\n",
              "        vertical-align: middle;\n",
              "    }\n",
              "\n",
              "    .dataframe tbody tr th {\n",
              "        vertical-align: top;\n",
              "    }\n",
              "\n",
              "    .dataframe thead th {\n",
              "        text-align: right;\n",
              "    }\n",
              "</style>\n",
              "<table border=\"1\" class=\"dataframe\">\n",
              "  <thead>\n",
              "    <tr style=\"text-align: right;\">\n",
              "      <th></th>\n",
              "      <th>confirmed</th>\n",
              "    </tr>\n",
              "  </thead>\n",
              "  <tbody>\n",
              "    <tr>\n",
              "      <th>2020-01-22</th>\n",
              "      <td>0</td>\n",
              "    </tr>\n",
              "    <tr>\n",
              "      <th>2020-01-23</th>\n",
              "      <td>0</td>\n",
              "    </tr>\n",
              "    <tr>\n",
              "      <th>2020-01-24</th>\n",
              "      <td>0</td>\n",
              "    </tr>\n",
              "    <tr>\n",
              "      <th>2020-01-25</th>\n",
              "      <td>0</td>\n",
              "    </tr>\n",
              "    <tr>\n",
              "      <th>2020-01-26</th>\n",
              "      <td>0</td>\n",
              "    </tr>\n",
              "    <tr>\n",
              "      <th>...</th>\n",
              "      <td>...</td>\n",
              "    </tr>\n",
              "    <tr>\n",
              "      <th>2020-12-31</th>\n",
              "      <td>10266674</td>\n",
              "    </tr>\n",
              "    <tr>\n",
              "      <th>2021-01-01</th>\n",
              "      <td>10286709</td>\n",
              "    </tr>\n",
              "    <tr>\n",
              "      <th>2021-01-02</th>\n",
              "      <td>10323965</td>\n",
              "    </tr>\n",
              "    <tr>\n",
              "      <th>2021-01-03</th>\n",
              "      <td>10340469</td>\n",
              "    </tr>\n",
              "    <tr>\n",
              "      <th>2021-01-04</th>\n",
              "      <td>10356844</td>\n",
              "    </tr>\n",
              "  </tbody>\n",
              "</table>\n",
              "<p>349 rows × 1 columns</p>\n",
              "</div>"
            ],
            "text/plain": [
              "            confirmed\n",
              "2020-01-22          0\n",
              "2020-01-23          0\n",
              "2020-01-24          0\n",
              "2020-01-25          0\n",
              "2020-01-26          0\n",
              "...               ...\n",
              "2020-12-31   10266674\n",
              "2021-01-01   10286709\n",
              "2021-01-02   10323965\n",
              "2021-01-03   10340469\n",
              "2021-01-04   10356844\n",
              "\n",
              "[349 rows x 1 columns]"
            ]
          },
          "metadata": {
            "tags": []
          },
          "execution_count": 10
        }
      ]
    },
    {
      "cell_type": "code",
      "metadata": {
        "colab": {
          "base_uri": "https://localhost:8080/"
        },
        "id": "ejLo1Oa_C78C",
        "outputId": "3343de95-15b0-49c2-9264-b585b471efe2"
      },
      "source": [
        "from sklearn.preprocessing import MinMaxScaler\r\n",
        "scaler = MinMaxScaler()\r\n",
        "scaler.fit(train) #find max value"
      ],
      "execution_count": 12,
      "outputs": [
        {
          "output_type": "execute_result",
          "data": {
            "text/plain": [
              "MinMaxScaler(copy=True, feature_range=(0, 1))"
            ]
          },
          "metadata": {
            "tags": []
          },
          "execution_count": 12
        }
      ]
    },
    {
      "cell_type": "code",
      "metadata": {
        "colab": {
          "base_uri": "https://localhost:8080/"
        },
        "id": "iISSkgaGDNqa",
        "outputId": "198b5d05-45ac-49a3-e06c-4d5d0bc577f4"
      },
      "source": [
        "scaled_train = scaler.transform(train)#and divide every point by max value\r\n",
        "scaled_test = scaler.transform(test)\r\n",
        "print(scaled_train[-5:])"
      ],
      "execution_count": 13,
      "outputs": [
        {
          "output_type": "stream",
          "text": [
            "[[0.99129368]\n",
            " [0.99322815]\n",
            " [0.99682538]\n",
            " [0.99841892]\n",
            " [1.        ]]\n"
          ],
          "name": "stdout"
        }
      ]
    },
    {
      "cell_type": "code",
      "metadata": {
        "colab": {
          "base_uri": "https://localhost:8080/"
        },
        "id": "JKcyf0qwDY1p",
        "outputId": "eca3f67b-2fd0-4cd3-c471-cc719c0f3a7a"
      },
      "source": [
        "from keras.preprocessing.sequence import TimeseriesGenerator\r\n",
        "n_input = 5  ## number of steps\r\n",
        "n_features = 1 ## number of features you want to predict (for univariate time series n_features=1)\r\n",
        "generator = TimeseriesGenerator(scaled_train,scaled_train,length = n_input,batch_size=1)\r\n",
        "x,y = generator[50]\r\n",
        "(x.shape,y.shape)"
      ],
      "execution_count": 16,
      "outputs": [
        {
          "output_type": "execute_result",
          "data": {
            "text/plain": [
              "((1, 5, 1), (1, 1))"
            ]
          },
          "metadata": {
            "tags": []
          },
          "execution_count": 16
        }
      ]
    },
    {
      "cell_type": "code",
      "metadata": {
        "colab": {
          "base_uri": "https://localhost:8080/"
        },
        "id": "hGzLhRC3D_KD",
        "outputId": "ef940c64-1669-4edd-f35b-6065a617a958"
      },
      "source": [
        "(x,y)"
      ],
      "execution_count": 17,
      "outputs": [
        {
          "output_type": "execute_result",
          "data": {
            "text/plain": [
              "(array([[[7.04847925e-06],\n",
              "         [7.91746984e-06],\n",
              "         [9.84856004e-06],\n",
              "         [1.09106597e-05],\n",
              "         [1.14899867e-05]]]), array([[1.37107405e-05]]))"
            ]
          },
          "metadata": {
            "tags": []
          },
          "execution_count": 17
        }
      ]
    },
    {
      "cell_type": "code",
      "metadata": {
        "colab": {
          "base_uri": "https://localhost:8080/"
        },
        "id": "o48InRW0EBUW",
        "outputId": "90dea48c-829b-4d55-a025-5687fcca3fc2"
      },
      "source": [
        "from keras.models import Sequential\r\n",
        "from keras.layers import Dense, LSTM, Dropout, Activation\r\n",
        "model = Sequential()\r\n",
        "model.add(LSTM(150,activation=\"relu\",input_shape=(n_input,n_features)))\r\n",
        "#model.add(Dropout(0.2))\r\n",
        "model.add(Dense(75, activation='relu'))\r\n",
        "model.add(Dense(units=1))\r\n",
        "#model.add(Activation('softmax'))\r\n",
        "#model.add(Dense(1))\r\n",
        "model.compile(optimizer=\"adam\",loss=\"mse\")\r\n",
        "model.summary()"
      ],
      "execution_count": 19,
      "outputs": [
        {
          "output_type": "stream",
          "text": [
            "Model: \"sequential\"\n",
            "_________________________________________________________________\n",
            "Layer (type)                 Output Shape              Param #   \n",
            "=================================================================\n",
            "lstm (LSTM)                  (None, 150)               91200     \n",
            "_________________________________________________________________\n",
            "dense (Dense)                (None, 75)                11325     \n",
            "_________________________________________________________________\n",
            "dense_1 (Dense)              (None, 1)                 76        \n",
            "=================================================================\n",
            "Total params: 102,601\n",
            "Trainable params: 102,601\n",
            "Non-trainable params: 0\n",
            "_________________________________________________________________\n"
          ],
          "name": "stdout"
        }
      ]
    },
    {
      "cell_type": "code",
      "metadata": {
        "colab": {
          "base_uri": "https://localhost:8080/"
        },
        "id": "Dkk6n_owETNG",
        "outputId": "2f4cec67-c5c1-435d-a1a1-6abf98922403"
      },
      "source": [
        "validation_set = np.append(scaled_train[55],scaled_test)\r\n",
        "validation_set=validation_set.reshape(6,1)\r\n",
        "validation_set"
      ],
      "execution_count": 20,
      "outputs": [
        {
          "output_type": "execute_result",
          "data": {
            "text/plain": [
              "array([[1.37107405e-05],\n",
              "       [1.00174648e+00],\n",
              "       [1.00371098e+00],\n",
              "       [1.00546238e+00],\n",
              "       [1.00546238e+00],\n",
              "       [1.00902205e+00]])"
            ]
          },
          "metadata": {
            "tags": []
          },
          "execution_count": 20
        }
      ]
    },
    {
      "cell_type": "code",
      "metadata": {
        "colab": {
          "base_uri": "https://localhost:8080/"
        },
        "id": "ZoX1Li-wEav-",
        "outputId": "5d1f6685-996b-4170-8a13-41651b07dba2"
      },
      "source": [
        "n_input = 5\r\n",
        "n_features = 1\r\n",
        "validation_gen = TimeseriesGenerator(validation_set,validation_set,length=5,batch_size=1)\r\n",
        "validation_gen[0][0].shape,validation_gen[0][1].shape"
      ],
      "execution_count": 21,
      "outputs": [
        {
          "output_type": "execute_result",
          "data": {
            "text/plain": [
              "((1, 5, 1), (1, 1))"
            ]
          },
          "metadata": {
            "tags": []
          },
          "execution_count": 21
        }
      ]
    },
    {
      "cell_type": "code",
      "metadata": {
        "colab": {
          "base_uri": "https://localhost:8080/"
        },
        "id": "DOZmnEaDEnEg",
        "outputId": "509f019b-dea4-4aee-d7bd-26aa3b48d243"
      },
      "source": [
        "from tensorflow.keras.callbacks import EarlyStopping\r\n",
        "early_stop = EarlyStopping(monitor='val_loss',patience=20,restore_best_weights=True)\r\n",
        "model.fit_generator(generator,validation_data=validation_gen,epochs=100,callbacks=[early_stop],steps_per_epoch=10)"
      ],
      "execution_count": 22,
      "outputs": [
        {
          "output_type": "stream",
          "text": [
            "/usr/local/lib/python3.6/dist-packages/tensorflow/python/keras/engine/training.py:1844: UserWarning: `Model.fit_generator` is deprecated and will be removed in a future version. Please use `Model.fit`, which supports generators.\n",
            "  warnings.warn('`Model.fit_generator` is deprecated and '\n"
          ],
          "name": "stderr"
        },
        {
          "output_type": "stream",
          "text": [
            "Epoch 1/100\n",
            "10/10 [==============================] - 2s 61ms/step - loss: 0.2181 - val_loss: 0.7906\n",
            "Epoch 2/100\n",
            "10/10 [==============================] - 0s 9ms/step - loss: 0.2052 - val_loss: 0.5214\n",
            "Epoch 3/100\n",
            "10/10 [==============================] - 0s 9ms/step - loss: 0.1289 - val_loss: 0.2447\n",
            "Epoch 4/100\n",
            "10/10 [==============================] - 0s 10ms/step - loss: 0.0281 - val_loss: 0.0903\n",
            "Epoch 5/100\n",
            "10/10 [==============================] - 0s 10ms/step - loss: 0.0150 - val_loss: 0.0422\n",
            "Epoch 6/100\n",
            "10/10 [==============================] - 0s 9ms/step - loss: 0.0018 - val_loss: 0.0475\n",
            "Epoch 7/100\n",
            "10/10 [==============================] - 0s 9ms/step - loss: 4.6651e-04 - val_loss: 0.0400\n",
            "Epoch 8/100\n",
            "10/10 [==============================] - 0s 9ms/step - loss: 8.6148e-04 - val_loss: 0.0326\n",
            "Epoch 9/100\n",
            "10/10 [==============================] - 0s 9ms/step - loss: 6.7013e-04 - val_loss: 0.0557\n",
            "Epoch 10/100\n",
            "10/10 [==============================] - 0s 9ms/step - loss: 5.3567e-04 - val_loss: 0.0433\n",
            "Epoch 11/100\n",
            "10/10 [==============================] - 0s 9ms/step - loss: 2.0267e-04 - val_loss: 0.0505\n",
            "Epoch 12/100\n",
            "10/10 [==============================] - 0s 10ms/step - loss: 1.1783e-04 - val_loss: 0.0422\n",
            "Epoch 13/100\n",
            "10/10 [==============================] - 0s 10ms/step - loss: 2.4059e-04 - val_loss: 0.0591\n",
            "Epoch 14/100\n",
            "10/10 [==============================] - 0s 9ms/step - loss: 3.6761e-04 - val_loss: 0.0457\n",
            "Epoch 15/100\n",
            "10/10 [==============================] - 0s 9ms/step - loss: 6.8154e-05 - val_loss: 0.0547\n",
            "Epoch 16/100\n",
            "10/10 [==============================] - 0s 10ms/step - loss: 1.1637e-04 - val_loss: 0.0475\n",
            "Epoch 17/100\n",
            "10/10 [==============================] - 0s 10ms/step - loss: 1.3650e-04 - val_loss: 0.0516\n",
            "Epoch 18/100\n",
            "10/10 [==============================] - 0s 14ms/step - loss: 3.0198e-05 - val_loss: 0.0518\n",
            "Epoch 19/100\n",
            "10/10 [==============================] - 0s 16ms/step - loss: 3.9970e-05 - val_loss: 0.0479\n",
            "Epoch 20/100\n",
            "10/10 [==============================] - 0s 18ms/step - loss: 2.5442e-05 - val_loss: 0.0512\n",
            "Epoch 21/100\n",
            "10/10 [==============================] - 0s 17ms/step - loss: 2.2585e-05 - val_loss: 0.0510\n",
            "Epoch 22/100\n",
            "10/10 [==============================] - 0s 17ms/step - loss: 3.5351e-05 - val_loss: 0.0489\n",
            "Epoch 23/100\n",
            "10/10 [==============================] - 0s 16ms/step - loss: 1.7155e-05 - val_loss: 0.0534\n",
            "Epoch 24/100\n",
            "10/10 [==============================] - 0s 15ms/step - loss: 5.3266e-05 - val_loss: 0.0487\n",
            "Epoch 25/100\n",
            "10/10 [==============================] - 0s 16ms/step - loss: 3.3070e-05 - val_loss: 0.0534\n",
            "Epoch 26/100\n",
            "10/10 [==============================] - 0s 25ms/step - loss: 4.5043e-05 - val_loss: 0.0463\n",
            "Epoch 27/100\n",
            "10/10 [==============================] - 0s 16ms/step - loss: 8.0688e-05 - val_loss: 0.0583\n",
            "Epoch 28/100\n",
            "10/10 [==============================] - 0s 15ms/step - loss: 5.9788e-05 - val_loss: 0.0511\n"
          ],
          "name": "stdout"
        },
        {
          "output_type": "execute_result",
          "data": {
            "text/plain": [
              "<tensorflow.python.keras.callbacks.History at 0x7f9972092f28>"
            ]
          },
          "metadata": {
            "tags": []
          },
          "execution_count": 22
        }
      ]
    },
    {
      "cell_type": "code",
      "metadata": {
        "colab": {
          "base_uri": "https://localhost:8080/",
          "height": 298
        },
        "id": "T4Qj-QTjE1IY",
        "outputId": "61cbb06f-fb11-477a-87af-c80824e76c9d"
      },
      "source": [
        "pd.DataFrame(model.history.history).plot(title=\"loss vs epochs curve\")"
      ],
      "execution_count": 23,
      "outputs": [
        {
          "output_type": "execute_result",
          "data": {
            "text/plain": [
              "<matplotlib.axes._subplots.AxesSubplot at 0x7f993a2a3d68>"
            ]
          },
          "metadata": {
            "tags": []
          },
          "execution_count": 23
        },
        {
          "output_type": "display_data",
          "data": {
            "image/png": "[encoded data removed]",
            "text/plain": [
              "<Figure size 432x288 with 1 Axes>"
            ]
          },
          "metadata": {
            "tags": [],
            "needs_background": "light"
          }
        }
      ]
    },
    {
      "cell_type": "code",
      "metadata": {
        "colab": {
          "base_uri": "https://localhost:8080/"
        },
        "id": "R1NP_zqUE8fK",
        "outputId": "cf4518d2-ccbd-4762-9f94-51c393e3218e"
      },
      "source": [
        "model.history.history.keys()"
      ],
      "execution_count": 24,
      "outputs": [
        {
          "output_type": "execute_result",
          "data": {
            "text/plain": [
              "dict_keys(['loss', 'val_loss'])"
            ]
          },
          "metadata": {
            "tags": []
          },
          "execution_count": 24
        }
      ]
    },
    {
      "cell_type": "code",
      "metadata": {
        "colab": {
          "base_uri": "https://localhost:8080/",
          "height": 298
        },
        "id": "4EPGNotZFCvn",
        "outputId": "1fa5155a-bd82-44a4-efb4-59c32172900a"
      },
      "source": [
        "myloss = model.history.history[\"val_loss\"]\r\n",
        "plt.title(\"validation loss vs epochs\")\r\n",
        "plt.plot(range(len(myloss)),myloss)"
      ],
      "execution_count": 25,
      "outputs": [
        {
          "output_type": "execute_result",
          "data": {
            "text/plain": [
              "[<matplotlib.lines.Line2D at 0x7f993891e668>]"
            ]
          },
          "metadata": {
            "tags": []
          },
          "execution_count": 25
        },
        {
          "output_type": "display_data",
          "data": {
            "image/png": "[encoded data removed]",
            "text/plain": [
              "<Figure size 432x288 with 1 Axes>"
            ]
          },
          "metadata": {
            "tags": [],
            "needs_background": "light"
          }
        }
      ]
    },
    {
      "cell_type": "markdown",
      "metadata": {
        "id": "kw6wjGMFFPie"
      },
      "source": [
        "**FORECAST** "
      ]
    },
    {
      "cell_type": "code",
      "metadata": {
        "colab": {
          "base_uri": "https://localhost:8080/"
        },
        "id": "lPqNY9BMF1Wp",
        "outputId": "77219342-63bd-4509-d12d-d9e5897c232f"
      },
      "source": [
        "test_prediction = []\r\n",
        "\r\n",
        "##last n points from training set\r\n",
        "first_eval_batch = scaled_train[-n_input:]\r\n",
        "current_batch = first_eval_batch.reshape(1,n_input,n_features)\r\n",
        "current_batch.shape"
      ],
      "execution_count": 26,
      "outputs": [
        {
          "output_type": "execute_result",
          "data": {
            "text/plain": [
              "(1, 5, 1)"
            ]
          },
          "metadata": {
            "tags": []
          },
          "execution_count": 26
        }
      ]
    },
    {
      "cell_type": "code",
      "metadata": {
        "id": "norLYly9F-34"
      },
      "source": [
        "## how far in future we can predict\r\n",
        "for i in range(len(test)+7):\r\n",
        "    current_pred = model.predict(current_batch)[0]\r\n",
        "    test_prediction.append(current_pred)\r\n",
        "    current_batch = np.append(current_batch[:,1:,:],[[current_pred]],axis=1)\r\n",
        "    test_prediction"
      ],
      "execution_count": 27,
      "outputs": []
    },
    {
      "cell_type": "code",
      "metadata": {
        "colab": {
          "base_uri": "https://localhost:8080/"
        },
        "id": "NAAD_UO9GI7x",
        "outputId": "d41405e9-2439-4fcd-bb1d-fabfe6f037da"
      },
      "source": [
        "true_prediction = scaler.inverse_transform(test_prediction)\r\n",
        "true_prediction[:,0]"
      ],
      "execution_count": 28,
      "outputs": [
        {
          "output_type": "execute_result",
          "data": {
            "text/plain": [
              "array([11074902.27616072, 11251941.09935236, 11474676.12269163,\n",
              "       11734120.45973969, 12057254.5239253 , 12455896.21289825,\n",
              "       12777465.99832058, 13136740.21085596, 13532858.31198978,\n",
              "       13968503.15709114, 14433161.85455036, 14917278.35256958])"
            ]
          },
          "metadata": {
            "tags": []
          },
          "execution_count": 28
        }
      ]
    },
    {
      "cell_type": "code",
      "metadata": {
        "colab": {
          "base_uri": "https://localhost:8080/"
        },
        "id": "dehb0nkqGOee",
        "outputId": "eb36918f-7e08-4dee-ca6a-45106f6e0a7b"
      },
      "source": [
        "time_series_array = test.index\r\n",
        "for k in range(0,7):\r\n",
        "    time_series_array = time_series_array.append(time_series_array[-1:] + pd.DateOffset(1))\r\n",
        "time_series_array"
      ],
      "execution_count": 29,
      "outputs": [
        {
          "output_type": "execute_result",
          "data": {
            "text/plain": [
              "DatetimeIndex(['2021-01-05', '2021-01-06', '2021-01-07', '2021-01-08',\n",
              "               '2021-01-09', '2021-01-10', '2021-01-11', '2021-01-12',\n",
              "               '2021-01-13', '2021-01-14', '2021-01-15', '2021-01-16'],\n",
              "              dtype='datetime64[ns]', freq=None)"
            ]
          },
          "metadata": {
            "tags": []
          },
          "execution_count": 29
        }
      ]
    },
    {
      "cell_type": "code",
      "metadata": {
        "colab": {
          "base_uri": "https://localhost:8080/",
          "height": 407
        },
        "id": "Mq4uX_-zGTr8",
        "outputId": "34f88c76-8186-4b6f-c340-4e30709f9a32"
      },
      "source": [
        "df_forecast = pd.DataFrame(columns=[\"confirmed\",\"confirmed_predicted\"],index=time_series_array)\r\n",
        "df_forecast.loc[:,\"confirmed_predicted\"] = true_prediction[:,0]\r\n",
        "df_forecast.loc[:,\"confirmed\"] = test[\"confirmed\"]\r\n",
        "df_forecast"
      ],
      "execution_count": 30,
      "outputs": [
        {
          "output_type": "execute_result",
          "data": {
            "text/html": [
              "<div>\n",
              "<style scoped>\n",
              "    .dataframe tbody tr th:only-of-type {\n",
              "        vertical-align: middle;\n",
              "    }\n",
              "\n",
              "    .dataframe tbody tr th {\n",
              "        vertical-align: top;\n",
              "    }\n",
              "\n",
              "    .dataframe thead th {\n",
              "        text-align: right;\n",
              "    }\n",
              "</style>\n",
              "<table border=\"1\" class=\"dataframe\">\n",
              "  <thead>\n",
              "    <tr style=\"text-align: right;\">\n",
              "      <th></th>\n",
              "      <th>confirmed</th>\n",
              "      <th>confirmed_predicted</th>\n",
              "    </tr>\n",
              "  </thead>\n",
              "  <tbody>\n",
              "    <tr>\n",
              "      <th>2021-01-05</th>\n",
              "      <td>10374932.0</td>\n",
              "      <td>1.107490e+07</td>\n",
              "    </tr>\n",
              "    <tr>\n",
              "      <th>2021-01-06</th>\n",
              "      <td>10395278.0</td>\n",
              "      <td>1.125194e+07</td>\n",
              "    </tr>\n",
              "    <tr>\n",
              "      <th>2021-01-07</th>\n",
              "      <td>10413417.0</td>\n",
              "      <td>1.147468e+07</td>\n",
              "    </tr>\n",
              "    <tr>\n",
              "      <th>2021-01-08</th>\n",
              "      <td>10413417.0</td>\n",
              "      <td>1.173412e+07</td>\n",
              "    </tr>\n",
              "    <tr>\n",
              "      <th>2021-01-09</th>\n",
              "      <td>10450284.0</td>\n",
              "      <td>1.205725e+07</td>\n",
              "    </tr>\n",
              "    <tr>\n",
              "      <th>2021-01-10</th>\n",
              "      <td>NaN</td>\n",
              "      <td>1.245590e+07</td>\n",
              "    </tr>\n",
              "    <tr>\n",
              "      <th>2021-01-11</th>\n",
              "      <td>NaN</td>\n",
              "      <td>1.277747e+07</td>\n",
              "    </tr>\n",
              "    <tr>\n",
              "      <th>2021-01-12</th>\n",
              "      <td>NaN</td>\n",
              "      <td>1.313674e+07</td>\n",
              "    </tr>\n",
              "    <tr>\n",
              "      <th>2021-01-13</th>\n",
              "      <td>NaN</td>\n",
              "      <td>1.353286e+07</td>\n",
              "    </tr>\n",
              "    <tr>\n",
              "      <th>2021-01-14</th>\n",
              "      <td>NaN</td>\n",
              "      <td>1.396850e+07</td>\n",
              "    </tr>\n",
              "    <tr>\n",
              "      <th>2021-01-15</th>\n",
              "      <td>NaN</td>\n",
              "      <td>1.443316e+07</td>\n",
              "    </tr>\n",
              "    <tr>\n",
              "      <th>2021-01-16</th>\n",
              "      <td>NaN</td>\n",
              "      <td>1.491728e+07</td>\n",
              "    </tr>\n",
              "  </tbody>\n",
              "</table>\n",
              "</div>"
            ],
            "text/plain": [
              "             confirmed  confirmed_predicted\n",
              "2021-01-05  10374932.0         1.107490e+07\n",
              "2021-01-06  10395278.0         1.125194e+07\n",
              "2021-01-07  10413417.0         1.147468e+07\n",
              "2021-01-08  10413417.0         1.173412e+07\n",
              "2021-01-09  10450284.0         1.205725e+07\n",
              "2021-01-10         NaN         1.245590e+07\n",
              "2021-01-11         NaN         1.277747e+07\n",
              "2021-01-12         NaN         1.313674e+07\n",
              "2021-01-13         NaN         1.353286e+07\n",
              "2021-01-14         NaN         1.396850e+07\n",
              "2021-01-15         NaN         1.443316e+07\n",
              "2021-01-16         NaN         1.491728e+07"
            ]
          },
          "metadata": {
            "tags": []
          },
          "execution_count": 30
        }
      ]
    },
    {
      "cell_type": "code",
      "metadata": {
        "colab": {
          "base_uri": "https://localhost:8080/",
          "height": 322
        },
        "id": "1iHNrEuAGkhf",
        "outputId": "f63203a8-d838-4c4c-c2f3-d130fe4aa187"
      },
      "source": [
        "df_forecast.plot(title=\"India Predictions for next 7 days\")"
      ],
      "execution_count": 31,
      "outputs": [
        {
          "output_type": "execute_result",
          "data": {
            "text/plain": [
              "<matplotlib.axes._subplots.AxesSubplot at 0x7f993877b710>"
            ]
          },
          "metadata": {
            "tags": []
          },
          "execution_count": 31
        },
        {
          "output_type": "display_data",
          "data": {
            "image/png": "[encoded data removed]",
            "text/plain": [
              "<Figure size 432x288 with 1 Axes>"
            ]
          },
          "metadata": {
            "tags": [],
            "needs_background": "light"
          }
        }
      ]
    },
    {
      "cell_type": "code",
      "metadata": {
        "colab": {
          "base_uri": "https://localhost:8080/"
        },
        "id": "V438i4p_Hi37",
        "outputId": "105ef7dd-e033-474e-a314-ad0babbf2085"
      },
      "source": [
        "MAPE = np.mean(np.abs(np.array(df_forecast[\"confirmed\"][:5]) - np.array(df_forecast[\"confirmed_predicted\"][:5]))/np.array(df_forecast[\"confirmed\"][:5]))\r\n",
        "print(\"MAPE is \" + str(MAPE*100) + \" %\")"
      ],
      "execution_count": 34,
      "outputs": [
        {
          "output_type": "stream",
          "text": [
            "MAPE is 10.64777994723597 %\n"
          ],
          "name": "stdout"
        }
      ]
    },
    {
      "cell_type": "code",
      "metadata": {
        "colab": {
          "base_uri": "https://localhost:8080/",
          "height": 407
        },
        "id": "0gvcPFHaGyhQ",
        "outputId": "454c67df-5b25-4e13-e72b-ee17fbda767c"
      },
      "source": [
        "sum_errs = np.sum((np.array(df_forecast[\"confirmed\"][:5]) - np.array(df_forecast[\"confirmed_predicted\"][:5]))**2)\r\n",
        "stdev = np.sqrt(1/(5-2) * sum_errs)\r\n",
        "interval = 1.96 * stdev\r\n",
        "df_forecast[\"confirm_min\"] = df_forecast[\"confirmed_predicted\"] - interval\r\n",
        "df_forecast[\"confirm_max\"] = df_forecast[\"confirmed_predicted\"] + interval\r\n",
        "df_forecast"
      ],
      "execution_count": 35,
      "outputs": [
        {
          "output_type": "execute_result",
          "data": {
            "text/html": [
              "<div>\n",
              "<style scoped>\n",
              "    .dataframe tbody tr th:only-of-type {\n",
              "        vertical-align: middle;\n",
              "    }\n",
              "\n",
              "    .dataframe tbody tr th {\n",
              "        vertical-align: top;\n",
              "    }\n",
              "\n",
              "    .dataframe thead th {\n",
              "        text-align: right;\n",
              "    }\n",
              "</style>\n",
              "<table border=\"1\" class=\"dataframe\">\n",
              "  <thead>\n",
              "    <tr style=\"text-align: right;\">\n",
              "      <th></th>\n",
              "      <th>confirmed</th>\n",
              "      <th>confirmed_predicted</th>\n",
              "      <th>confirm_min</th>\n",
              "      <th>confirm_max</th>\n",
              "    </tr>\n",
              "  </thead>\n",
              "  <tbody>\n",
              "    <tr>\n",
              "      <th>2021-01-05</th>\n",
              "      <td>10374932.0</td>\n",
              "      <td>1.107490e+07</td>\n",
              "      <td>8.150906e+06</td>\n",
              "      <td>1.399890e+07</td>\n",
              "    </tr>\n",
              "    <tr>\n",
              "      <th>2021-01-06</th>\n",
              "      <td>10395278.0</td>\n",
              "      <td>1.125194e+07</td>\n",
              "      <td>8.327945e+06</td>\n",
              "      <td>1.417594e+07</td>\n",
              "    </tr>\n",
              "    <tr>\n",
              "      <th>2021-01-07</th>\n",
              "      <td>10413417.0</td>\n",
              "      <td>1.147468e+07</td>\n",
              "      <td>8.550680e+06</td>\n",
              "      <td>1.439867e+07</td>\n",
              "    </tr>\n",
              "    <tr>\n",
              "      <th>2021-01-08</th>\n",
              "      <td>10413417.0</td>\n",
              "      <td>1.173412e+07</td>\n",
              "      <td>8.810124e+06</td>\n",
              "      <td>1.465812e+07</td>\n",
              "    </tr>\n",
              "    <tr>\n",
              "      <th>2021-01-09</th>\n",
              "      <td>10450284.0</td>\n",
              "      <td>1.205725e+07</td>\n",
              "      <td>9.133258e+06</td>\n",
              "      <td>1.498125e+07</td>\n",
              "    </tr>\n",
              "    <tr>\n",
              "      <th>2021-01-10</th>\n",
              "      <td>NaN</td>\n",
              "      <td>1.245590e+07</td>\n",
              "      <td>9.531900e+06</td>\n",
              "      <td>1.537989e+07</td>\n",
              "    </tr>\n",
              "    <tr>\n",
              "      <th>2021-01-11</th>\n",
              "      <td>NaN</td>\n",
              "      <td>1.277747e+07</td>\n",
              "      <td>9.853470e+06</td>\n",
              "      <td>1.570146e+07</td>\n",
              "    </tr>\n",
              "    <tr>\n",
              "      <th>2021-01-12</th>\n",
              "      <td>NaN</td>\n",
              "      <td>1.313674e+07</td>\n",
              "      <td>1.021274e+07</td>\n",
              "      <td>1.606074e+07</td>\n",
              "    </tr>\n",
              "    <tr>\n",
              "      <th>2021-01-13</th>\n",
              "      <td>NaN</td>\n",
              "      <td>1.353286e+07</td>\n",
              "      <td>1.060886e+07</td>\n",
              "      <td>1.645685e+07</td>\n",
              "    </tr>\n",
              "    <tr>\n",
              "      <th>2021-01-14</th>\n",
              "      <td>NaN</td>\n",
              "      <td>1.396850e+07</td>\n",
              "      <td>1.104451e+07</td>\n",
              "      <td>1.689250e+07</td>\n",
              "    </tr>\n",
              "    <tr>\n",
              "      <th>2021-01-15</th>\n",
              "      <td>NaN</td>\n",
              "      <td>1.443316e+07</td>\n",
              "      <td>1.150917e+07</td>\n",
              "      <td>1.735716e+07</td>\n",
              "    </tr>\n",
              "    <tr>\n",
              "      <th>2021-01-16</th>\n",
              "      <td>NaN</td>\n",
              "      <td>1.491728e+07</td>\n",
              "      <td>1.199328e+07</td>\n",
              "      <td>1.784127e+07</td>\n",
              "    </tr>\n",
              "  </tbody>\n",
              "</table>\n",
              "</div>"
            ],
            "text/plain": [
              "             confirmed  confirmed_predicted   confirm_min   confirm_max\n",
              "2021-01-05  10374932.0         1.107490e+07  8.150906e+06  1.399890e+07\n",
              "2021-01-06  10395278.0         1.125194e+07  8.327945e+06  1.417594e+07\n",
              "2021-01-07  10413417.0         1.147468e+07  8.550680e+06  1.439867e+07\n",
              "2021-01-08  10413417.0         1.173412e+07  8.810124e+06  1.465812e+07\n",
              "2021-01-09  10450284.0         1.205725e+07  9.133258e+06  1.498125e+07\n",
              "2021-01-10         NaN         1.245590e+07  9.531900e+06  1.537989e+07\n",
              "2021-01-11         NaN         1.277747e+07  9.853470e+06  1.570146e+07\n",
              "2021-01-12         NaN         1.313674e+07  1.021274e+07  1.606074e+07\n",
              "2021-01-13         NaN         1.353286e+07  1.060886e+07  1.645685e+07\n",
              "2021-01-14         NaN         1.396850e+07  1.104451e+07  1.689250e+07\n",
              "2021-01-15         NaN         1.443316e+07  1.150917e+07  1.735716e+07\n",
              "2021-01-16         NaN         1.491728e+07  1.199328e+07  1.784127e+07"
            ]
          },
          "metadata": {
            "tags": []
          },
          "execution_count": 35
        }
      ]
    },
    {
      "cell_type": "code",
      "metadata": {
        "colab": {
          "base_uri": "https://localhost:8080/",
          "height": 407
        },
        "id": "R96eOif9HXB7",
        "outputId": "fdd39465-03a7-4b99-ac49-4ed0b23df22b"
      },
      "source": [
        "df_forecast[\"Model Accuracy\"] = round((1-MAPE),2)\r\n",
        "df_forecast"
      ],
      "execution_count": 36,
      "outputs": [
        {
          "output_type": "execute_result",
          "data": {
            "text/html": [
              "<div>\n",
              "<style scoped>\n",
              "    .dataframe tbody tr th:only-of-type {\n",
              "        vertical-align: middle;\n",
              "    }\n",
              "\n",
              "    .dataframe tbody tr th {\n",
              "        vertical-align: top;\n",
              "    }\n",
              "\n",
              "    .dataframe thead th {\n",
              "        text-align: right;\n",
              "    }\n",
              "</style>\n",
              "<table border=\"1\" class=\"dataframe\">\n",
              "  <thead>\n",
              "    <tr style=\"text-align: right;\">\n",
              "      <th></th>\n",
              "      <th>confirmed</th>\n",
              "      <th>confirmed_predicted</th>\n",
              "      <th>confirm_min</th>\n",
              "      <th>confirm_max</th>\n",
              "      <th>Model Accuracy</th>\n",
              "    </tr>\n",
              "  </thead>\n",
              "  <tbody>\n",
              "    <tr>\n",
              "      <th>2021-01-05</th>\n",
              "      <td>10374932.0</td>\n",
              "      <td>1.107490e+07</td>\n",
              "      <td>8.150906e+06</td>\n",
              "      <td>1.399890e+07</td>\n",
              "      <td>0.89</td>\n",
              "    </tr>\n",
              "    <tr>\n",
              "      <th>2021-01-06</th>\n",
              "      <td>10395278.0</td>\n",
              "      <td>1.125194e+07</td>\n",
              "      <td>8.327945e+06</td>\n",
              "      <td>1.417594e+07</td>\n",
              "      <td>0.89</td>\n",
              "    </tr>\n",
              "    <tr>\n",
              "      <th>2021-01-07</th>\n",
              "      <td>10413417.0</td>\n",
              "      <td>1.147468e+07</td>\n",
              "      <td>8.550680e+06</td>\n",
              "      <td>1.439867e+07</td>\n",
              "      <td>0.89</td>\n",
              "    </tr>\n",
              "    <tr>\n",
              "      <th>2021-01-08</th>\n",
              "      <td>10413417.0</td>\n",
              "      <td>1.173412e+07</td>\n",
              "      <td>8.810124e+06</td>\n",
              "      <td>1.465812e+07</td>\n",
              "      <td>0.89</td>\n",
              "    </tr>\n",
              "    <tr>\n",
              "      <th>2021-01-09</th>\n",
              "      <td>10450284.0</td>\n",
              "      <td>1.205725e+07</td>\n",
              "      <td>9.133258e+06</td>\n",
              "      <td>1.498125e+07</td>\n",
              "      <td>0.89</td>\n",
              "    </tr>\n",
              "    <tr>\n",
              "      <th>2021-01-10</th>\n",
              "      <td>NaN</td>\n",
              "      <td>1.245590e+07</td>\n",
              "      <td>9.531900e+06</td>\n",
              "      <td>1.537989e+07</td>\n",
              "      <td>0.89</td>\n",
              "    </tr>\n",
              "    <tr>\n",
              "      <th>2021-01-11</th>\n",
              "      <td>NaN</td>\n",
              "      <td>1.277747e+07</td>\n",
              "      <td>9.853470e+06</td>\n",
              "      <td>1.570146e+07</td>\n",
              "      <td>0.89</td>\n",
              "    </tr>\n",
              "    <tr>\n",
              "      <th>2021-01-12</th>\n",
              "      <td>NaN</td>\n",
              "      <td>1.313674e+07</td>\n",
              "      <td>1.021274e+07</td>\n",
              "      <td>1.606074e+07</td>\n",
              "      <td>0.89</td>\n",
              "    </tr>\n",
              "    <tr>\n",
              "      <th>2021-01-13</th>\n",
              "      <td>NaN</td>\n",
              "      <td>1.353286e+07</td>\n",
              "      <td>1.060886e+07</td>\n",
              "      <td>1.645685e+07</td>\n",
              "      <td>0.89</td>\n",
              "    </tr>\n",
              "    <tr>\n",
              "      <th>2021-01-14</th>\n",
              "      <td>NaN</td>\n",
              "      <td>1.396850e+07</td>\n",
              "      <td>1.104451e+07</td>\n",
              "      <td>1.689250e+07</td>\n",
              "      <td>0.89</td>\n",
              "    </tr>\n",
              "    <tr>\n",
              "      <th>2021-01-15</th>\n",
              "      <td>NaN</td>\n",
              "      <td>1.443316e+07</td>\n",
              "      <td>1.150917e+07</td>\n",
              "      <td>1.735716e+07</td>\n",
              "      <td>0.89</td>\n",
              "    </tr>\n",
              "    <tr>\n",
              "      <th>2021-01-16</th>\n",
              "      <td>NaN</td>\n",
              "      <td>1.491728e+07</td>\n",
              "      <td>1.199328e+07</td>\n",
              "      <td>1.784127e+07</td>\n",
              "      <td>0.89</td>\n",
              "    </tr>\n",
              "  </tbody>\n",
              "</table>\n",
              "</div>"
            ],
            "text/plain": [
              "             confirmed  confirmed_predicted  ...   confirm_max  Model Accuracy\n",
              "2021-01-05  10374932.0         1.107490e+07  ...  1.399890e+07            0.89\n",
              "2021-01-06  10395278.0         1.125194e+07  ...  1.417594e+07            0.89\n",
              "2021-01-07  10413417.0         1.147468e+07  ...  1.439867e+07            0.89\n",
              "2021-01-08  10413417.0         1.173412e+07  ...  1.465812e+07            0.89\n",
              "2021-01-09  10450284.0         1.205725e+07  ...  1.498125e+07            0.89\n",
              "2021-01-10         NaN         1.245590e+07  ...  1.537989e+07            0.89\n",
              "2021-01-11         NaN         1.277747e+07  ...  1.570146e+07            0.89\n",
              "2021-01-12         NaN         1.313674e+07  ...  1.606074e+07            0.89\n",
              "2021-01-13         NaN         1.353286e+07  ...  1.645685e+07            0.89\n",
              "2021-01-14         NaN         1.396850e+07  ...  1.689250e+07            0.89\n",
              "2021-01-15         NaN         1.443316e+07  ...  1.735716e+07            0.89\n",
              "2021-01-16         NaN         1.491728e+07  ...  1.784127e+07            0.89\n",
              "\n",
              "[12 rows x 5 columns]"
            ]
          },
          "metadata": {
            "tags": []
          },
          "execution_count": 36
        }
      ]
    },
    {
      "cell_type": "code",
      "metadata": {
        "colab": {
          "base_uri": "https://localhost:8080/",
          "height": 407
        },
        "id": "FlaX-BlIHnsg",
        "outputId": "98a33ca5-fa04-47c6-d766-573318268200"
      },
      "source": [
        "from datetime import datetime\r\n",
        "df_forecast[\"Country\"] = country\r\n",
        "df_forecast[\"Execution date\"] = str(datetime.now()).split()[0]\r\n",
        "df_forecast"
      ],
      "execution_count": 37,
      "outputs": [
        {
          "output_type": "execute_result",
          "data": {
            "text/html": [
              "<div>\n",
              "<style scoped>\n",
              "    .dataframe tbody tr th:only-of-type {\n",
              "        vertical-align: middle;\n",
              "    }\n",
              "\n",
              "    .dataframe tbody tr th {\n",
              "        vertical-align: top;\n",
              "    }\n",
              "\n",
              "    .dataframe thead th {\n",
              "        text-align: right;\n",
              "    }\n",
              "</style>\n",
              "<table border=\"1\" class=\"dataframe\">\n",
              "  <thead>\n",
              "    <tr style=\"text-align: right;\">\n",
              "      <th></th>\n",
              "      <th>confirmed</th>\n",
              "      <th>confirmed_predicted</th>\n",
              "      <th>confirm_min</th>\n",
              "      <th>confirm_max</th>\n",
              "      <th>Model Accuracy</th>\n",
              "      <th>Country</th>\n",
              "      <th>Execution date</th>\n",
              "    </tr>\n",
              "  </thead>\n",
              "  <tbody>\n",
              "    <tr>\n",
              "      <th>2021-01-05</th>\n",
              "      <td>10374932.0</td>\n",
              "      <td>1.107490e+07</td>\n",
              "      <td>8.150906e+06</td>\n",
              "      <td>1.399890e+07</td>\n",
              "      <td>0.89</td>\n",
              "      <td>India</td>\n",
              "      <td>2021-01-11</td>\n",
              "    </tr>\n",
              "    <tr>\n",
              "      <th>2021-01-06</th>\n",
              "      <td>10395278.0</td>\n",
              "      <td>1.125194e+07</td>\n",
              "      <td>8.327945e+06</td>\n",
              "      <td>1.417594e+07</td>\n",
              "      <td>0.89</td>\n",
              "      <td>India</td>\n",
              "      <td>2021-01-11</td>\n",
              "    </tr>\n",
              "    <tr>\n",
              "      <th>2021-01-07</th>\n",
              "      <td>10413417.0</td>\n",
              "      <td>1.147468e+07</td>\n",
              "      <td>8.550680e+06</td>\n",
              "      <td>1.439867e+07</td>\n",
              "      <td>0.89</td>\n",
              "      <td>India</td>\n",
              "      <td>2021-01-11</td>\n",
              "    </tr>\n",
              "    <tr>\n",
              "      <th>2021-01-08</th>\n",
              "      <td>10413417.0</td>\n",
              "      <td>1.173412e+07</td>\n",
              "      <td>8.810124e+06</td>\n",
              "      <td>1.465812e+07</td>\n",
              "      <td>0.89</td>\n",
              "      <td>India</td>\n",
              "      <td>2021-01-11</td>\n",
              "    </tr>\n",
              "    <tr>\n",
              "      <th>2021-01-09</th>\n",
              "      <td>10450284.0</td>\n",
              "      <td>1.205725e+07</td>\n",
              "      <td>9.133258e+06</td>\n",
              "      <td>1.498125e+07</td>\n",
              "      <td>0.89</td>\n",
              "      <td>India</td>\n",
              "      <td>2021-01-11</td>\n",
              "    </tr>\n",
              "    <tr>\n",
              "      <th>2021-01-10</th>\n",
              "      <td>NaN</td>\n",
              "      <td>1.245590e+07</td>\n",
              "      <td>9.531900e+06</td>\n",
              "      <td>1.537989e+07</td>\n",
              "      <td>0.89</td>\n",
              "      <td>India</td>\n",
              "      <td>2021-01-11</td>\n",
              "    </tr>\n",
              "    <tr>\n",
              "      <th>2021-01-11</th>\n",
              "      <td>NaN</td>\n",
              "      <td>1.277747e+07</td>\n",
              "      <td>9.853470e+06</td>\n",
              "      <td>1.570146e+07</td>\n",
              "      <td>0.89</td>\n",
              "      <td>India</td>\n",
              "      <td>2021-01-11</td>\n",
              "    </tr>\n",
              "    <tr>\n",
              "      <th>2021-01-12</th>\n",
              "      <td>NaN</td>\n",
              "      <td>1.313674e+07</td>\n",
              "      <td>1.021274e+07</td>\n",
              "      <td>1.606074e+07</td>\n",
              "      <td>0.89</td>\n",
              "      <td>India</td>\n",
              "      <td>2021-01-11</td>\n",
              "    </tr>\n",
              "    <tr>\n",
              "      <th>2021-01-13</th>\n",
              "      <td>NaN</td>\n",
              "      <td>1.353286e+07</td>\n",
              "      <td>1.060886e+07</td>\n",
              "      <td>1.645685e+07</td>\n",
              "      <td>0.89</td>\n",
              "      <td>India</td>\n",
              "      <td>2021-01-11</td>\n",
              "    </tr>\n",
              "    <tr>\n",
              "      <th>2021-01-14</th>\n",
              "      <td>NaN</td>\n",
              "      <td>1.396850e+07</td>\n",
              "      <td>1.104451e+07</td>\n",
              "      <td>1.689250e+07</td>\n",
              "      <td>0.89</td>\n",
              "      <td>India</td>\n",
              "      <td>2021-01-11</td>\n",
              "    </tr>\n",
              "    <tr>\n",
              "      <th>2021-01-15</th>\n",
              "      <td>NaN</td>\n",
              "      <td>1.443316e+07</td>\n",
              "      <td>1.150917e+07</td>\n",
              "      <td>1.735716e+07</td>\n",
              "      <td>0.89</td>\n",
              "      <td>India</td>\n",
              "      <td>2021-01-11</td>\n",
              "    </tr>\n",
              "    <tr>\n",
              "      <th>2021-01-16</th>\n",
              "      <td>NaN</td>\n",
              "      <td>1.491728e+07</td>\n",
              "      <td>1.199328e+07</td>\n",
              "      <td>1.784127e+07</td>\n",
              "      <td>0.89</td>\n",
              "      <td>India</td>\n",
              "      <td>2021-01-11</td>\n",
              "    </tr>\n",
              "  </tbody>\n",
              "</table>\n",
              "</div>"
            ],
            "text/plain": [
              "             confirmed  confirmed_predicted  ...  Country  Execution date\n",
              "2021-01-05  10374932.0         1.107490e+07  ...    India      2021-01-11\n",
              "2021-01-06  10395278.0         1.125194e+07  ...    India      2021-01-11\n",
              "2021-01-07  10413417.0         1.147468e+07  ...    India      2021-01-11\n",
              "2021-01-08  10413417.0         1.173412e+07  ...    India      2021-01-11\n",
              "2021-01-09  10450284.0         1.205725e+07  ...    India      2021-01-11\n",
              "2021-01-10         NaN         1.245590e+07  ...    India      2021-01-11\n",
              "2021-01-11         NaN         1.277747e+07  ...    India      2021-01-11\n",
              "2021-01-12         NaN         1.313674e+07  ...    India      2021-01-11\n",
              "2021-01-13         NaN         1.353286e+07  ...    India      2021-01-11\n",
              "2021-01-14         NaN         1.396850e+07  ...    India      2021-01-11\n",
              "2021-01-15         NaN         1.443316e+07  ...    India      2021-01-11\n",
              "2021-01-16         NaN         1.491728e+07  ...    India      2021-01-11\n",
              "\n",
              "[12 rows x 7 columns]"
            ]
          },
          "metadata": {
            "tags": []
          },
          "execution_count": 37
        }
      ]
    },
    {
      "cell_type": "code",
      "metadata": {
        "colab": {
          "base_uri": "https://localhost:8080/",
          "height": 317
        },
        "id": "cngJQQnyHyXp",
        "outputId": "65fbb1e8-5e5b-4de2-d7b0-fe0c1c895dac"
      },
      "source": [
        "model.save(\"models/confirmed_{0}_{1}.h5\".format(country,str(datetime.now()).split()[0]))\r\n",
        "df_forecast.iloc[:,:4].plot()"
      ],
      "execution_count": 38,
      "outputs": [
        {
          "output_type": "execute_result",
          "data": {
            "text/plain": [
              "<matplotlib.axes._subplots.AxesSubplot at 0x7f9938887550>"
            ]
          },
          "metadata": {
            "tags": []
          },
          "execution_count": 38
        },
        {
          "output_type": "display_data",
          "data": {
            "image/png": "[encoded data removed]",
            "text/plain": [
              "<Figure size 432x288 with 1 Axes>"
            ]
          },
          "metadata": {
            "tags": [],
            "needs_background": "light"
          }
        }
      ]
    },
    {
      "cell_type": "code",
      "metadata": {
        "colab": {
          "base_uri": "https://localhost:8080/",
          "height": 335
        },
        "id": "WG45b-8hIAFv",
        "outputId": "6cfbfea4-9d5a-4d59-e363-3cd47e295d68"
      },
      "source": [
        "fig= plt.figure(figsize=(10,5))\r\n",
        "plt.title(\"{} - Results\".format(country))\r\n",
        "plt.plot(df_forecast.index,df_forecast[\"confirmed\"],label=\"confirmed\")\r\n",
        "plt.plot(df_forecast.index,df_forecast[\"confirmed_predicted\"],label=\"confirmed_predicted\")\r\n",
        "#ax.fill_between(x, (y-ci), (y+ci), color='b', alpha=.1)\r\n",
        "plt.fill_between(df_forecast.index,df_forecast[\"confirm_min\"],df_forecast[\"confirm_max\"],color=\"indigo\",alpha=0.09,label=\"Confidence Interval\")\r\n",
        "plt.legend()\r\n",
        "plt.show()"
      ],
      "execution_count": 39,
      "outputs": [
        {
          "output_type": "display_data",
          "data": {
            "image/png": "[encoded data removed]",
            "text/plain": [
              "<Figure size 720x360 with 1 Axes>"
            ]
          },
          "metadata": {
            "tags": [],
            "needs_background": "light"
          }
        }
      ]
    },
    {
      "cell_type": "code",
      "metadata": {
        "colab": {
          "base_uri": "https://localhost:8080/"
        },
        "id": "2i8h2SnOIMS8",
        "outputId": "d102aa5a-db9d-403e-f358-30d64324bc16"
      },
      "source": [
        "from keras.models import load_model\r\n",
        "name = \"models/confirmed_{0}_{1}.h5\".format(country,str(datetime.now()).split()[0])\r\n",
        "model1 = load_model(name)\r\n",
        "model1.summary()"
      ],
      "execution_count": 41,
      "outputs": [
        {
          "output_type": "stream",
          "text": [
            "Model: \"sequential\"\n",
            "_________________________________________________________________\n",
            "Layer (type)                 Output Shape              Param #   \n",
            "=================================================================\n",
            "lstm (LSTM)                  (None, 150)               91200     \n",
            "_________________________________________________________________\n",
            "dense (Dense)                (None, 75)                11325     \n",
            "_________________________________________________________________\n",
            "dense_1 (Dense)              (None, 1)                 76        \n",
            "=================================================================\n",
            "Total params: 102,601\n",
            "Trainable params: 102,601\n",
            "Non-trainable params: 0\n",
            "_________________________________________________________________\n"
          ],
          "name": "stdout"
        }
      ]
    }
  ]
}