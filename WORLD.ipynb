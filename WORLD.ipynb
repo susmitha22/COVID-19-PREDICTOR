{
  "nbformat": 4,
  "nbformat_minor": 0,
  "metadata": {
    "colab": {
      "name": "WORLD.ipynb",
      "provenance": []
    },
    "kernelspec": {
      "name": "python3",
      "display_name": "Python 3"
    },
    "widgets": {
      "application/vnd.jupyter.widget-state+json": {
        "607c0e0e277a4f3ca4b7d51e910fd092": {
          "model_module": "@jupyter-widgets/controls",
          "model_name": "VBoxModel",
          "state": {
            "_view_name": "VBoxView",
            "_dom_classes": [
              "widget-interact"
            ],
            "_model_name": "VBoxModel",
            "_view_module": "@jupyter-widgets/controls",
            "_model_module_version": "1.5.0",
            "_view_count": null,
            "_view_module_version": "1.5.0",
            "box_style": "",
            "layout": "IPY_MODEL_2cc691da7780409ca1109b0cf8eb87b6",
            "_model_module": "@jupyter-widgets/controls",
            "children": [
              "IPY_MODEL_12ffbc699ba3444294b2dde54dc0af23",
              "IPY_MODEL_3e17751748cb4ff58b9cdb8c09531d2c"
            ]
          }
        },
        "2cc691da7780409ca1109b0cf8eb87b6": {
          "model_module": "@jupyter-widgets/base",
          "model_name": "LayoutModel",
          "state": {
            "_view_name": "LayoutView",
            "grid_template_rows": null,
            "right": null,
            "justify_content": null,
            "_view_module": "@jupyter-widgets/base",
            "overflow": null,
            "_model_module_version": "1.2.0",
            "_view_count": null,
            "flex_flow": null,
            "width": null,
            "min_width": null,
            "border": null,
            "align_items": null,
            "bottom": null,
            "_model_module": "@jupyter-widgets/base",
            "top": null,
            "grid_column": null,
            "overflow_y": null,
            "overflow_x": null,
            "grid_auto_flow": null,
            "grid_area": null,
            "grid_template_columns": null,
            "flex": null,
            "_model_name": "LayoutModel",
            "justify_items": null,
            "grid_row": null,
            "max_height": null,
            "align_content": null,
            "visibility": null,
            "align_self": null,
            "height": null,
            "min_height": null,
            "padding": null,
            "grid_auto_rows": null,
            "grid_gap": null,
            "max_width": null,
            "order": null,
            "_view_module_version": "1.2.0",
            "grid_template_areas": null,
            "object_position": null,
            "object_fit": null,
            "grid_auto_columns": null,
            "margin": null,
            "display": null,
            "left": null
          }
        },
        "12ffbc699ba3444294b2dde54dc0af23": {
          "model_module": "@jupyter-widgets/controls",
          "model_name": "TextModel",
          "state": {
            "_view_name": "TextView",
            "style": "IPY_MODEL_56bf13058f394d4ca21e03c1c8ed8acd",
            "_dom_classes": [],
            "description": "n",
            "_model_name": "TextModel",
            "placeholder": "​",
            "_view_module": "@jupyter-widgets/controls",
            "_model_module_version": "1.5.0",
            "value": "10",
            "_view_count": null,
            "disabled": false,
            "_view_module_version": "1.5.0",
            "continuous_update": true,
            "description_tooltip": null,
            "_model_module": "@jupyter-widgets/controls",
            "layout": "IPY_MODEL_72fabd5945744c888cfde74b0592d5fd"
          }
        },
        "3e17751748cb4ff58b9cdb8c09531d2c": {
          "model_module": "@jupyter-widgets/output",
          "model_name": "OutputModel",
          "state": {
            "_view_name": "OutputView",
            "msg_id": "",
            "_dom_classes": [],
            "_model_name": "OutputModel",
            "outputs": [
              {
                "output_type": "display_data",
                "metadata": {
                  "tags": []
                },
                "text/html": "<style  type=\"text/css\" >\n#T_71ce72b4_5380_11eb_a553_0242ac1c0002row0_col4,#T_71ce72b4_5380_11eb_a553_0242ac1c0002row1_col4,#T_71ce72b4_5380_11eb_a553_0242ac1c0002row2_col4,#T_71ce72b4_5380_11eb_a553_0242ac1c0002row3_col4,#T_71ce72b4_5380_11eb_a553_0242ac1c0002row4_col4,#T_71ce72b4_5380_11eb_a553_0242ac1c0002row5_col4,#T_71ce72b4_5380_11eb_a553_0242ac1c0002row6_col4,#T_71ce72b4_5380_11eb_a553_0242ac1c0002row7_col4,#T_71ce72b4_5380_11eb_a553_0242ac1c0002row8_col4,#T_71ce72b4_5380_11eb_a553_0242ac1c0002row9_col4{\n            background-color:  purple;\n        }#T_71ce72b4_5380_11eb_a553_0242ac1c0002row0_col5,#T_71ce72b4_5380_11eb_a553_0242ac1c0002row1_col5,#T_71ce72b4_5380_11eb_a553_0242ac1c0002row2_col5,#T_71ce72b4_5380_11eb_a553_0242ac1c0002row3_col5,#T_71ce72b4_5380_11eb_a553_0242ac1c0002row4_col5,#T_71ce72b4_5380_11eb_a553_0242ac1c0002row5_col5,#T_71ce72b4_5380_11eb_a553_0242ac1c0002row6_col5,#T_71ce72b4_5380_11eb_a553_0242ac1c0002row7_col5,#T_71ce72b4_5380_11eb_a553_0242ac1c0002row8_col5,#T_71ce72b4_5380_11eb_a553_0242ac1c0002row9_col5{\n            background-color:  red;\n        }#T_71ce72b4_5380_11eb_a553_0242ac1c0002row0_col6,#T_71ce72b4_5380_11eb_a553_0242ac1c0002row1_col6,#T_71ce72b4_5380_11eb_a553_0242ac1c0002row2_col6,#T_71ce72b4_5380_11eb_a553_0242ac1c0002row3_col6,#T_71ce72b4_5380_11eb_a553_0242ac1c0002row4_col6,#T_71ce72b4_5380_11eb_a553_0242ac1c0002row5_col6,#T_71ce72b4_5380_11eb_a553_0242ac1c0002row6_col6,#T_71ce72b4_5380_11eb_a553_0242ac1c0002row7_col6,#T_71ce72b4_5380_11eb_a553_0242ac1c0002row8_col6,#T_71ce72b4_5380_11eb_a553_0242ac1c0002row9_col6{\n            background-color:  grey;\n        }</style><table id=\"T_71ce72b4_5380_11eb_a553_0242ac1c0002\" ><thead>    <tr>        <th class=\"blank level0\" ></th>        <th class=\"col_heading level0 col0\" >country</th>        <th class=\"col_heading level0 col1\" >last_update</th>        <th class=\"col_heading level0 col2\" >lat</th>        <th class=\"col_heading level0 col3\" >long_</th>        <th class=\"col_heading level0 col4\" >confirmed</th>        <th class=\"col_heading level0 col5\" >deaths</th>        <th class=\"col_heading level0 col6\" >recovered</th>        <th class=\"col_heading level0 col7\" >active</th>        <th class=\"col_heading level0 col8\" >incident_rate</th>        <th class=\"col_heading level0 col9\" >people_tested</th>        <th class=\"col_heading level0 col10\" >people_hospitalized</th>        <th class=\"col_heading level0 col11\" >mortality_rate</th>        <th class=\"col_heading level0 col12\" >uid</th>        <th class=\"col_heading level0 col13\" >iso3</th>    </tr></thead><tbody>\n                <tr>\n                        <th id=\"T_71ce72b4_5380_11eb_a553_0242ac1c0002level0_row0\" class=\"row_heading level0 row0\" >177</th>\n                        <td id=\"T_71ce72b4_5380_11eb_a553_0242ac1c0002row0_col0\" class=\"data row0 col0\" >US</td>\n                        <td id=\"T_71ce72b4_5380_11eb_a553_0242ac1c0002row0_col1\" class=\"data row0 col1\" >2021-01-10 19:22:28</td>\n                        <td id=\"T_71ce72b4_5380_11eb_a553_0242ac1c0002row0_col2\" class=\"data row0 col2\" >40.000000</td>\n                        <td id=\"T_71ce72b4_5380_11eb_a553_0242ac1c0002row0_col3\" class=\"data row0 col3\" >-100.000000</td>\n                        <td id=\"T_71ce72b4_5380_11eb_a553_0242ac1c0002row0_col4\" class=\"data row0 col4\" >22255827.000000</td>\n                        <td id=\"T_71ce72b4_5380_11eb_a553_0242ac1c0002row0_col5\" class=\"data row0 col5\" >373463.000000</td>\n                        <td id=\"T_71ce72b4_5380_11eb_a553_0242ac1c0002row0_col6\" class=\"data row0 col6\" >nan</td>\n                        <td id=\"T_71ce72b4_5380_11eb_a553_0242ac1c0002row0_col7\" class=\"data row0 col7\" >21882364.000000</td>\n                        <td id=\"T_71ce72b4_5380_11eb_a553_0242ac1c0002row0_col8\" class=\"data row0 col8\" >6755.115212</td>\n                        <td id=\"T_71ce72b4_5380_11eb_a553_0242ac1c0002row0_col9\" class=\"data row0 col9\" >nan</td>\n                        <td id=\"T_71ce72b4_5380_11eb_a553_0242ac1c0002row0_col10\" class=\"data row0 col10\" >nan</td>\n                        <td id=\"T_71ce72b4_5380_11eb_a553_0242ac1c0002row0_col11\" class=\"data row0 col11\" >1.678046</td>\n                        <td id=\"T_71ce72b4_5380_11eb_a553_0242ac1c0002row0_col12\" class=\"data row0 col12\" >840</td>\n                        <td id=\"T_71ce72b4_5380_11eb_a553_0242ac1c0002row0_col13\" class=\"data row0 col13\" >USA</td>\n            </tr>\n            <tr>\n                        <th id=\"T_71ce72b4_5380_11eb_a553_0242ac1c0002level0_row1\" class=\"row_heading level0 row1\" >79</th>\n                        <td id=\"T_71ce72b4_5380_11eb_a553_0242ac1c0002row1_col0\" class=\"data row1 col0\" >India</td>\n                        <td id=\"T_71ce72b4_5380_11eb_a553_0242ac1c0002row1_col1\" class=\"data row1 col1\" >2021-01-10 19:22:28</td>\n                        <td id=\"T_71ce72b4_5380_11eb_a553_0242ac1c0002row1_col2\" class=\"data row1 col2\" >20.593684</td>\n                        <td id=\"T_71ce72b4_5380_11eb_a553_0242ac1c0002row1_col3\" class=\"data row1 col3\" >78.962880</td>\n                        <td id=\"T_71ce72b4_5380_11eb_a553_0242ac1c0002row1_col4\" class=\"data row1 col4\" >10450284.000000</td>\n                        <td id=\"T_71ce72b4_5380_11eb_a553_0242ac1c0002row1_col5\" class=\"data row1 col5\" >150999.000000</td>\n                        <td id=\"T_71ce72b4_5380_11eb_a553_0242ac1c0002row1_col6\" class=\"data row1 col6\" >10075950.000000</td>\n                        <td id=\"T_71ce72b4_5380_11eb_a553_0242ac1c0002row1_col7\" class=\"data row1 col7\" >223335.000000</td>\n                        <td id=\"T_71ce72b4_5380_11eb_a553_0242ac1c0002row1_col8\" class=\"data row1 col8\" >757.264550</td>\n                        <td id=\"T_71ce72b4_5380_11eb_a553_0242ac1c0002row1_col9\" class=\"data row1 col9\" >nan</td>\n                        <td id=\"T_71ce72b4_5380_11eb_a553_0242ac1c0002row1_col10\" class=\"data row1 col10\" >nan</td>\n                        <td id=\"T_71ce72b4_5380_11eb_a553_0242ac1c0002row1_col11\" class=\"data row1 col11\" >1.444927</td>\n                        <td id=\"T_71ce72b4_5380_11eb_a553_0242ac1c0002row1_col12\" class=\"data row1 col12\" >356</td>\n                        <td id=\"T_71ce72b4_5380_11eb_a553_0242ac1c0002row1_col13\" class=\"data row1 col13\" >IND</td>\n            </tr>\n            <tr>\n                        <th id=\"T_71ce72b4_5380_11eb_a553_0242ac1c0002level0_row2\" class=\"row_heading level0 row2\" >23</th>\n                        <td id=\"T_71ce72b4_5380_11eb_a553_0242ac1c0002row2_col0\" class=\"data row2 col0\" >Brazil</td>\n                        <td id=\"T_71ce72b4_5380_11eb_a553_0242ac1c0002row2_col1\" class=\"data row2 col1\" >2021-01-10 19:22:28</td>\n                        <td id=\"T_71ce72b4_5380_11eb_a553_0242ac1c0002row2_col2\" class=\"data row2 col2\" >-14.235000</td>\n                        <td id=\"T_71ce72b4_5380_11eb_a553_0242ac1c0002row2_col3\" class=\"data row2 col3\" >-51.925300</td>\n                        <td id=\"T_71ce72b4_5380_11eb_a553_0242ac1c0002row2_col4\" class=\"data row2 col4\" >8075998.000000</td>\n                        <td id=\"T_71ce72b4_5380_11eb_a553_0242ac1c0002row2_col5\" class=\"data row2 col5\" >202631.000000</td>\n                        <td id=\"T_71ce72b4_5380_11eb_a553_0242ac1c0002row2_col6\" class=\"data row2 col6\" >7208704.000000</td>\n                        <td id=\"T_71ce72b4_5380_11eb_a553_0242ac1c0002row2_col7\" class=\"data row2 col7\" >664663.000000</td>\n                        <td id=\"T_71ce72b4_5380_11eb_a553_0242ac1c0002row2_col8\" class=\"data row2 col8\" >3799.407440</td>\n                        <td id=\"T_71ce72b4_5380_11eb_a553_0242ac1c0002row2_col9\" class=\"data row2 col9\" >nan</td>\n                        <td id=\"T_71ce72b4_5380_11eb_a553_0242ac1c0002row2_col10\" class=\"data row2 col10\" >nan</td>\n                        <td id=\"T_71ce72b4_5380_11eb_a553_0242ac1c0002row2_col11\" class=\"data row2 col11\" >2.509052</td>\n                        <td id=\"T_71ce72b4_5380_11eb_a553_0242ac1c0002row2_col12\" class=\"data row2 col12\" >76</td>\n                        <td id=\"T_71ce72b4_5380_11eb_a553_0242ac1c0002row2_col13\" class=\"data row2 col13\" >BRA</td>\n            </tr>\n            <tr>\n                        <th id=\"T_71ce72b4_5380_11eb_a553_0242ac1c0002level0_row3\" class=\"row_heading level0 row3\" >141</th>\n                        <td id=\"T_71ce72b4_5380_11eb_a553_0242ac1c0002row3_col0\" class=\"data row3 col0\" >Russia</td>\n                        <td id=\"T_71ce72b4_5380_11eb_a553_0242ac1c0002row3_col1\" class=\"data row3 col1\" >2021-01-10 19:22:28</td>\n                        <td id=\"T_71ce72b4_5380_11eb_a553_0242ac1c0002row3_col2\" class=\"data row3 col2\" >61.524000</td>\n                        <td id=\"T_71ce72b4_5380_11eb_a553_0242ac1c0002row3_col3\" class=\"data row3 col3\" >105.318800</td>\n                        <td id=\"T_71ce72b4_5380_11eb_a553_0242ac1c0002row3_col4\" class=\"data row3 col4\" >3366715.000000</td>\n                        <td id=\"T_71ce72b4_5380_11eb_a553_0242ac1c0002row3_col5\" class=\"data row3 col5\" >60963.000000</td>\n                        <td id=\"T_71ce72b4_5380_11eb_a553_0242ac1c0002row3_col6\" class=\"data row3 col6\" >2750102.000000</td>\n                        <td id=\"T_71ce72b4_5380_11eb_a553_0242ac1c0002row3_col7\" class=\"data row3 col7\" >555650.000000</td>\n                        <td id=\"T_71ce72b4_5380_11eb_a553_0242ac1c0002row3_col8\" class=\"data row3 col8\" >2307.004802</td>\n                        <td id=\"T_71ce72b4_5380_11eb_a553_0242ac1c0002row3_col9\" class=\"data row3 col9\" >nan</td>\n                        <td id=\"T_71ce72b4_5380_11eb_a553_0242ac1c0002row3_col10\" class=\"data row3 col10\" >nan</td>\n                        <td id=\"T_71ce72b4_5380_11eb_a553_0242ac1c0002row3_col11\" class=\"data row3 col11\" >1.810756</td>\n                        <td id=\"T_71ce72b4_5380_11eb_a553_0242ac1c0002row3_col12\" class=\"data row3 col12\" >643</td>\n                        <td id=\"T_71ce72b4_5380_11eb_a553_0242ac1c0002row3_col13\" class=\"data row3 col13\" >RUS</td>\n            </tr>\n            <tr>\n                        <th id=\"T_71ce72b4_5380_11eb_a553_0242ac1c0002level0_row4\" class=\"row_heading level0 row4\" >181</th>\n                        <td id=\"T_71ce72b4_5380_11eb_a553_0242ac1c0002row4_col0\" class=\"data row4 col0\" >United Kingdom</td>\n                        <td id=\"T_71ce72b4_5380_11eb_a553_0242ac1c0002row4_col1\" class=\"data row4 col1\" >2021-01-10 19:22:28</td>\n                        <td id=\"T_71ce72b4_5380_11eb_a553_0242ac1c0002row4_col2\" class=\"data row4 col2\" >55.000000</td>\n                        <td id=\"T_71ce72b4_5380_11eb_a553_0242ac1c0002row4_col3\" class=\"data row4 col3\" >-3.000000</td>\n                        <td id=\"T_71ce72b4_5380_11eb_a553_0242ac1c0002row4_col4\" class=\"data row4 col4\" >3081305.000000</td>\n                        <td id=\"T_71ce72b4_5380_11eb_a553_0242ac1c0002row4_col5\" class=\"data row4 col5\" >81563.000000</td>\n                        <td id=\"T_71ce72b4_5380_11eb_a553_0242ac1c0002row4_col6\" class=\"data row4 col6\" >6862.000000</td>\n                        <td id=\"T_71ce72b4_5380_11eb_a553_0242ac1c0002row4_col7\" class=\"data row4 col7\" >2992880.000000</td>\n                        <td id=\"T_71ce72b4_5380_11eb_a553_0242ac1c0002row4_col8\" class=\"data row4 col8\" >4538.940015</td>\n                        <td id=\"T_71ce72b4_5380_11eb_a553_0242ac1c0002row4_col9\" class=\"data row4 col9\" >nan</td>\n                        <td id=\"T_71ce72b4_5380_11eb_a553_0242ac1c0002row4_col10\" class=\"data row4 col10\" >nan</td>\n                        <td id=\"T_71ce72b4_5380_11eb_a553_0242ac1c0002row4_col11\" class=\"data row4 col11\" >2.647028</td>\n                        <td id=\"T_71ce72b4_5380_11eb_a553_0242ac1c0002row4_col12\" class=\"data row4 col12\" >826</td>\n                        <td id=\"T_71ce72b4_5380_11eb_a553_0242ac1c0002row4_col13\" class=\"data row4 col13\" >GBR</td>\n            </tr>\n            <tr>\n                        <th id=\"T_71ce72b4_5380_11eb_a553_0242ac1c0002level0_row5\" class=\"row_heading level0 row5\" >62</th>\n                        <td id=\"T_71ce72b4_5380_11eb_a553_0242ac1c0002row5_col0\" class=\"data row5 col0\" >France</td>\n                        <td id=\"T_71ce72b4_5380_11eb_a553_0242ac1c0002row5_col1\" class=\"data row5 col1\" >2021-01-10 19:22:28</td>\n                        <td id=\"T_71ce72b4_5380_11eb_a553_0242ac1c0002row5_col2\" class=\"data row5 col2\" >46.227600</td>\n                        <td id=\"T_71ce72b4_5380_11eb_a553_0242ac1c0002row5_col3\" class=\"data row5 col3\" >2.213700</td>\n                        <td id=\"T_71ce72b4_5380_11eb_a553_0242ac1c0002row5_col4\" class=\"data row5 col4\" >2840864.000000</td>\n                        <td id=\"T_71ce72b4_5380_11eb_a553_0242ac1c0002row5_col5\" class=\"data row5 col5\" >67885.000000</td>\n                        <td id=\"T_71ce72b4_5380_11eb_a553_0242ac1c0002row5_col6\" class=\"data row5 col6\" >208354.000000</td>\n                        <td id=\"T_71ce72b4_5380_11eb_a553_0242ac1c0002row5_col7\" class=\"data row5 col7\" >2564625.000000</td>\n                        <td id=\"T_71ce72b4_5380_11eb_a553_0242ac1c0002row5_col8\" class=\"data row5 col8\" >4352.246283</td>\n                        <td id=\"T_71ce72b4_5380_11eb_a553_0242ac1c0002row5_col9\" class=\"data row5 col9\" >nan</td>\n                        <td id=\"T_71ce72b4_5380_11eb_a553_0242ac1c0002row5_col10\" class=\"data row5 col10\" >nan</td>\n                        <td id=\"T_71ce72b4_5380_11eb_a553_0242ac1c0002row5_col11\" class=\"data row5 col11\" >2.389590</td>\n                        <td id=\"T_71ce72b4_5380_11eb_a553_0242ac1c0002row5_col12\" class=\"data row5 col12\" >250</td>\n                        <td id=\"T_71ce72b4_5380_11eb_a553_0242ac1c0002row5_col13\" class=\"data row5 col13\" >FRA</td>\n            </tr>\n            <tr>\n                        <th id=\"T_71ce72b4_5380_11eb_a553_0242ac1c0002level0_row6\" class=\"row_heading level0 row6\" >176</th>\n                        <td id=\"T_71ce72b4_5380_11eb_a553_0242ac1c0002row6_col0\" class=\"data row6 col0\" >Turkey</td>\n                        <td id=\"T_71ce72b4_5380_11eb_a553_0242ac1c0002row6_col1\" class=\"data row6 col1\" >2021-01-10 19:22:28</td>\n                        <td id=\"T_71ce72b4_5380_11eb_a553_0242ac1c0002row6_col2\" class=\"data row6 col2\" >38.963700</td>\n                        <td id=\"T_71ce72b4_5380_11eb_a553_0242ac1c0002row6_col3\" class=\"data row6 col3\" >35.243300</td>\n                        <td id=\"T_71ce72b4_5380_11eb_a553_0242ac1c0002row6_col4\" class=\"data row6 col4\" >2326256.000000</td>\n                        <td id=\"T_71ce72b4_5380_11eb_a553_0242ac1c0002row6_col5\" class=\"data row6 col5\" >22807.000000</td>\n                        <td id=\"T_71ce72b4_5380_11eb_a553_0242ac1c0002row6_col6\" class=\"data row6 col6\" >2198150.000000</td>\n                        <td id=\"T_71ce72b4_5380_11eb_a553_0242ac1c0002row6_col7\" class=\"data row6 col7\" >105299.000000</td>\n                        <td id=\"T_71ce72b4_5380_11eb_a553_0242ac1c0002row6_col8\" class=\"data row6 col8\" >2758.218798</td>\n                        <td id=\"T_71ce72b4_5380_11eb_a553_0242ac1c0002row6_col9\" class=\"data row6 col9\" >nan</td>\n                        <td id=\"T_71ce72b4_5380_11eb_a553_0242ac1c0002row6_col10\" class=\"data row6 col10\" >nan</td>\n                        <td id=\"T_71ce72b4_5380_11eb_a553_0242ac1c0002row6_col11\" class=\"data row6 col11\" >0.980417</td>\n                        <td id=\"T_71ce72b4_5380_11eb_a553_0242ac1c0002row6_col12\" class=\"data row6 col12\" >792</td>\n                        <td id=\"T_71ce72b4_5380_11eb_a553_0242ac1c0002row6_col13\" class=\"data row6 col13\" >TUR</td>\n            </tr>\n            <tr>\n                        <th id=\"T_71ce72b4_5380_11eb_a553_0242ac1c0002level0_row7\" class=\"row_heading level0 row7\" >85</th>\n                        <td id=\"T_71ce72b4_5380_11eb_a553_0242ac1c0002row7_col0\" class=\"data row7 col0\" >Italy</td>\n                        <td id=\"T_71ce72b4_5380_11eb_a553_0242ac1c0002row7_col1\" class=\"data row7 col1\" >2021-01-10 19:22:28</td>\n                        <td id=\"T_71ce72b4_5380_11eb_a553_0242ac1c0002row7_col2\" class=\"data row7 col2\" >41.871900</td>\n                        <td id=\"T_71ce72b4_5380_11eb_a553_0242ac1c0002row7_col3\" class=\"data row7 col3\" >12.567400</td>\n                        <td id=\"T_71ce72b4_5380_11eb_a553_0242ac1c0002row7_col4\" class=\"data row7 col4\" >2276491.000000</td>\n                        <td id=\"T_71ce72b4_5380_11eb_a553_0242ac1c0002row7_col5\" class=\"data row7 col5\" >78755.000000</td>\n                        <td id=\"T_71ce72b4_5380_11eb_a553_0242ac1c0002row7_col6\" class=\"data row7 col6\" >1617804.000000</td>\n                        <td id=\"T_71ce72b4_5380_11eb_a553_0242ac1c0002row7_col7\" class=\"data row7 col7\" >579932.000000</td>\n                        <td id=\"T_71ce72b4_5380_11eb_a553_0242ac1c0002row7_col8\" class=\"data row7 col8\" >3765.170646</td>\n                        <td id=\"T_71ce72b4_5380_11eb_a553_0242ac1c0002row7_col9\" class=\"data row7 col9\" >nan</td>\n                        <td id=\"T_71ce72b4_5380_11eb_a553_0242ac1c0002row7_col10\" class=\"data row7 col10\" >nan</td>\n                        <td id=\"T_71ce72b4_5380_11eb_a553_0242ac1c0002row7_col11\" class=\"data row7 col11\" >3.459491</td>\n                        <td id=\"T_71ce72b4_5380_11eb_a553_0242ac1c0002row7_col12\" class=\"data row7 col12\" >380</td>\n                        <td id=\"T_71ce72b4_5380_11eb_a553_0242ac1c0002row7_col13\" class=\"data row7 col13\" >ITA</td>\n            </tr>\n            <tr>\n                        <th id=\"T_71ce72b4_5380_11eb_a553_0242ac1c0002level0_row8\" class=\"row_heading level0 row8\" >161</th>\n                        <td id=\"T_71ce72b4_5380_11eb_a553_0242ac1c0002row8_col0\" class=\"data row8 col0\" >Spain</td>\n                        <td id=\"T_71ce72b4_5380_11eb_a553_0242ac1c0002row8_col1\" class=\"data row8 col1\" >2021-01-10 19:22:28</td>\n                        <td id=\"T_71ce72b4_5380_11eb_a553_0242ac1c0002row8_col2\" class=\"data row8 col2\" >40.463667</td>\n                        <td id=\"T_71ce72b4_5380_11eb_a553_0242ac1c0002row8_col3\" class=\"data row8 col3\" >-3.749220</td>\n                        <td id=\"T_71ce72b4_5380_11eb_a553_0242ac1c0002row8_col4\" class=\"data row8 col4\" >2050360.000000</td>\n                        <td id=\"T_71ce72b4_5380_11eb_a553_0242ac1c0002row8_col5\" class=\"data row8 col5\" >51874.000000</td>\n                        <td id=\"T_71ce72b4_5380_11eb_a553_0242ac1c0002row8_col6\" class=\"data row8 col6\" >150376.000000</td>\n                        <td id=\"T_71ce72b4_5380_11eb_a553_0242ac1c0002row8_col7\" class=\"data row8 col7\" >1848110.000000</td>\n                        <td id=\"T_71ce72b4_5380_11eb_a553_0242ac1c0002row8_col8\" class=\"data row8 col8\" >4385.348126</td>\n                        <td id=\"T_71ce72b4_5380_11eb_a553_0242ac1c0002row8_col9\" class=\"data row8 col9\" >nan</td>\n                        <td id=\"T_71ce72b4_5380_11eb_a553_0242ac1c0002row8_col10\" class=\"data row8 col10\" >nan</td>\n                        <td id=\"T_71ce72b4_5380_11eb_a553_0242ac1c0002row8_col11\" class=\"data row8 col11\" >2.529995</td>\n                        <td id=\"T_71ce72b4_5380_11eb_a553_0242ac1c0002row8_col12\" class=\"data row8 col12\" >724</td>\n                        <td id=\"T_71ce72b4_5380_11eb_a553_0242ac1c0002row8_col13\" class=\"data row8 col13\" >ESP</td>\n            </tr>\n            <tr>\n                        <th id=\"T_71ce72b4_5380_11eb_a553_0242ac1c0002level0_row9\" class=\"row_heading level0 row9\" >66</th>\n                        <td id=\"T_71ce72b4_5380_11eb_a553_0242ac1c0002row9_col0\" class=\"data row9 col0\" >Germany</td>\n                        <td id=\"T_71ce72b4_5380_11eb_a553_0242ac1c0002row9_col1\" class=\"data row9 col1\" >2021-01-10 19:22:28</td>\n                        <td id=\"T_71ce72b4_5380_11eb_a553_0242ac1c0002row9_col2\" class=\"data row9 col2\" >51.165691</td>\n                        <td id=\"T_71ce72b4_5380_11eb_a553_0242ac1c0002row9_col3\" class=\"data row9 col3\" >10.451526</td>\n                        <td id=\"T_71ce72b4_5380_11eb_a553_0242ac1c0002row9_col4\" class=\"data row9 col4\" >1929410.000000</td>\n                        <td id=\"T_71ce72b4_5380_11eb_a553_0242ac1c0002row9_col5\" class=\"data row9 col5\" >40741.000000</td>\n                        <td id=\"T_71ce72b4_5380_11eb_a553_0242ac1c0002row9_col6\" class=\"data row9 col6\" >1551235.000000</td>\n                        <td id=\"T_71ce72b4_5380_11eb_a553_0242ac1c0002row9_col7\" class=\"data row9 col7\" >337434.000000</td>\n                        <td id=\"T_71ce72b4_5380_11eb_a553_0242ac1c0002row9_col8\" class=\"data row9 col8\" >2302.839762</td>\n                        <td id=\"T_71ce72b4_5380_11eb_a553_0242ac1c0002row9_col9\" class=\"data row9 col9\" >nan</td>\n                        <td id=\"T_71ce72b4_5380_11eb_a553_0242ac1c0002row9_col10\" class=\"data row9 col10\" >nan</td>\n                        <td id=\"T_71ce72b4_5380_11eb_a553_0242ac1c0002row9_col11\" class=\"data row9 col11\" >2.111578</td>\n                        <td id=\"T_71ce72b4_5380_11eb_a553_0242ac1c0002row9_col12\" class=\"data row9 col12\" >276</td>\n                        <td id=\"T_71ce72b4_5380_11eb_a553_0242ac1c0002row9_col13\" class=\"data row9 col13\" >DEU</td>\n            </tr>\n    </tbody></table>",
                "text/plain": "<pandas.io.formats.style.Styler at 0x7f629b6c85f8>"
              }
            ],
            "_view_module": "@jupyter-widgets/output",
            "_model_module_version": "1.0.0",
            "_view_count": null,
            "_view_module_version": "1.0.0",
            "layout": "IPY_MODEL_f9149420663e434f8364b4c1682489f4",
            "_model_module": "@jupyter-widgets/output"
          }
        },
        "56bf13058f394d4ca21e03c1c8ed8acd": {
          "model_module": "@jupyter-widgets/controls",
          "model_name": "DescriptionStyleModel",
          "state": {
            "_view_name": "StyleView",
            "_model_name": "DescriptionStyleModel",
            "description_width": "",
            "_view_module": "@jupyter-widgets/base",
            "_model_module_version": "1.5.0",
            "_view_count": null,
            "_view_module_version": "1.2.0",
            "_model_module": "@jupyter-widgets/controls"
          }
        },
        "72fabd5945744c888cfde74b0592d5fd": {
          "model_module": "@jupyter-widgets/base",
          "model_name": "LayoutModel",
          "state": {
            "_view_name": "LayoutView",
            "grid_template_rows": null,
            "right": null,
            "justify_content": null,
            "_view_module": "@jupyter-widgets/base",
            "overflow": null,
            "_model_module_version": "1.2.0",
            "_view_count": null,
            "flex_flow": null,
            "width": null,
            "min_width": null,
            "border": null,
            "align_items": null,
            "bottom": null,
            "_model_module": "@jupyter-widgets/base",
            "top": null,
            "grid_column": null,
            "overflow_y": null,
            "overflow_x": null,
            "grid_auto_flow": null,
            "grid_area": null,
            "grid_template_columns": null,
            "flex": null,
            "_model_name": "LayoutModel",
            "justify_items": null,
            "grid_row": null,
            "max_height": null,
            "align_content": null,
            "visibility": null,
            "align_self": null,
            "height": null,
            "min_height": null,
            "padding": null,
            "grid_auto_rows": null,
            "grid_gap": null,
            "max_width": null,
            "order": null,
            "_view_module_version": "1.2.0",
            "grid_template_areas": null,
            "object_position": null,
            "object_fit": null,
            "grid_auto_columns": null,
            "margin": null,
            "display": null,
            "left": null
          }
        },
        "f9149420663e434f8364b4c1682489f4": {
          "model_module": "@jupyter-widgets/base",
          "model_name": "LayoutModel",
          "state": {
            "_view_name": "LayoutView",
            "grid_template_rows": null,
            "right": null,
            "justify_content": null,
            "_view_module": "@jupyter-widgets/base",
            "overflow": null,
            "_model_module_version": "1.2.0",
            "_view_count": null,
            "flex_flow": null,
            "width": null,
            "min_width": null,
            "border": null,
            "align_items": null,
            "bottom": null,
            "_model_module": "@jupyter-widgets/base",
            "top": null,
            "grid_column": null,
            "overflow_y": null,
            "overflow_x": null,
            "grid_auto_flow": null,
            "grid_area": null,
            "grid_template_columns": null,
            "flex": null,
            "_model_name": "LayoutModel",
            "justify_items": null,
            "grid_row": null,
            "max_height": null,
            "align_content": null,
            "visibility": null,
            "align_self": null,
            "height": null,
            "min_height": null,
            "padding": null,
            "grid_auto_rows": null,
            "grid_gap": null,
            "max_width": null,
            "order": null,
            "_view_module_version": "1.2.0",
            "grid_template_areas": null,
            "object_position": null,
            "object_fit": null,
            "grid_auto_columns": null,
            "margin": null,
            "display": null,
            "left": null
          }
        },
        "a755f07006b74e9d8279626869ca5549": {
          "model_module": "@jupyter-widgets/controls",
          "model_name": "VBoxModel",
          "state": {
            "_view_name": "VBoxView",
            "_dom_classes": [],
            "_model_name": "VBoxModel",
            "_view_module": "@jupyter-widgets/controls",
            "_model_module_version": "1.5.0",
            "_view_count": null,
            "_view_module_version": "1.5.0",
            "box_style": "",
            "layout": "IPY_MODEL_b269e63623e74f31878b0dea455859e1",
            "_model_module": "@jupyter-widgets/controls",
            "children": [
              "IPY_MODEL_fa3ca2c6d6244ae4a42b7181b4d4565c"
            ]
          }
        },
        "b269e63623e74f31878b0dea455859e1": {
          "model_module": "@jupyter-widgets/base",
          "model_name": "LayoutModel",
          "state": {
            "_view_name": "LayoutView",
            "grid_template_rows": null,
            "right": null,
            "justify_content": null,
            "_view_module": "@jupyter-widgets/base",
            "overflow": null,
            "_model_module_version": "1.2.0",
            "_view_count": null,
            "flex_flow": null,
            "width": null,
            "min_width": null,
            "border": "solid 2px green",
            "align_items": null,
            "bottom": null,
            "_model_module": "@jupyter-widgets/base",
            "top": null,
            "grid_column": null,
            "overflow_y": null,
            "overflow_x": null,
            "grid_auto_flow": null,
            "grid_area": null,
            "grid_template_columns": null,
            "flex": null,
            "_model_name": "LayoutModel",
            "justify_items": null,
            "grid_row": null,
            "max_height": null,
            "align_content": null,
            "visibility": null,
            "align_self": null,
            "height": null,
            "min_height": null,
            "padding": null,
            "grid_auto_rows": null,
            "grid_gap": null,
            "max_width": null,
            "order": null,
            "_view_module_version": "1.2.0",
            "grid_template_areas": null,
            "object_position": null,
            "object_fit": null,
            "grid_auto_columns": null,
            "margin": null,
            "display": "none",
            "left": null
          }
        },
        "fa3ca2c6d6244ae4a42b7181b4d4565c": {
          "model_module": "plotlywidget",
          "model_name": "FigureModel",
          "state": {
            "_view_name": "FigureView",
            "_py2js_animate": {},
            "_py2js_removeLayoutProps": {},
            "_last_trace_edit_id": 0,
            "_view_module": "plotlywidget",
            "_model_module_version": "^1.4.0",
            "_view_count": 0,
            "_js2py_relayout": {},
            "_py2js_moveTraces": {},
            "_py2js_addTraces": {},
            "_model_module": "plotlywidget",
            "_py2js_relayout": null,
            "_js2py_pointsCallback": {},
            "_js2py_update": {},
            "_js2py_restyle": {},
            "_py2js_removeTraceProps": {},
            "_py2js_deleteTraces": {},
            "_dom_classes": [],
            "_model_name": "FigureModel",
            "_layout": {},
            "_js2py_layoutDelta": {},
            "_py2js_update": {},
            "_data": [],
            "_config": {
              "plotlyServerURL": "https://plot.ly"
            },
            "_py2js_restyle": {},
            "_view_module_version": "^1.4.0",
            "_last_layout_edit_id": 0,
            "_js2py_traceDeltas": {}
          }
        },
        "7d3661c38c7743f3bdb767c5c6fb7b1d": {
          "model_module": "@jupyter-widgets/controls",
          "model_name": "VBoxModel",
          "state": {
            "_view_name": "VBoxView",
            "_dom_classes": [
              "widget-interact"
            ],
            "_model_name": "VBoxModel",
            "_view_module": "@jupyter-widgets/controls",
            "_model_module_version": "1.5.0",
            "_view_count": null,
            "_view_module_version": "1.5.0",
            "box_style": "",
            "layout": "IPY_MODEL_a517220a80f340fea906a33dc43f48c9",
            "_model_module": "@jupyter-widgets/controls",
            "children": [
              "IPY_MODEL_f5fc4f42c0734d80b9e2f9f147dd3eae",
              "IPY_MODEL_7304cbe4dce14af3868f49f233c7b53f"
            ]
          }
        },
        "a517220a80f340fea906a33dc43f48c9": {
          "model_module": "@jupyter-widgets/base",
          "model_name": "LayoutModel",
          "state": {
            "_view_name": "LayoutView",
            "grid_template_rows": null,
            "right": null,
            "justify_content": null,
            "_view_module": "@jupyter-widgets/base",
            "overflow": null,
            "_model_module_version": "1.2.0",
            "_view_count": null,
            "flex_flow": null,
            "width": null,
            "min_width": null,
            "border": null,
            "align_items": null,
            "bottom": null,
            "_model_module": "@jupyter-widgets/base",
            "top": null,
            "grid_column": null,
            "overflow_y": null,
            "overflow_x": null,
            "grid_auto_flow": null,
            "grid_area": null,
            "grid_template_columns": null,
            "flex": null,
            "_model_name": "LayoutModel",
            "justify_items": null,
            "grid_row": null,
            "max_height": null,
            "align_content": null,
            "visibility": null,
            "align_self": null,
            "height": null,
            "min_height": null,
            "padding": null,
            "grid_auto_rows": null,
            "grid_gap": null,
            "max_width": null,
            "order": null,
            "_view_module_version": "1.2.0",
            "grid_template_areas": null,
            "object_position": null,
            "object_fit": null,
            "grid_auto_columns": null,
            "margin": null,
            "display": null,
            "left": null
          }
        },
        "f5fc4f42c0734d80b9e2f9f147dd3eae": {
          "model_module": "@jupyter-widgets/controls",
          "model_name": "IntSliderModel",
          "state": {
            "_view_name": "IntSliderView",
            "style": "IPY_MODEL_9736b65ccf264dbe9d070abe7c5924d6",
            "_dom_classes": [],
            "description": "n",
            "step": 1,
            "_model_name": "IntSliderModel",
            "orientation": "horizontal",
            "max": 30,
            "_view_module": "@jupyter-widgets/controls",
            "_model_module_version": "1.5.0",
            "value": 10,
            "_view_count": null,
            "disabled": false,
            "_view_module_version": "1.5.0",
            "min": -10,
            "continuous_update": true,
            "readout_format": "d",
            "description_tooltip": null,
            "readout": true,
            "_model_module": "@jupyter-widgets/controls",
            "layout": "IPY_MODEL_a52f14b97b324ac7856bcb2f6b060be3"
          }
        },
        "7304cbe4dce14af3868f49f233c7b53f": {
          "model_module": "@jupyter-widgets/output",
          "model_name": "OutputModel",
          "state": {
            "_view_name": "OutputView",
            "msg_id": "",
            "_dom_classes": [],
            "_model_name": "OutputModel",
            "outputs": [
              {
                "output_type": "display_data",
                "metadata": {
                  "tags": []
                },
                "text/html": "<html>\n<head><meta charset=\"utf-8\" /></head>\n<body>\n    <div>\n            <script src=\"https://cdnjs.cloudflare.com/ajax/libs/mathjax/2.7.5/MathJax.js?config=TeX-AMS-MML_SVG\"></script><script type=\"text/javascript\">if (window.MathJax) {MathJax.Hub.Config({SVG: {font: \"STIX-Web\"}});}</script>\n                <script type=\"text/javascript\">window.PlotlyConfig = {MathJaxConfig: 'local'};</script>\n        <script src=\"https://cdn.plot.ly/plotly-latest.min.js\"></script>    \n            <div id=\"98e44abf-d0c3-4560-8074-dc42ced9cff6\" class=\"plotly-graph-div\" style=\"height:525px; width:700px;\"></div>\n            <script type=\"text/javascript\">\n                \n                    window.PLOTLYENV=window.PLOTLYENV || {};\n                    \n                if (document.getElementById(\"98e44abf-d0c3-4560-8074-dc42ced9cff6\")) {\n                    Plotly.newPlot(\n                        '98e44abf-d0c3-4560-8074-dc42ced9cff6',\n                        [{\"hoverlabel\": {\"namelength\": 0}, \"hovertemplate\": \"<b>%{hovertext}</b><br><br>country=%{x}<br>confirmed=%{marker.size}\", \"hovertext\": [\"US\"], \"legendgroup\": \"country=US\", \"marker\": {\"color\": \"#636efa\", \"size\": [22255827.0], \"sizemode\": \"area\", \"sizeref\": 6182.174166666667, \"symbol\": \"circle\"}, \"mode\": \"markers\", \"name\": \"country=US\", \"showlegend\": true, \"type\": \"scatter\", \"x\": [\"US\"], \"xaxis\": \"x\", \"y\": [22255827.0], \"yaxis\": \"y\"}, {\"hoverlabel\": {\"namelength\": 0}, \"hovertemplate\": \"<b>%{hovertext}</b><br><br>country=%{x}<br>confirmed=%{marker.size}\", \"hovertext\": [\"India\"], \"legendgroup\": \"country=India\", \"marker\": {\"color\": \"#EF553B\", \"size\": [10450284.0], \"sizemode\": \"area\", \"sizeref\": 6182.174166666667, \"symbol\": \"circle\"}, \"mode\": \"markers\", \"name\": \"country=India\", \"showlegend\": true, \"type\": \"scatter\", \"x\": [\"India\"], \"xaxis\": \"x\", \"y\": [10450284.0], \"yaxis\": \"y\"}, {\"hoverlabel\": {\"namelength\": 0}, \"hovertemplate\": \"<b>%{hovertext}</b><br><br>country=%{x}<br>confirmed=%{marker.size}\", \"hovertext\": [\"Brazil\"], \"legendgroup\": \"country=Brazil\", \"marker\": {\"color\": \"#00cc96\", \"size\": [8075998.0], \"sizemode\": \"area\", \"sizeref\": 6182.174166666667, \"symbol\": \"circle\"}, \"mode\": \"markers\", \"name\": \"country=Brazil\", \"showlegend\": true, \"type\": \"scatter\", \"x\": [\"Brazil\"], \"xaxis\": \"x\", \"y\": [8075998.0], \"yaxis\": \"y\"}, {\"hoverlabel\": {\"namelength\": 0}, \"hovertemplate\": \"<b>%{hovertext}</b><br><br>country=%{x}<br>confirmed=%{marker.size}\", \"hovertext\": [\"Russia\"], \"legendgroup\": \"country=Russia\", \"marker\": {\"color\": \"#ab63fa\", \"size\": [3366715.0], \"sizemode\": \"area\", \"sizeref\": 6182.174166666667, \"symbol\": \"circle\"}, \"mode\": \"markers\", \"name\": \"country=Russia\", \"showlegend\": true, \"type\": \"scatter\", \"x\": [\"Russia\"], \"xaxis\": \"x\", \"y\": [3366715.0], \"yaxis\": \"y\"}, {\"hoverlabel\": {\"namelength\": 0}, \"hovertemplate\": \"<b>%{hovertext}</b><br><br>country=%{x}<br>confirmed=%{marker.size}\", \"hovertext\": [\"United Kingdom\"], \"legendgroup\": \"country=United Kingdom\", \"marker\": {\"color\": \"#FFA15A\", \"size\": [3081305.0], \"sizemode\": \"area\", \"sizeref\": 6182.174166666667, \"symbol\": \"circle\"}, \"mode\": \"markers\", \"name\": \"country=United Kingdom\", \"showlegend\": true, \"type\": \"scatter\", \"x\": [\"United Kingdom\"], \"xaxis\": \"x\", \"y\": [3081305.0], \"yaxis\": \"y\"}],\n                        {\"legend\": {\"itemsizing\": \"constant\", \"tracegroupgap\": 0}, \"margin\": {\"t\": 60}, \"template\": {\"data\": {\"bar\": [{\"error_x\": {\"color\": \"#2a3f5f\"}, \"error_y\": {\"color\": \"#2a3f5f\"}, \"marker\": {\"line\": {\"color\": \"#E5ECF6\", \"width\": 0.5}}, \"type\": \"bar\"}], \"barpolar\": [{\"marker\": {\"line\": {\"color\": \"#E5ECF6\", \"width\": 0.5}}, \"type\": \"barpolar\"}], \"carpet\": [{\"aaxis\": {\"endlinecolor\": \"#2a3f5f\", \"gridcolor\": \"white\", \"linecolor\": \"white\", \"minorgridcolor\": \"white\", \"startlinecolor\": \"#2a3f5f\"}, \"baxis\": {\"endlinecolor\": \"#2a3f5f\", \"gridcolor\": \"white\", \"linecolor\": \"white\", \"minorgridcolor\": \"white\", \"startlinecolor\": \"#2a3f5f\"}, \"type\": \"carpet\"}], \"choropleth\": [{\"colorbar\": {\"outlinewidth\": 0, \"ticks\": \"\"}, \"type\": \"choropleth\"}], \"contour\": [{\"colorbar\": {\"outlinewidth\": 0, \"ticks\": \"\"}, \"colorscale\": [[0.0, \"#0d0887\"], [0.1111111111111111, \"#46039f\"], [0.2222222222222222, \"#7201a8\"], [0.3333333333333333, \"#9c179e\"], [0.4444444444444444, \"#bd3786\"], [0.5555555555555556, \"#d8576b\"], [0.6666666666666666, \"#ed7953\"], [0.7777777777777778, \"#fb9f3a\"], [0.8888888888888888, \"#fdca26\"], [1.0, \"#f0f921\"]], \"type\": \"contour\"}], \"contourcarpet\": [{\"colorbar\": {\"outlinewidth\": 0, \"ticks\": \"\"}, \"type\": \"contourcarpet\"}], \"heatmap\": [{\"colorbar\": {\"outlinewidth\": 0, \"ticks\": \"\"}, \"colorscale\": [[0.0, \"#0d0887\"], [0.1111111111111111, \"#46039f\"], [0.2222222222222222, \"#7201a8\"], [0.3333333333333333, \"#9c179e\"], [0.4444444444444444, \"#bd3786\"], [0.5555555555555556, \"#d8576b\"], [0.6666666666666666, \"#ed7953\"], [0.7777777777777778, \"#fb9f3a\"], [0.8888888888888888, \"#fdca26\"], [1.0, \"#f0f921\"]], \"type\": \"heatmap\"}], \"heatmapgl\": [{\"colorbar\": {\"outlinewidth\": 0, \"ticks\": \"\"}, \"colorscale\": [[0.0, \"#0d0887\"], [0.1111111111111111, \"#46039f\"], [0.2222222222222222, \"#7201a8\"], [0.3333333333333333, \"#9c179e\"], [0.4444444444444444, \"#bd3786\"], [0.5555555555555556, \"#d8576b\"], [0.6666666666666666, \"#ed7953\"], [0.7777777777777778, \"#fb9f3a\"], [0.8888888888888888, \"#fdca26\"], [1.0, \"#f0f921\"]], \"type\": \"heatmapgl\"}], \"histogram\": [{\"marker\": {\"colorbar\": {\"outlinewidth\": 0, \"ticks\": \"\"}}, \"type\": \"histogram\"}], \"histogram2d\": [{\"colorbar\": {\"outlinewidth\": 0, \"ticks\": \"\"}, \"colorscale\": [[0.0, \"#0d0887\"], [0.1111111111111111, \"#46039f\"], [0.2222222222222222, \"#7201a8\"], [0.3333333333333333, \"#9c179e\"], [0.4444444444444444, \"#bd3786\"], [0.5555555555555556, \"#d8576b\"], [0.6666666666666666, \"#ed7953\"], [0.7777777777777778, \"#fb9f3a\"], [0.8888888888888888, \"#fdca26\"], [1.0, \"#f0f921\"]], \"type\": \"histogram2d\"}], \"histogram2dcontour\": [{\"colorbar\": {\"outlinewidth\": 0, \"ticks\": \"\"}, \"colorscale\": [[0.0, \"#0d0887\"], [0.1111111111111111, \"#46039f\"], [0.2222222222222222, \"#7201a8\"], [0.3333333333333333, \"#9c179e\"], [0.4444444444444444, \"#bd3786\"], [0.5555555555555556, \"#d8576b\"], [0.6666666666666666, \"#ed7953\"], [0.7777777777777778, \"#fb9f3a\"], [0.8888888888888888, \"#fdca26\"], [1.0, \"#f0f921\"]], \"type\": \"histogram2dcontour\"}], \"mesh3d\": [{\"colorbar\": {\"outlinewidth\": 0, \"ticks\": \"\"}, \"type\": \"mesh3d\"}], \"parcoords\": [{\"line\": {\"colorbar\": {\"outlinewidth\": 0, \"ticks\": \"\"}}, \"type\": \"parcoords\"}], \"pie\": [{\"automargin\": true, \"type\": \"pie\"}], \"scatter\": [{\"marker\": {\"colorbar\": {\"outlinewidth\": 0, \"ticks\": \"\"}}, \"type\": \"scatter\"}], \"scatter3d\": [{\"line\": {\"colorbar\": {\"outlinewidth\": 0, \"ticks\": \"\"}}, \"marker\": {\"colorbar\": {\"outlinewidth\": 0, \"ticks\": \"\"}}, \"type\": \"scatter3d\"}], \"scattercarpet\": [{\"marker\": {\"colorbar\": {\"outlinewidth\": 0, \"ticks\": \"\"}}, \"type\": \"scattercarpet\"}], \"scattergeo\": [{\"marker\": {\"colorbar\": {\"outlinewidth\": 0, \"ticks\": \"\"}}, \"type\": \"scattergeo\"}], \"scattergl\": [{\"marker\": {\"colorbar\": {\"outlinewidth\": 0, \"ticks\": \"\"}}, \"type\": \"scattergl\"}], \"scattermapbox\": [{\"marker\": {\"colorbar\": {\"outlinewidth\": 0, \"ticks\": \"\"}}, \"type\": \"scattermapbox\"}], \"scatterpolar\": [{\"marker\": {\"colorbar\": {\"outlinewidth\": 0, \"ticks\": \"\"}}, \"type\": \"scatterpolar\"}], \"scatterpolargl\": [{\"marker\": {\"colorbar\": {\"outlinewidth\": 0, \"ticks\": \"\"}}, \"type\": \"scatterpolargl\"}], \"scatterternary\": [{\"marker\": {\"colorbar\": {\"outlinewidth\": 0, \"ticks\": \"\"}}, \"type\": \"scatterternary\"}], \"surface\": [{\"colorbar\": {\"outlinewidth\": 0, \"ticks\": \"\"}, \"colorscale\": [[0.0, \"#0d0887\"], [0.1111111111111111, \"#46039f\"], [0.2222222222222222, \"#7201a8\"], [0.3333333333333333, \"#9c179e\"], [0.4444444444444444, \"#bd3786\"], [0.5555555555555556, \"#d8576b\"], [0.6666666666666666, \"#ed7953\"], [0.7777777777777778, \"#fb9f3a\"], [0.8888888888888888, \"#fdca26\"], [1.0, \"#f0f921\"]], \"type\": \"surface\"}], \"table\": [{\"cells\": {\"fill\": {\"color\": \"#EBF0F8\"}, \"line\": {\"color\": \"white\"}}, \"header\": {\"fill\": {\"color\": \"#C8D4E3\"}, \"line\": {\"color\": \"white\"}}, \"type\": \"table\"}]}, \"layout\": {\"annotationdefaults\": {\"arrowcolor\": \"#2a3f5f\", \"arrowhead\": 0, \"arrowwidth\": 1}, \"coloraxis\": {\"colorbar\": {\"outlinewidth\": 0, \"ticks\": \"\"}}, \"colorscale\": {\"diverging\": [[0, \"#8e0152\"], [0.1, \"#c51b7d\"], [0.2, \"#de77ae\"], [0.3, \"#f1b6da\"], [0.4, \"#fde0ef\"], [0.5, \"#f7f7f7\"], [0.6, \"#e6f5d0\"], [0.7, \"#b8e186\"], [0.8, \"#7fbc41\"], [0.9, \"#4d9221\"], [1, \"#276419\"]], \"sequential\": [[0.0, \"#0d0887\"], [0.1111111111111111, \"#46039f\"], [0.2222222222222222, \"#7201a8\"], [0.3333333333333333, \"#9c179e\"], [0.4444444444444444, \"#bd3786\"], [0.5555555555555556, \"#d8576b\"], [0.6666666666666666, \"#ed7953\"], [0.7777777777777778, \"#fb9f3a\"], [0.8888888888888888, \"#fdca26\"], [1.0, \"#f0f921\"]], \"sequentialminus\": [[0.0, \"#0d0887\"], [0.1111111111111111, \"#46039f\"], [0.2222222222222222, \"#7201a8\"], [0.3333333333333333, \"#9c179e\"], [0.4444444444444444, \"#bd3786\"], [0.5555555555555556, \"#d8576b\"], [0.6666666666666666, \"#ed7953\"], [0.7777777777777778, \"#fb9f3a\"], [0.8888888888888888, \"#fdca26\"], [1.0, \"#f0f921\"]]}, \"colorway\": [\"#636efa\", \"#EF553B\", \"#00cc96\", \"#ab63fa\", \"#FFA15A\", \"#19d3f3\", \"#FF6692\", \"#B6E880\", \"#FF97FF\", \"#FECB52\"], \"font\": {\"color\": \"#2a3f5f\"}, \"geo\": {\"bgcolor\": \"white\", \"lakecolor\": \"white\", \"landcolor\": \"#E5ECF6\", \"showlakes\": true, \"showland\": true, \"subunitcolor\": \"white\"}, \"hoverlabel\": {\"align\": \"left\"}, \"hovermode\": \"closest\", \"mapbox\": {\"style\": \"light\"}, \"paper_bgcolor\": \"white\", \"plot_bgcolor\": \"#E5ECF6\", \"polar\": {\"angularaxis\": {\"gridcolor\": \"white\", \"linecolor\": \"white\", \"ticks\": \"\"}, \"bgcolor\": \"#E5ECF6\", \"radialaxis\": {\"gridcolor\": \"white\", \"linecolor\": \"white\", \"ticks\": \"\"}}, \"scene\": {\"xaxis\": {\"backgroundcolor\": \"#E5ECF6\", \"gridcolor\": \"white\", \"gridwidth\": 2, \"linecolor\": \"white\", \"showbackground\": true, \"ticks\": \"\", \"zerolinecolor\": \"white\"}, \"yaxis\": {\"backgroundcolor\": \"#E5ECF6\", \"gridcolor\": \"white\", \"gridwidth\": 2, \"linecolor\": \"white\", \"showbackground\": true, \"ticks\": \"\", \"zerolinecolor\": \"white\"}, \"zaxis\": {\"backgroundcolor\": \"#E5ECF6\", \"gridcolor\": \"white\", \"gridwidth\": 2, \"linecolor\": \"white\", \"showbackground\": true, \"ticks\": \"\", \"zerolinecolor\": \"white\"}}, \"shapedefaults\": {\"line\": {\"color\": \"#2a3f5f\"}}, \"ternary\": {\"aaxis\": {\"gridcolor\": \"white\", \"linecolor\": \"white\", \"ticks\": \"\"}, \"baxis\": {\"gridcolor\": \"white\", \"linecolor\": \"white\", \"ticks\": \"\"}, \"bgcolor\": \"#E5ECF6\", \"caxis\": {\"gridcolor\": \"white\", \"linecolor\": \"white\", \"ticks\": \"\"}}, \"title\": {\"x\": 0.05}, \"xaxis\": {\"automargin\": true, \"gridcolor\": \"white\", \"linecolor\": \"white\", \"ticks\": \"\", \"title\": {\"standoff\": 15}, \"zerolinecolor\": \"white\", \"zerolinewidth\": 2}, \"yaxis\": {\"automargin\": true, \"gridcolor\": \"white\", \"linecolor\": \"white\", \"ticks\": \"\", \"title\": {\"standoff\": 15}, \"zerolinecolor\": \"white\", \"zerolinewidth\": 2}}}, \"title\": {\"text\": \"10 Worst hit countries\"}, \"width\": 700, \"xaxis\": {\"anchor\": \"y\", \"categoryarray\": [\"US\", \"India\", \"Brazil\", \"Russia\", \"United Kingdom\"], \"categoryorder\": \"array\", \"domain\": [0.0, 1.0], \"title\": {\"text\": \"Countries\"}}, \"yaxis\": {\"anchor\": \"x\", \"domain\": [0.0, 1.0], \"title\": {\"text\": \"Confirmed Cases\"}}},\n                        {\"responsive\": true}\n                    ).then(function(){\n                            \nvar gd = document.getElementById('98e44abf-d0c3-4560-8074-dc42ced9cff6');\nvar x = new MutationObserver(function (mutations, observer) {{\n        var display = window.getComputedStyle(gd).display;\n        if (!display || display === 'none') {{\n            console.log([gd, 'removed!']);\n            Plotly.purge(gd);\n            observer.disconnect();\n        }}\n}});\n\n// Listen for the removal of the full notebook cells\nvar notebookContainer = gd.closest('#notebook-container');\nif (notebookContainer) {{\n    x.observe(notebookContainer, {childList: true});\n}}\n\n// Listen for the clearing of the current output cell\nvar outputEl = gd.closest('.output');\nif (outputEl) {{\n    x.observe(outputEl, {childList: true});\n}}\n\n                        })\n                };\n                \n            </script>\n        </div>\n</body>\n</html>"
              }
            ],
            "_view_module": "@jupyter-widgets/output",
            "_model_module_version": "1.0.0",
            "_view_count": null,
            "_view_module_version": "1.0.0",
            "layout": "IPY_MODEL_d3db4759552d4352832064479b1c436f",
            "_model_module": "@jupyter-widgets/output"
          }
        },
        "9736b65ccf264dbe9d070abe7c5924d6": {
          "model_module": "@jupyter-widgets/controls",
          "model_name": "SliderStyleModel",
          "state": {
            "_view_name": "StyleView",
            "handle_color": null,
            "_model_name": "SliderStyleModel",
            "description_width": "",
            "_view_module": "@jupyter-widgets/base",
            "_model_module_version": "1.5.0",
            "_view_count": null,
            "_view_module_version": "1.2.0",
            "_model_module": "@jupyter-widgets/controls"
          }
        },
        "a52f14b97b324ac7856bcb2f6b060be3": {
          "model_module": "@jupyter-widgets/base",
          "model_name": "LayoutModel",
          "state": {
            "_view_name": "LayoutView",
            "grid_template_rows": null,
            "right": null,
            "justify_content": null,
            "_view_module": "@jupyter-widgets/base",
            "overflow": null,
            "_model_module_version": "1.2.0",
            "_view_count": null,
            "flex_flow": null,
            "width": null,
            "min_width": null,
            "border": null,
            "align_items": null,
            "bottom": null,
            "_model_module": "@jupyter-widgets/base",
            "top": null,
            "grid_column": null,
            "overflow_y": null,
            "overflow_x": null,
            "grid_auto_flow": null,
            "grid_area": null,
            "grid_template_columns": null,
            "flex": null,
            "_model_name": "LayoutModel",
            "justify_items": null,
            "grid_row": null,
            "max_height": null,
            "align_content": null,
            "visibility": null,
            "align_self": null,
            "height": null,
            "min_height": null,
            "padding": null,
            "grid_auto_rows": null,
            "grid_gap": null,
            "max_width": null,
            "order": null,
            "_view_module_version": "1.2.0",
            "grid_template_areas": null,
            "object_position": null,
            "object_fit": null,
            "grid_auto_columns": null,
            "margin": null,
            "display": null,
            "left": null
          }
        },
        "d3db4759552d4352832064479b1c436f": {
          "model_module": "@jupyter-widgets/base",
          "model_name": "LayoutModel",
          "state": {
            "_view_name": "LayoutView",
            "grid_template_rows": null,
            "right": null,
            "justify_content": null,
            "_view_module": "@jupyter-widgets/base",
            "overflow": null,
            "_model_module_version": "1.2.0",
            "_view_count": null,
            "flex_flow": null,
            "width": null,
            "min_width": null,
            "border": null,
            "align_items": null,
            "bottom": null,
            "_model_module": "@jupyter-widgets/base",
            "top": null,
            "grid_column": null,
            "overflow_y": null,
            "overflow_x": null,
            "grid_auto_flow": null,
            "grid_area": null,
            "grid_template_columns": null,
            "flex": null,
            "_model_name": "LayoutModel",
            "justify_items": null,
            "grid_row": null,
            "max_height": null,
            "align_content": null,
            "visibility": null,
            "align_self": null,
            "height": null,
            "min_height": null,
            "padding": null,
            "grid_auto_rows": null,
            "grid_gap": null,
            "max_width": null,
            "order": null,
            "_view_module_version": "1.2.0",
            "grid_template_areas": null,
            "object_position": null,
            "object_fit": null,
            "grid_auto_columns": null,
            "margin": null,
            "display": null,
            "left": null
          }
        },
        "ba5fdc789a324973968886929b2a7b9e": {
          "model_module": "@jupyter-widgets/controls",
          "model_name": "VBoxModel",
          "state": {
            "_view_name": "VBoxView",
            "_dom_classes": [],
            "_model_name": "VBoxModel",
            "_view_module": "@jupyter-widgets/controls",
            "_model_module_version": "1.5.0",
            "_view_count": null,
            "_view_module_version": "1.5.0",
            "box_style": "",
            "layout": "IPY_MODEL_b5905a2c8a2044a69c3dfdf27580b8f0",
            "_model_module": "@jupyter-widgets/controls",
            "children": [
              "IPY_MODEL_fa3ca2c6d6244ae4a42b7181b4d4565c"
            ]
          }
        },
        "b5905a2c8a2044a69c3dfdf27580b8f0": {
          "model_module": "@jupyter-widgets/base",
          "model_name": "LayoutModel",
          "state": {
            "_view_name": "LayoutView",
            "grid_template_rows": null,
            "right": null,
            "justify_content": null,
            "_view_module": "@jupyter-widgets/base",
            "overflow": null,
            "_model_module_version": "1.2.0",
            "_view_count": null,
            "flex_flow": null,
            "width": null,
            "min_width": null,
            "border": "solid 2px green",
            "align_items": null,
            "bottom": null,
            "_model_module": "@jupyter-widgets/base",
            "top": null,
            "grid_column": null,
            "overflow_y": null,
            "overflow_x": null,
            "grid_auto_flow": null,
            "grid_area": null,
            "grid_template_columns": null,
            "flex": null,
            "_model_name": "LayoutModel",
            "justify_items": null,
            "grid_row": null,
            "max_height": null,
            "align_content": null,
            "visibility": null,
            "align_self": null,
            "height": null,
            "min_height": null,
            "padding": null,
            "grid_auto_rows": null,
            "grid_gap": null,
            "max_width": null,
            "order": null,
            "_view_module_version": "1.2.0",
            "grid_template_areas": null,
            "object_position": null,
            "object_fit": null,
            "grid_auto_columns": null,
            "margin": null,
            "display": "none",
            "left": null
          }
        },
        "1aaa01d303d44675b4d1630223e57ee7": {
          "model_module": "@jupyter-widgets/controls",
          "model_name": "VBoxModel",
          "state": {
            "_view_name": "VBoxView",
            "_dom_classes": [
              "widget-interact"
            ],
            "_model_name": "VBoxModel",
            "_view_module": "@jupyter-widgets/controls",
            "_model_module_version": "1.5.0",
            "_view_count": null,
            "_view_module_version": "1.5.0",
            "box_style": "",
            "layout": "IPY_MODEL_203fdb0b41bb41e5ae1d302329c346cd",
            "_model_module": "@jupyter-widgets/controls",
            "children": [
              "IPY_MODEL_163323662ee147c3ac9d29ad88404fcc",
              "IPY_MODEL_be0ea8cd8792480083c92543a2f2e1f4"
            ]
          }
        },
        "203fdb0b41bb41e5ae1d302329c346cd": {
          "model_module": "@jupyter-widgets/base",
          "model_name": "LayoutModel",
          "state": {
            "_view_name": "LayoutView",
            "grid_template_rows": null,
            "right": null,
            "justify_content": null,
            "_view_module": "@jupyter-widgets/base",
            "overflow": null,
            "_model_module_version": "1.2.0",
            "_view_count": null,
            "flex_flow": null,
            "width": null,
            "min_width": null,
            "border": null,
            "align_items": null,
            "bottom": null,
            "_model_module": "@jupyter-widgets/base",
            "top": null,
            "grid_column": null,
            "overflow_y": null,
            "overflow_x": null,
            "grid_auto_flow": null,
            "grid_area": null,
            "grid_template_columns": null,
            "flex": null,
            "_model_name": "LayoutModel",
            "justify_items": null,
            "grid_row": null,
            "max_height": null,
            "align_content": null,
            "visibility": null,
            "align_self": null,
            "height": null,
            "min_height": null,
            "padding": null,
            "grid_auto_rows": null,
            "grid_gap": null,
            "max_width": null,
            "order": null,
            "_view_module_version": "1.2.0",
            "grid_template_areas": null,
            "object_position": null,
            "object_fit": null,
            "grid_auto_columns": null,
            "margin": null,
            "display": null,
            "left": null
          }
        },
        "163323662ee147c3ac9d29ad88404fcc": {
          "model_module": "@jupyter-widgets/controls",
          "model_name": "TextModel",
          "state": {
            "_view_name": "TextView",
            "style": "IPY_MODEL_1e21e20b04c04c739e88d50956b650ff",
            "_dom_classes": [],
            "description": "country",
            "_model_name": "TextModel",
            "placeholder": "​",
            "_view_module": "@jupyter-widgets/controls",
            "_model_module_version": "1.5.0",
            "value": "World",
            "_view_count": null,
            "disabled": false,
            "_view_module_version": "1.5.0",
            "continuous_update": true,
            "description_tooltip": null,
            "_model_module": "@jupyter-widgets/controls",
            "layout": "IPY_MODEL_455b23db80294f829092d8f113394f11"
          }
        },
        "be0ea8cd8792480083c92543a2f2e1f4": {
          "model_module": "@jupyter-widgets/output",
          "model_name": "OutputModel",
          "state": {
            "_view_name": "OutputView",
            "msg_id": "",
            "_dom_classes": [],
            "_model_name": "OutputModel",
            "outputs": [
              {
                "output_type": "stream",
                "metadata": {
                  "tags": []
                },
                "text": "0\n1\n",
                "stream": "stdout"
              },
              {
                "output_type": "display_data",
                "metadata": {
                  "tags": []
                },
                "text/html": "<html>\n<head><meta charset=\"utf-8\" /></head>\n<body>\n    <div>\n            <script src=\"https://cdnjs.cloudflare.com/ajax/libs/mathjax/2.7.5/MathJax.js?config=TeX-AMS-MML_SVG\"></script><script type=\"text/javascript\">if (window.MathJax) {MathJax.Hub.Config({SVG: {font: \"STIX-Web\"}});}</script>\n                <script type=\"text/javascript\">window.PlotlyConfig = {MathJaxConfig: 'local'};</script>\n        <script src=\"https://cdn.plot.ly/plotly-latest.min.js\"></script>    \n            <div id=\"769ae5fd-4745-424d-b6e5-c7b5dc74c474\" class=\"plotly-graph-div\" style=\"height:525px; width:800px;\"></div>\n            <script type=\"text/javascript\">\n                \n                    window.PLOTLYENV=window.PLOTLYENV || {};\n                    \n                if (document.getElementById(\"769ae5fd-4745-424d-b6e5-c7b5dc74c474\")) {\n                    Plotly.newPlot(\n                        '769ae5fd-4745-424d-b6e5-c7b5dc74c474',\n                        [{\"connectgaps\": true, \"line\": {\"color\": \"blue\", \"width\": 4}, \"mode\": \"lines+markers\", \"name\": \"confirmed\", \"text\": \"Total confirmed: 89634318\", \"type\": \"scatter\", \"x\": [\"2/7/20\", \"2/8/20\", \"2/9/20\", \"2/10/20\", \"2/11/20\", \"2/12/20\", \"2/13/20\", \"2/14/20\", \"2/15/20\", \"2/16/20\", \"2/17/20\", \"2/18/20\", \"2/19/20\", \"2/20/20\", \"2/21/20\", \"2/22/20\", \"2/23/20\", \"2/24/20\", \"2/25/20\", \"2/26/20\", \"2/27/20\", \"2/28/20\", \"2/29/20\", \"3/1/20\", \"3/2/20\", \"3/3/20\", \"3/4/20\", \"3/5/20\", \"3/6/20\", \"3/7/20\", \"3/8/20\", \"3/9/20\", \"3/10/20\", \"3/11/20\", \"3/12/20\", \"3/13/20\", \"3/14/20\", \"3/15/20\", \"3/16/20\", \"3/17/20\", \"3/18/20\", \"3/19/20\", \"3/20/20\", \"3/21/20\", \"3/22/20\", \"3/23/20\", \"3/24/20\", \"3/25/20\", \"3/26/20\", \"3/27/20\", \"3/28/20\", \"3/29/20\", \"3/30/20\", \"3/31/20\", \"4/1/20\", \"4/2/20\", \"4/3/20\", \"4/4/20\", \"4/5/20\", \"4/6/20\", \"4/7/20\", \"4/8/20\", \"4/9/20\", \"4/10/20\", \"4/11/20\", \"4/12/20\", \"4/13/20\", \"4/14/20\", \"4/15/20\", \"4/16/20\", \"4/17/20\", \"4/18/20\", \"4/19/20\", \"4/20/20\", \"4/21/20\", \"4/22/20\", \"4/23/20\", \"4/24/20\", \"4/25/20\", \"4/26/20\", \"4/27/20\", \"4/28/20\", \"4/29/20\", \"4/30/20\", \"5/1/20\", \"5/2/20\", \"5/3/20\", \"5/4/20\", \"5/5/20\", \"5/6/20\", \"5/7/20\", \"5/8/20\", \"5/9/20\", \"5/10/20\", \"5/11/20\", \"5/12/20\", \"5/13/20\", \"5/14/20\", \"5/15/20\", \"5/16/20\", \"5/17/20\", \"5/18/20\", \"5/19/20\", \"5/20/20\", \"5/21/20\", \"5/22/20\", \"5/23/20\", \"5/24/20\", \"5/25/20\", \"5/26/20\", \"5/27/20\", \"5/28/20\", \"5/29/20\", \"5/30/20\", \"5/31/20\", \"6/1/20\", \"6/2/20\", \"6/3/20\", \"6/4/20\", \"6/5/20\", \"6/6/20\", \"6/7/20\", \"6/8/20\", \"6/9/20\", \"6/10/20\", \"6/11/20\", \"6/12/20\", \"6/13/20\", \"6/14/20\", \"6/15/20\", \"6/16/20\", \"6/17/20\", \"6/18/20\", \"6/19/20\", \"6/20/20\", \"6/21/20\", \"6/22/20\", \"6/23/20\", \"6/24/20\", \"6/25/20\", \"6/26/20\", \"6/27/20\", \"6/28/20\", \"6/29/20\", \"6/30/20\", \"7/1/20\", \"7/2/20\", \"7/3/20\", \"7/4/20\", \"7/5/20\", \"7/6/20\", \"7/7/20\", \"7/8/20\", \"7/9/20\", \"7/10/20\", \"7/11/20\", \"7/12/20\", \"7/13/20\", \"7/14/20\", \"7/15/20\", \"7/16/20\", \"7/17/20\", \"7/18/20\", \"7/19/20\", \"7/20/20\", \"7/21/20\", \"7/22/20\", \"7/23/20\", \"7/24/20\", \"7/25/20\", \"7/26/20\", \"7/27/20\", \"7/28/20\", \"7/29/20\", \"7/30/20\", \"7/31/20\", \"8/1/20\", \"8/2/20\", \"8/3/20\", \"8/4/20\", \"8/5/20\", \"8/6/20\", \"8/7/20\", \"8/8/20\", \"8/9/20\", \"8/10/20\", \"8/11/20\", \"8/12/20\", \"8/13/20\", \"8/14/20\", \"8/15/20\", \"8/16/20\", \"8/17/20\", \"8/18/20\", \"8/19/20\", \"8/20/20\", \"8/21/20\", \"8/22/20\", \"8/23/20\", \"8/24/20\", \"8/25/20\", \"8/26/20\", \"8/27/20\", \"8/28/20\", \"8/29/20\", \"8/30/20\", \"8/31/20\", \"9/1/20\", \"9/2/20\", \"9/3/20\", \"9/4/20\", \"9/5/20\", \"9/6/20\", \"9/7/20\", \"9/8/20\", \"9/9/20\", \"9/10/20\", \"9/11/20\", \"9/12/20\", \"9/13/20\", \"9/14/20\", \"9/15/20\", \"9/16/20\", \"9/17/20\", \"9/18/20\", \"9/19/20\", \"9/20/20\", \"9/21/20\", \"9/22/20\", \"9/23/20\", \"9/24/20\", \"9/25/20\", \"9/26/20\", \"9/27/20\", \"9/28/20\", \"9/29/20\", \"9/30/20\", \"10/1/20\", \"10/2/20\", \"10/3/20\", \"10/4/20\", \"10/5/20\", \"10/6/20\", \"10/7/20\", \"10/8/20\", \"10/9/20\", \"10/10/20\", \"10/11/20\", \"10/12/20\", \"10/13/20\", \"10/14/20\", \"10/15/20\", \"10/16/20\", \"10/17/20\", \"10/18/20\", \"10/19/20\", \"10/20/20\", \"10/21/20\", \"10/22/20\", \"10/23/20\", \"10/24/20\", \"10/25/20\", \"10/26/20\", \"10/27/20\", \"10/28/20\", \"10/29/20\", \"10/30/20\", \"10/31/20\", \"11/1/20\", \"11/2/20\", \"11/3/20\", \"11/4/20\", \"11/5/20\", \"11/6/20\", \"11/7/20\", \"11/8/20\", \"11/9/20\", \"11/10/20\", \"11/11/20\", \"11/12/20\", \"11/13/20\", \"11/14/20\", \"11/15/20\", \"11/16/20\", \"11/17/20\", \"11/18/20\", \"11/19/20\", \"11/20/20\", \"11/21/20\", \"11/22/20\", \"11/23/20\", \"11/24/20\", \"11/25/20\", \"11/26/20\", \"11/27/20\", \"11/28/20\", \"11/29/20\", \"11/30/20\", \"12/1/20\", \"12/2/20\", \"12/3/20\", \"12/4/20\", \"12/5/20\", \"12/6/20\", \"12/7/20\", \"12/8/20\", \"12/9/20\", \"12/10/20\", \"12/11/20\", \"12/12/20\", \"12/13/20\", \"12/14/20\", \"12/15/20\", \"12/16/20\", \"12/17/20\", \"12/18/20\", \"12/19/20\", \"12/20/20\", \"12/21/20\", \"12/22/20\", \"12/23/20\", \"12/24/20\", \"12/25/20\", \"12/26/20\", \"12/27/20\", \"12/28/20\", \"12/29/20\", \"12/30/20\", \"12/31/20\", \"1/1/21\", \"1/2/21\", \"1/3/21\", \"1/4/21\", \"1/5/21\", \"1/6/21\", \"1/7/21\", \"1/8/21\", \"1/9/21\"], \"y\": [555, 654, 941, 1434, 2118, 2927, 5578, 6167, 8235, 9927, 12038, 16787, 19887, 23898, 27643, 30803, 34396, 37130, 40160, 42769, 44811, 45229, 60382, 66909, 69051, 71235, 73270, 75152, 75652, 76212, 76841, 78602, 78982, 79546, 80399, 81376, 82736, 84123, 86013, 88394, 90377, 92971, 95279, 98090, 102003, 106098, 110047, 114219, 119041, 126702, 132492, 146879, 157952, 169222, 184032, 199976, 219535, 246584, 277361, 309363, 344194, 387045, 428205, 479223, 542053, 607114, 674360, 733612, 798890, 875739, 958530, 1041577, 1125107, 1183515, 1256123, 1329293, 1399126, 1482482, 1569522, 1655055, 1729410, 1849130, 1919850, 2003793, 2080933, 2176493, 2264175, 2341486, 2418187, 2494206, 2569825, 2650976, 2735250, 2819321, 2901569, 2973235, 3043343, 3118638, 3195702, 3279215, 3367596, 3446826, 3523296, 3600881, 3681316, 3771277, 3859956, 3950374, 4035478, 4110737, 4187248, 4271582, 4356540, 4452717, 4548416, 4643183, 4721053, 4810081, 4906818, 5008557, 5115185, 5221773, 5326692, 5420870, 5507683, 5601464, 5704298, 5823137, 5944312, 6081129, 6187688, 6283412, 6404947, 6519255, 6649967, 6781187, 6915388, 7027491, 7130068, 7254793, 7389683, 7527630, 7656115, 7791363, 7923870, 8043377, 8185170, 8328429, 8468718, 8648457, 8805537, 8933123, 9071725, 9237636, 9409214, 9587161, 9778495, 9956148, 10119480, 10274299, 10448273, 10665607, 10875115, 11076265, 11270273, 11454335, 11618185, 11829440, 12043740, 12270783, 12503268, 12720562, 12913047, 13104031, 13326299, 13557803, 13808976, 14051166, 14287650, 14501352, 14708022, 14942003, 15222178, 15505272, 15786472, 16040630, 16253843, 16479885, 16732439, 17024022, 17304205, 17594979, 17843501, 18074711, 18281211, 18538905, 18815087, 19100515, 19382300, 19641007, 19865940, 20092665, 20349277, 20626693, 20916495, 21220624, 21468161, 21683175, 21890827, 22149073, 22428705, 22701166, 22962250, 23226765, 23433067, 23658494, 23902328, 24186344, 24470176, 24753888, 25018005, 25239199, 25501958, 25766677, 26050219, 26331253, 26645151, 26915102, 27145852, 27363626, 27605680, 27890154, 28190101, 28511180, 28797770, 29040535, 29303969, 29589296, 29893235, 30208054, 30533803, 30825957, 31078005, 31353792, 31637929, 31913487, 32266184, 32596835, 32885131, 33136936, 33391394, 33673583, 33999522, 34317628, 34615090, 34947311, 35208883, 35509601, 35835692, 36186331, 36547385, 36907903, 37264844, 37551927, 37843216, 38162187, 38544103, 38950698, 39362030, 39734422, 40050940, 40437480, 40826252, 41270601, 41742921, 42239009, 42695629, 43055856, 43541793, 44011249, 44522133, 45072105, 45642269, 46118432, 46580454, 47141587, 47694135, 48204635, 48800192, 49443977, 50041364, 50521799, 51023673, 51581389, 52229436, 52877112, 53527660, 54123385, 54597004, 55127844, 55737110, 56362834, 57014370, 57681398, 58270431, 58758377, 59277920, 59866876, 60502884, 61087316, 61758405, 62357123, 62845518, 63349036, 63957860, 64605328, 65297417, 65977950, 66621079, 67160746, 67674856, 68313015, 68982187, 70476480, 71175350, 71798501, 72346947, 72871647, 73496513, 74230152, 74966767, 75684235, 76299695, 76834021, 77377474, 78024150, 78716464, 79386255, 79853790, 80366419, 80805330, 81293122, 81954428, 82713005, 83430923, 83967133, 84594632, 85128646, 85673981, 86409337, 87186540, 88048288, 88860500, 89634318]}, {\"connectgaps\": true, \"line\": {\"color\": \"red\", \"width\": 5}, \"mode\": \"lines+markers\", \"name\": \"deaths\", \"text\": \"Total deaths: 1926624\", \"type\": \"scatter\", \"x\": [\"2/7/20\", \"2/8/20\", \"2/9/20\", \"2/10/20\", \"2/11/20\", \"2/12/20\", \"2/13/20\", \"2/14/20\", \"2/15/20\", \"2/16/20\", \"2/17/20\", \"2/18/20\", \"2/19/20\", \"2/20/20\", \"2/21/20\", \"2/22/20\", \"2/23/20\", \"2/24/20\", \"2/25/20\", \"2/26/20\", \"2/27/20\", \"2/28/20\", \"2/29/20\", \"3/1/20\", \"3/2/20\", \"3/3/20\", \"3/4/20\", \"3/5/20\", \"3/6/20\", \"3/7/20\", \"3/8/20\", \"3/9/20\", \"3/10/20\", \"3/11/20\", \"3/12/20\", \"3/13/20\", \"3/14/20\", \"3/15/20\", \"3/16/20\", \"3/17/20\", \"3/18/20\", \"3/19/20\", \"3/20/20\", \"3/21/20\", \"3/22/20\", \"3/23/20\", \"3/24/20\", \"3/25/20\", \"3/26/20\", \"3/27/20\", \"3/28/20\", \"3/29/20\", \"3/30/20\", \"3/31/20\", \"4/1/20\", \"4/2/20\", \"4/3/20\", \"4/4/20\", \"4/5/20\", \"4/6/20\", \"4/7/20\", \"4/8/20\", \"4/9/20\", \"4/10/20\", \"4/11/20\", \"4/12/20\", \"4/13/20\", \"4/14/20\", \"4/15/20\", \"4/16/20\", \"4/17/20\", \"4/18/20\", \"4/19/20\", \"4/20/20\", \"4/21/20\", \"4/22/20\", \"4/23/20\", \"4/24/20\", \"4/25/20\", \"4/26/20\", \"4/27/20\", \"4/28/20\", \"4/29/20\", \"4/30/20\", \"5/1/20\", \"5/2/20\", \"5/3/20\", \"5/4/20\", \"5/5/20\", \"5/6/20\", \"5/7/20\", \"5/8/20\", \"5/9/20\", \"5/10/20\", \"5/11/20\", \"5/12/20\", \"5/13/20\", \"5/14/20\", \"5/15/20\", \"5/16/20\", \"5/17/20\", \"5/18/20\", \"5/19/20\", \"5/20/20\", \"5/21/20\", \"5/22/20\", \"5/23/20\", \"5/24/20\", \"5/25/20\", \"5/26/20\", \"5/27/20\", \"5/28/20\", \"5/29/20\", \"5/30/20\", \"5/31/20\", \"6/1/20\", \"6/2/20\", \"6/3/20\", \"6/4/20\", \"6/5/20\", \"6/6/20\", \"6/7/20\", \"6/8/20\", \"6/9/20\", \"6/10/20\", \"6/11/20\", \"6/12/20\", \"6/13/20\", \"6/14/20\", \"6/15/20\", \"6/16/20\", \"6/17/20\", \"6/18/20\", \"6/19/20\", \"6/20/20\", \"6/21/20\", \"6/22/20\", \"6/23/20\", \"6/24/20\", \"6/25/20\", \"6/26/20\", \"6/27/20\", \"6/28/20\", \"6/29/20\", \"6/30/20\", \"7/1/20\", \"7/2/20\", \"7/3/20\", \"7/4/20\", \"7/5/20\", \"7/6/20\", \"7/7/20\", \"7/8/20\", \"7/9/20\", \"7/10/20\", \"7/11/20\", \"7/12/20\", \"7/13/20\", \"7/14/20\", \"7/15/20\", \"7/16/20\", \"7/17/20\", \"7/18/20\", \"7/19/20\", \"7/20/20\", \"7/21/20\", \"7/22/20\", \"7/23/20\", \"7/24/20\", \"7/25/20\", \"7/26/20\", \"7/27/20\", \"7/28/20\", \"7/29/20\", \"7/30/20\", \"7/31/20\", \"8/1/20\", \"8/2/20\", \"8/3/20\", \"8/4/20\", \"8/5/20\", \"8/6/20\", \"8/7/20\", \"8/8/20\", \"8/9/20\", \"8/10/20\", \"8/11/20\", \"8/12/20\", \"8/13/20\", \"8/14/20\", \"8/15/20\", \"8/16/20\", \"8/17/20\", \"8/18/20\", \"8/19/20\", \"8/20/20\", \"8/21/20\", \"8/22/20\", \"8/23/20\", \"8/24/20\", \"8/25/20\", \"8/26/20\", \"8/27/20\", \"8/28/20\", \"8/29/20\", \"8/30/20\", \"8/31/20\", \"9/1/20\", \"9/2/20\", \"9/3/20\", \"9/4/20\", \"9/5/20\", \"9/6/20\", \"9/7/20\", \"9/8/20\", \"9/9/20\", \"9/10/20\", \"9/11/20\", \"9/12/20\", \"9/13/20\", \"9/14/20\", \"9/15/20\", \"9/16/20\", \"9/17/20\", \"9/18/20\", \"9/19/20\", \"9/20/20\", \"9/21/20\", \"9/22/20\", \"9/23/20\", \"9/24/20\", \"9/25/20\", \"9/26/20\", \"9/27/20\", \"9/28/20\", \"9/29/20\", \"9/30/20\", \"10/1/20\", \"10/2/20\", \"10/3/20\", \"10/4/20\", \"10/5/20\", \"10/6/20\", \"10/7/20\", \"10/8/20\", \"10/9/20\", \"10/10/20\", \"10/11/20\", \"10/12/20\", \"10/13/20\", \"10/14/20\", \"10/15/20\", \"10/16/20\", \"10/17/20\", \"10/18/20\", \"10/19/20\", \"10/20/20\", \"10/21/20\", \"10/22/20\", \"10/23/20\", \"10/24/20\", \"10/25/20\", \"10/26/20\", \"10/27/20\", \"10/28/20\", \"10/29/20\", \"10/30/20\", \"10/31/20\", \"11/1/20\", \"11/2/20\", \"11/3/20\", \"11/4/20\", \"11/5/20\", \"11/6/20\", \"11/7/20\", \"11/8/20\", \"11/9/20\", \"11/10/20\", \"11/11/20\", \"11/12/20\", \"11/13/20\", \"11/14/20\", \"11/15/20\", \"11/16/20\", \"11/17/20\", \"11/18/20\", \"11/19/20\", \"11/20/20\", \"11/21/20\", \"11/22/20\", \"11/23/20\", \"11/24/20\", \"11/25/20\", \"11/26/20\", \"11/27/20\", \"11/28/20\", \"11/29/20\", \"11/30/20\", \"12/1/20\", \"12/2/20\", \"12/3/20\", \"12/4/20\", \"12/5/20\", \"12/6/20\", \"12/7/20\", \"12/8/20\", \"12/9/20\", \"12/10/20\", \"12/11/20\", \"12/12/20\", \"12/13/20\", \"12/14/20\", \"12/15/20\", \"12/16/20\", \"12/17/20\", \"12/18/20\", \"12/19/20\", \"12/20/20\", \"12/21/20\", \"12/22/20\", \"12/23/20\", \"12/24/20\", \"12/25/20\", \"12/26/20\", \"12/27/20\", \"12/28/20\", \"12/29/20\", \"12/30/20\", \"12/31/20\", \"1/1/21\", \"1/2/21\", \"1/3/21\", \"1/4/21\", \"1/5/21\", \"1/6/21\", \"1/7/21\", \"1/8/21\", \"1/9/21\"], \"y\": [17, 18, 26, 42, 56, 82, 131, 133, 171, 213, 259, 362, 426, 492, 564, 634, 719, 806, 906, 1013, 1113, 1118, 1371, 1523, 1666, 1770, 1868, 2008, 2123, 2248, 2252, 2459, 2470, 2630, 2710, 2771, 2814, 2873, 2942, 2996, 3085, 3160, 3255, 3349, 3460, 3564, 3803, 3993, 4267, 4611, 4917, 5414, 5834, 6475, 7153, 7965, 8868, 9980, 11461, 13183, 14857, 16798, 19083, 21882, 24902, 28396, 32112, 35588, 39640, 44389, 50348, 56201, 62325, 68497, 73681, 79607, 87838, 94587, 102333, 109723, 115958, 121787, 127714, 134680, 143030, 150308, 158673, 164696, 169958, 175833, 183013, 189732, 196559, 203225, 208863, 212820, 217492, 224021, 230747, 236728, 241888, 247414, 250899, 255006, 260880, 267428, 272716, 278193, 282471, 286075, 289540, 295067, 300138, 305327, 310446, 314721, 317919, 321619, 326314, 331073, 335793, 341062, 345034, 348034, 349236, 353418, 358483, 363089, 367687, 371748, 374728, 377813, 382526, 387962, 393092, 397640, 401496, 404248, 407938, 412765, 417817, 422497, 426710, 430901, 434318, 437738, 444460, 449555, 454516, 460667, 464871, 468884, 472444, 477663, 482840, 487531, 492239, 496723, 499875, 503611, 508543, 513478, 518548, 523487, 527880, 531368, 535205, 541208, 546510, 551895, 557181, 561992, 565987, 569885, 575473, 580891, 586662, 593308, 598933, 603010, 607211, 613396, 620320, 630225, 636283, 641807, 645515, 650706, 657000, 663587, 669625, 675835, 681298, 685607, 690278, 696882, 703887, 710349, 716643, 722070, 726653, 731921, 738131, 744726, 750936, 761060, 766448, 770667, 774818, 781700, 788395, 794444, 799878, 805443, 809308, 813796, 820059, 826344, 832230, 837738, 843058, 847094, 851256, 857694, 863773, 869478, 875351, 880298, 884089, 893452, 898365, 904464, 910270, 916143, 921047, 924720, 929136, 935656, 941458, 946928, 952614, 957873, 961599, 965701, 971662, 977293, 983967, 989856, 995187, 998850, 1002795, 1008751, 1015183, 1023882, 1028885, 1034252, 1038067, 1044992, 1050779, 1056607, 1062863, 1069017, 1073873, 1077853, 1081796, 1087074, 1093134, 1099231, 1105374, 1110956, 1114459, 1119262, 1125815, 1132478, 1138371, 1145322, 1151140, 1155284, 1160762, 1168133, 1175270, 1182326, 1189889, 1196439, 1201390, 1207464, 1216806, 1226991, 1235000, 1244613, 1252157, 1257926, 1265045, 1275037, 1285440, 1295179, 1304742, 1313746, 1320025, 1327878, 1338962, 1350273, 1361226, 1373051, 1381858, 1388916, 1397239, 1409993, 1422053, 1432799, 1443447, 1453216, 1460166, 1468840, 1481667, 1494074, 1506556, 1518951, 1529146, 1536348, 1544847, 1557121, 1569602, 1582226, 1595117, 1605337, 1612724, 1621696, 1635661, 1649210, 1662446, 1675076, 1685732, 1693412, 1702804, 1717260, 1730837, 1742462, 1750783, 1757881, 1765119, 1774557, 1790069, 1805149, 1818238, 1827646, 1835892, 1843201, 1853353, 1868779, 1883761, 1898639, 1913419, 1926624]}],\n                        {\"margin\": {\"b\": 20, \"l\": 20, \"r\": 20, \"t\": 40}, \"paper_bgcolor\": \"lightgrey\", \"template\": {\"data\": {\"bar\": [{\"error_x\": {\"color\": \"#2a3f5f\"}, \"error_y\": {\"color\": \"#2a3f5f\"}, \"marker\": {\"line\": {\"color\": \"#E5ECF6\", \"width\": 0.5}}, \"type\": \"bar\"}], \"barpolar\": [{\"marker\": {\"line\": {\"color\": \"#E5ECF6\", \"width\": 0.5}}, \"type\": \"barpolar\"}], \"carpet\": [{\"aaxis\": {\"endlinecolor\": \"#2a3f5f\", \"gridcolor\": \"white\", \"linecolor\": \"white\", \"minorgridcolor\": \"white\", \"startlinecolor\": \"#2a3f5f\"}, \"baxis\": {\"endlinecolor\": \"#2a3f5f\", \"gridcolor\": \"white\", \"linecolor\": \"white\", \"minorgridcolor\": \"white\", \"startlinecolor\": \"#2a3f5f\"}, \"type\": \"carpet\"}], \"choropleth\": [{\"colorbar\": {\"outlinewidth\": 0, \"ticks\": \"\"}, \"type\": \"choropleth\"}], \"contour\": [{\"colorbar\": {\"outlinewidth\": 0, \"ticks\": \"\"}, \"colorscale\": [[0.0, \"#0d0887\"], [0.1111111111111111, \"#46039f\"], [0.2222222222222222, \"#7201a8\"], [0.3333333333333333, \"#9c179e\"], [0.4444444444444444, \"#bd3786\"], [0.5555555555555556, \"#d8576b\"], [0.6666666666666666, \"#ed7953\"], [0.7777777777777778, \"#fb9f3a\"], [0.8888888888888888, \"#fdca26\"], [1.0, \"#f0f921\"]], \"type\": \"contour\"}], \"contourcarpet\": [{\"colorbar\": {\"outlinewidth\": 0, \"ticks\": \"\"}, \"type\": \"contourcarpet\"}], \"heatmap\": [{\"colorbar\": {\"outlinewidth\": 0, \"ticks\": \"\"}, \"colorscale\": [[0.0, \"#0d0887\"], [0.1111111111111111, \"#46039f\"], [0.2222222222222222, \"#7201a8\"], [0.3333333333333333, \"#9c179e\"], [0.4444444444444444, \"#bd3786\"], [0.5555555555555556, \"#d8576b\"], [0.6666666666666666, \"#ed7953\"], [0.7777777777777778, \"#fb9f3a\"], [0.8888888888888888, \"#fdca26\"], [1.0, \"#f0f921\"]], \"type\": \"heatmap\"}], \"heatmapgl\": [{\"colorbar\": {\"outlinewidth\": 0, \"ticks\": \"\"}, \"colorscale\": [[0.0, \"#0d0887\"], [0.1111111111111111, \"#46039f\"], [0.2222222222222222, \"#7201a8\"], [0.3333333333333333, \"#9c179e\"], [0.4444444444444444, \"#bd3786\"], [0.5555555555555556, \"#d8576b\"], [0.6666666666666666, \"#ed7953\"], [0.7777777777777778, \"#fb9f3a\"], [0.8888888888888888, \"#fdca26\"], [1.0, \"#f0f921\"]], \"type\": \"heatmapgl\"}], \"histogram\": [{\"marker\": {\"colorbar\": {\"outlinewidth\": 0, \"ticks\": \"\"}}, \"type\": \"histogram\"}], \"histogram2d\": [{\"colorbar\": {\"outlinewidth\": 0, \"ticks\": \"\"}, \"colorscale\": [[0.0, \"#0d0887\"], [0.1111111111111111, \"#46039f\"], [0.2222222222222222, \"#7201a8\"], [0.3333333333333333, \"#9c179e\"], [0.4444444444444444, \"#bd3786\"], [0.5555555555555556, \"#d8576b\"], [0.6666666666666666, \"#ed7953\"], [0.7777777777777778, \"#fb9f3a\"], [0.8888888888888888, \"#fdca26\"], [1.0, \"#f0f921\"]], \"type\": \"histogram2d\"}], \"histogram2dcontour\": [{\"colorbar\": {\"outlinewidth\": 0, \"ticks\": \"\"}, \"colorscale\": [[0.0, \"#0d0887\"], [0.1111111111111111, \"#46039f\"], [0.2222222222222222, \"#7201a8\"], [0.3333333333333333, \"#9c179e\"], [0.4444444444444444, \"#bd3786\"], [0.5555555555555556, \"#d8576b\"], [0.6666666666666666, \"#ed7953\"], [0.7777777777777778, \"#fb9f3a\"], [0.8888888888888888, \"#fdca26\"], [1.0, \"#f0f921\"]], \"type\": \"histogram2dcontour\"}], \"mesh3d\": [{\"colorbar\": {\"outlinewidth\": 0, \"ticks\": \"\"}, \"type\": \"mesh3d\"}], \"parcoords\": [{\"line\": {\"colorbar\": {\"outlinewidth\": 0, \"ticks\": \"\"}}, \"type\": \"parcoords\"}], \"pie\": [{\"automargin\": true, \"type\": \"pie\"}], \"scatter\": [{\"marker\": {\"colorbar\": {\"outlinewidth\": 0, \"ticks\": \"\"}}, \"type\": \"scatter\"}], \"scatter3d\": [{\"line\": {\"colorbar\": {\"outlinewidth\": 0, \"ticks\": \"\"}}, \"marker\": {\"colorbar\": {\"outlinewidth\": 0, \"ticks\": \"\"}}, \"type\": \"scatter3d\"}], \"scattercarpet\": [{\"marker\": {\"colorbar\": {\"outlinewidth\": 0, \"ticks\": \"\"}}, \"type\": \"scattercarpet\"}], \"scattergeo\": [{\"marker\": {\"colorbar\": {\"outlinewidth\": 0, \"ticks\": \"\"}}, \"type\": \"scattergeo\"}], \"scattergl\": [{\"marker\": {\"colorbar\": {\"outlinewidth\": 0, \"ticks\": \"\"}}, \"type\": \"scattergl\"}], \"scattermapbox\": [{\"marker\": {\"colorbar\": {\"outlinewidth\": 0, \"ticks\": \"\"}}, \"type\": \"scattermapbox\"}], \"scatterpolar\": [{\"marker\": {\"colorbar\": {\"outlinewidth\": 0, \"ticks\": \"\"}}, \"type\": \"scatterpolar\"}], \"scatterpolargl\": [{\"marker\": {\"colorbar\": {\"outlinewidth\": 0, \"ticks\": \"\"}}, \"type\": \"scatterpolargl\"}], \"scatterternary\": [{\"marker\": {\"colorbar\": {\"outlinewidth\": 0, \"ticks\": \"\"}}, \"type\": \"scatterternary\"}], \"surface\": [{\"colorbar\": {\"outlinewidth\": 0, \"ticks\": \"\"}, \"colorscale\": [[0.0, \"#0d0887\"], [0.1111111111111111, \"#46039f\"], [0.2222222222222222, \"#7201a8\"], [0.3333333333333333, \"#9c179e\"], [0.4444444444444444, \"#bd3786\"], [0.5555555555555556, \"#d8576b\"], [0.6666666666666666, \"#ed7953\"], [0.7777777777777778, \"#fb9f3a\"], [0.8888888888888888, \"#fdca26\"], [1.0, \"#f0f921\"]], \"type\": \"surface\"}], \"table\": [{\"cells\": {\"fill\": {\"color\": \"#EBF0F8\"}, \"line\": {\"color\": \"white\"}}, \"header\": {\"fill\": {\"color\": \"#C8D4E3\"}, \"line\": {\"color\": \"white\"}}, \"type\": \"table\"}]}, \"layout\": {\"annotationdefaults\": {\"arrowcolor\": \"#2a3f5f\", \"arrowhead\": 0, \"arrowwidth\": 1}, \"coloraxis\": {\"colorbar\": {\"outlinewidth\": 0, \"ticks\": \"\"}}, \"colorscale\": {\"diverging\": [[0, \"#8e0152\"], [0.1, \"#c51b7d\"], [0.2, \"#de77ae\"], [0.3, \"#f1b6da\"], [0.4, \"#fde0ef\"], [0.5, \"#f7f7f7\"], [0.6, \"#e6f5d0\"], [0.7, \"#b8e186\"], [0.8, \"#7fbc41\"], [0.9, \"#4d9221\"], [1, \"#276419\"]], \"sequential\": [[0.0, \"#0d0887\"], [0.1111111111111111, \"#46039f\"], [0.2222222222222222, \"#7201a8\"], [0.3333333333333333, \"#9c179e\"], [0.4444444444444444, \"#bd3786\"], [0.5555555555555556, \"#d8576b\"], [0.6666666666666666, \"#ed7953\"], [0.7777777777777778, \"#fb9f3a\"], [0.8888888888888888, \"#fdca26\"], [1.0, \"#f0f921\"]], \"sequentialminus\": [[0.0, \"#0d0887\"], [0.1111111111111111, \"#46039f\"], [0.2222222222222222, \"#7201a8\"], [0.3333333333333333, \"#9c179e\"], [0.4444444444444444, \"#bd3786\"], [0.5555555555555556, \"#d8576b\"], [0.6666666666666666, \"#ed7953\"], [0.7777777777777778, \"#fb9f3a\"], [0.8888888888888888, \"#fdca26\"], [1.0, \"#f0f921\"]]}, \"colorway\": [\"#636efa\", \"#EF553B\", \"#00cc96\", \"#ab63fa\", \"#FFA15A\", \"#19d3f3\", \"#FF6692\", \"#B6E880\", \"#FF97FF\", \"#FECB52\"], \"font\": {\"color\": \"#2a3f5f\"}, \"geo\": {\"bgcolor\": \"white\", \"lakecolor\": \"white\", \"landcolor\": \"#E5ECF6\", \"showlakes\": true, \"showland\": true, \"subunitcolor\": \"white\"}, \"hoverlabel\": {\"align\": \"left\"}, \"hovermode\": \"closest\", \"mapbox\": {\"style\": \"light\"}, \"paper_bgcolor\": \"white\", \"plot_bgcolor\": \"#E5ECF6\", \"polar\": {\"angularaxis\": {\"gridcolor\": \"white\", \"linecolor\": \"white\", \"ticks\": \"\"}, \"bgcolor\": \"#E5ECF6\", \"radialaxis\": {\"gridcolor\": \"white\", \"linecolor\": \"white\", \"ticks\": \"\"}}, \"scene\": {\"xaxis\": {\"backgroundcolor\": \"#E5ECF6\", \"gridcolor\": \"white\", \"gridwidth\": 2, \"linecolor\": \"white\", \"showbackground\": true, \"ticks\": \"\", \"zerolinecolor\": \"white\"}, \"yaxis\": {\"backgroundcolor\": \"#E5ECF6\", \"gridcolor\": \"white\", \"gridwidth\": 2, \"linecolor\": \"white\", \"showbackground\": true, \"ticks\": \"\", \"zerolinecolor\": \"white\"}, \"zaxis\": {\"backgroundcolor\": \"#E5ECF6\", \"gridcolor\": \"white\", \"gridwidth\": 2, \"linecolor\": \"white\", \"showbackground\": true, \"ticks\": \"\", \"zerolinecolor\": \"white\"}}, \"shapedefaults\": {\"line\": {\"color\": \"#2a3f5f\"}}, \"ternary\": {\"aaxis\": {\"gridcolor\": \"white\", \"linecolor\": \"white\", \"ticks\": \"\"}, \"baxis\": {\"gridcolor\": \"white\", \"linecolor\": \"white\", \"ticks\": \"\"}, \"bgcolor\": \"#E5ECF6\", \"caxis\": {\"gridcolor\": \"white\", \"linecolor\": \"white\", \"ticks\": \"\"}}, \"title\": {\"x\": 0.05}, \"xaxis\": {\"automargin\": true, \"gridcolor\": \"white\", \"linecolor\": \"white\", \"ticks\": \"\", \"title\": {\"standoff\": 15}, \"zerolinecolor\": \"white\", \"zerolinewidth\": 2}, \"yaxis\": {\"automargin\": true, \"gridcolor\": \"white\", \"linecolor\": \"white\", \"ticks\": \"\", \"title\": {\"standoff\": 15}, \"zerolinecolor\": \"white\", \"zerolinewidth\": 2}}}, \"title\": {\"text\": \"COVID 19 cases of World\"}, \"width\": 800, \"xaxis\": {\"title\": {\"text\": \"Date\"}}, \"yaxis\": {\"title\": {\"text\": \"No. of Confirmed Cases\"}, \"type\": \"linear\"}},\n                        {\"responsive\": true}\n                    ).then(function(){\n                            \nvar gd = document.getElementById('769ae5fd-4745-424d-b6e5-c7b5dc74c474');\nvar x = new MutationObserver(function (mutations, observer) {{\n        var display = window.getComputedStyle(gd).display;\n        if (!display || display === 'none') {{\n            console.log([gd, 'removed!']);\n            Plotly.purge(gd);\n            observer.disconnect();\n        }}\n}});\n\n// Listen for the removal of the full notebook cells\nvar notebookContainer = gd.closest('#notebook-container');\nif (notebookContainer) {{\n    x.observe(notebookContainer, {childList: true});\n}}\n\n// Listen for the clearing of the current output cell\nvar outputEl = gd.closest('.output');\nif (outputEl) {{\n    x.observe(outputEl, {childList: true});\n}}\n\n                        })\n                };\n                \n            </script>\n        </div>\n</body>\n</html>"
              }
            ],
            "_view_module": "@jupyter-widgets/output",
            "_model_module_version": "1.0.0",
            "_view_count": null,
            "_view_module_version": "1.0.0",
            "layout": "IPY_MODEL_4c31471c805a488b8deb28e1bcce56ec",
            "_model_module": "@jupyter-widgets/output"
          }
        },
        "1e21e20b04c04c739e88d50956b650ff": {
          "model_module": "@jupyter-widgets/controls",
          "model_name": "DescriptionStyleModel",
          "state": {
            "_view_name": "StyleView",
            "_model_name": "DescriptionStyleModel",
            "description_width": "",
            "_view_module": "@jupyter-widgets/base",
            "_model_module_version": "1.5.0",
            "_view_count": null,
            "_view_module_version": "1.2.0",
            "_model_module": "@jupyter-widgets/controls"
          }
        },
        "455b23db80294f829092d8f113394f11": {
          "model_module": "@jupyter-widgets/base",
          "model_name": "LayoutModel",
          "state": {
            "_view_name": "LayoutView",
            "grid_template_rows": null,
            "right": null,
            "justify_content": null,
            "_view_module": "@jupyter-widgets/base",
            "overflow": null,
            "_model_module_version": "1.2.0",
            "_view_count": null,
            "flex_flow": null,
            "width": null,
            "min_width": null,
            "border": null,
            "align_items": null,
            "bottom": null,
            "_model_module": "@jupyter-widgets/base",
            "top": null,
            "grid_column": null,
            "overflow_y": null,
            "overflow_x": null,
            "grid_auto_flow": null,
            "grid_area": null,
            "grid_template_columns": null,
            "flex": null,
            "_model_name": "LayoutModel",
            "justify_items": null,
            "grid_row": null,
            "max_height": null,
            "align_content": null,
            "visibility": null,
            "align_self": null,
            "height": null,
            "min_height": null,
            "padding": null,
            "grid_auto_rows": null,
            "grid_gap": null,
            "max_width": null,
            "order": null,
            "_view_module_version": "1.2.0",
            "grid_template_areas": null,
            "object_position": null,
            "object_fit": null,
            "grid_auto_columns": null,
            "margin": null,
            "display": null,
            "left": null
          }
        },
        "4c31471c805a488b8deb28e1bcce56ec": {
          "model_module": "@jupyter-widgets/base",
          "model_name": "LayoutModel",
          "state": {
            "_view_name": "LayoutView",
            "grid_template_rows": null,
            "right": null,
            "justify_content": null,
            "_view_module": "@jupyter-widgets/base",
            "overflow": null,
            "_model_module_version": "1.2.0",
            "_view_count": null,
            "flex_flow": null,
            "width": null,
            "min_width": null,
            "border": null,
            "align_items": null,
            "bottom": null,
            "_model_module": "@jupyter-widgets/base",
            "top": null,
            "grid_column": null,
            "overflow_y": null,
            "overflow_x": null,
            "grid_auto_flow": null,
            "grid_area": null,
            "grid_template_columns": null,
            "flex": null,
            "_model_name": "LayoutModel",
            "justify_items": null,
            "grid_row": null,
            "max_height": null,
            "align_content": null,
            "visibility": null,
            "align_self": null,
            "height": null,
            "min_height": null,
            "padding": null,
            "grid_auto_rows": null,
            "grid_gap": null,
            "max_width": null,
            "order": null,
            "_view_module_version": "1.2.0",
            "grid_template_areas": null,
            "object_position": null,
            "object_fit": null,
            "grid_auto_columns": null,
            "margin": null,
            "display": null,
            "left": null
          }
        },
        "d16d17b203ad4b27bc11d444f2b1b041": {
          "model_module": "@jupyter-widgets/controls",
          "model_name": "VBoxModel",
          "state": {
            "_view_name": "VBoxView",
            "_dom_classes": [],
            "_model_name": "VBoxModel",
            "_view_module": "@jupyter-widgets/controls",
            "_model_module_version": "1.5.0",
            "_view_count": null,
            "_view_module_version": "1.5.0",
            "box_style": "",
            "layout": "IPY_MODEL_7faf66e4146841c2b2746e4e30fe7326",
            "_model_module": "@jupyter-widgets/controls",
            "children": [
              "IPY_MODEL_fa3ca2c6d6244ae4a42b7181b4d4565c"
            ]
          }
        },
        "7faf66e4146841c2b2746e4e30fe7326": {
          "model_module": "@jupyter-widgets/base",
          "model_name": "LayoutModel",
          "state": {
            "_view_name": "LayoutView",
            "grid_template_rows": null,
            "right": null,
            "justify_content": null,
            "_view_module": "@jupyter-widgets/base",
            "overflow": null,
            "_model_module_version": "1.2.0",
            "_view_count": null,
            "flex_flow": null,
            "width": null,
            "min_width": null,
            "border": "solid 2px green",
            "align_items": null,
            "bottom": null,
            "_model_module": "@jupyter-widgets/base",
            "top": null,
            "grid_column": null,
            "overflow_y": null,
            "overflow_x": null,
            "grid_auto_flow": null,
            "grid_area": null,
            "grid_template_columns": null,
            "flex": null,
            "_model_name": "LayoutModel",
            "justify_items": null,
            "grid_row": null,
            "max_height": null,
            "align_content": null,
            "visibility": null,
            "align_self": null,
            "height": null,
            "min_height": null,
            "padding": null,
            "grid_auto_rows": null,
            "grid_gap": null,
            "max_width": null,
            "order": null,
            "_view_module_version": "1.2.0",
            "grid_template_areas": null,
            "object_position": null,
            "object_fit": null,
            "grid_auto_columns": null,
            "margin": null,
            "display": "none",
            "left": null
          }
        }
      }
    }
  },
  "cells": [
    {
      "cell_type": "code",
      "metadata": {
        "id": "K4HGORU9EqmP"
      },
      "source": [
        "from __future__ import print_function\r\n",
        "from ipywidgets import interact, interactive, fixed, interact_manual\r\n",
        "from IPython.core.display import display, HTML\r\n",
        "from datetime import datetime, date, timedelta\r\n",
        "\r\n",
        "import numpy as np\r\n",
        "import pandas as pd\r\n",
        "import matplotlib.pyplot as plt\r\n",
        "import plotly.express as px\r\n",
        "\r\n",
        "import plotly.graph_objects as go\r\n",
        "import seaborn as sns\r\n",
        "import ipywidgets as widgets"
      ],
      "execution_count": 149,
      "outputs": []
    },
    {
      "cell_type": "code",
      "metadata": {
        "id": "KOzLLDJ4EzJw"
      },
      "source": [
        "death_df = pd.read_csv('https://raw.githubusercontent.com/CSSEGISandData/COVID-19/master/csse_covid_19_data/csse_covid_19_time_series/time_series_covid19_deaths_global.csv')\r\n",
        "confirmed_df = pd.read_csv('https://raw.githubusercontent.com/CSSEGISandData/COVID-19/master/csse_covid_19_data/csse_covid_19_time_series/time_series_covid19_confirmed_global.csv')\r\n",
        "recovered_df = pd.read_csv('https://raw.githubusercontent.com/CSSEGISandData/COVID-19/master/csse_covid_19_data/csse_covid_19_time_series/time_series_covid19_recovered_global.csv')\r\n",
        "country_df = pd.read_csv('https://raw.githubusercontent.com/CSSEGISandData/COVID-19/web-data/data/cases_country.csv')\r\n"
      ],
      "execution_count": 150,
      "outputs": []
    },
    {
      "cell_type": "code",
      "metadata": {
        "id": "injTa_J0FdCQ"
      },
      "source": [
        "country_df.columns = map(str.lower, country_df.columns)\r\n",
        "confirmed_df.columns = map(str.lower, confirmed_df.columns)\r\n",
        "death_df.columns = map(str.lower, death_df.columns)\r\n",
        "recovered_df.columns = map(str.lower, recovered_df.columns)"
      ],
      "execution_count": 152,
      "outputs": []
    },
    {
      "cell_type": "code",
      "metadata": {
        "id": "hKjM5v3UFve-"
      },
      "source": [
        "# changing province/state to state and country/region to country\r\n",
        "confirmed_df = confirmed_df.rename(columns={'province/state': 'state', 'country/region': 'country'})\r\n",
        "recovered_df = confirmed_df.rename(columns={'province/state': 'state', 'country/region': 'country'})\r\n",
        "death_df = death_df.rename(columns={'province/state': 'state', 'country/region': 'country'})\r\n",
        "country_df = country_df.rename(columns={'country_region': 'country'})"
      ],
      "execution_count": 153,
      "outputs": []
    },
    {
      "cell_type": "code",
      "metadata": {
        "colab": {
          "base_uri": "https://localhost:8080/",
          "height": 281
        },
        "id": "Ood33b4GJfN3",
        "outputId": "2b665397-47a6-4c4d-e612-d96e4ed60697"
      },
      "source": [
        "sorted_country_df=country_df.sort_values('confirmed',ascending=False).head()\r\n",
        "sorted_country_df"
      ],
      "execution_count": 154,
      "outputs": [
        {
          "output_type": "execute_result",
          "data": {
            "text/html": [
              "<div>\n",
              "<style scoped>\n",
              "    .dataframe tbody tr th:only-of-type {\n",
              "        vertical-align: middle;\n",
              "    }\n",
              "\n",
              "    .dataframe tbody tr th {\n",
              "        vertical-align: top;\n",
              "    }\n",
              "\n",
              "    .dataframe thead th {\n",
              "        text-align: right;\n",
              "    }\n",
              "</style>\n",
              "<table border=\"1\" class=\"dataframe\">\n",
              "  <thead>\n",
              "    <tr style=\"text-align: right;\">\n",
              "      <th></th>\n",
              "      <th>country</th>\n",
              "      <th>last_update</th>\n",
              "      <th>lat</th>\n",
              "      <th>long_</th>\n",
              "      <th>confirmed</th>\n",
              "      <th>deaths</th>\n",
              "      <th>recovered</th>\n",
              "      <th>active</th>\n",
              "      <th>incident_rate</th>\n",
              "      <th>people_tested</th>\n",
              "      <th>people_hospitalized</th>\n",
              "      <th>mortality_rate</th>\n",
              "      <th>uid</th>\n",
              "      <th>iso3</th>\n",
              "    </tr>\n",
              "  </thead>\n",
              "  <tbody>\n",
              "    <tr>\n",
              "      <th>177</th>\n",
              "      <td>US</td>\n",
              "      <td>2021-01-10 19:22:28</td>\n",
              "      <td>40.000000</td>\n",
              "      <td>-100.00000</td>\n",
              "      <td>22255827.0</td>\n",
              "      <td>373463.0</td>\n",
              "      <td>NaN</td>\n",
              "      <td>21882364.0</td>\n",
              "      <td>6755.115212</td>\n",
              "      <td>NaN</td>\n",
              "      <td>NaN</td>\n",
              "      <td>1.678046</td>\n",
              "      <td>840</td>\n",
              "      <td>USA</td>\n",
              "    </tr>\n",
              "    <tr>\n",
              "      <th>79</th>\n",
              "      <td>India</td>\n",
              "      <td>2021-01-10 19:22:28</td>\n",
              "      <td>20.593684</td>\n",
              "      <td>78.96288</td>\n",
              "      <td>10450284.0</td>\n",
              "      <td>150999.0</td>\n",
              "      <td>10075950.0</td>\n",
              "      <td>223335.0</td>\n",
              "      <td>757.264550</td>\n",
              "      <td>NaN</td>\n",
              "      <td>NaN</td>\n",
              "      <td>1.444927</td>\n",
              "      <td>356</td>\n",
              "      <td>IND</td>\n",
              "    </tr>\n",
              "    <tr>\n",
              "      <th>23</th>\n",
              "      <td>Brazil</td>\n",
              "      <td>2021-01-10 19:22:28</td>\n",
              "      <td>-14.235000</td>\n",
              "      <td>-51.92530</td>\n",
              "      <td>8075998.0</td>\n",
              "      <td>202631.0</td>\n",
              "      <td>7208704.0</td>\n",
              "      <td>664663.0</td>\n",
              "      <td>3799.407440</td>\n",
              "      <td>NaN</td>\n",
              "      <td>NaN</td>\n",
              "      <td>2.509052</td>\n",
              "      <td>76</td>\n",
              "      <td>BRA</td>\n",
              "    </tr>\n",
              "    <tr>\n",
              "      <th>141</th>\n",
              "      <td>Russia</td>\n",
              "      <td>2021-01-10 19:22:28</td>\n",
              "      <td>61.524000</td>\n",
              "      <td>105.31880</td>\n",
              "      <td>3366715.0</td>\n",
              "      <td>60963.0</td>\n",
              "      <td>2750102.0</td>\n",
              "      <td>555650.0</td>\n",
              "      <td>2307.004802</td>\n",
              "      <td>NaN</td>\n",
              "      <td>NaN</td>\n",
              "      <td>1.810756</td>\n",
              "      <td>643</td>\n",
              "      <td>RUS</td>\n",
              "    </tr>\n",
              "    <tr>\n",
              "      <th>181</th>\n",
              "      <td>United Kingdom</td>\n",
              "      <td>2021-01-10 19:22:28</td>\n",
              "      <td>55.000000</td>\n",
              "      <td>-3.00000</td>\n",
              "      <td>3081305.0</td>\n",
              "      <td>81563.0</td>\n",
              "      <td>6862.0</td>\n",
              "      <td>2992880.0</td>\n",
              "      <td>4538.940015</td>\n",
              "      <td>NaN</td>\n",
              "      <td>NaN</td>\n",
              "      <td>2.647028</td>\n",
              "      <td>826</td>\n",
              "      <td>GBR</td>\n",
              "    </tr>\n",
              "  </tbody>\n",
              "</table>\n",
              "</div>"
            ],
            "text/plain": [
              "            country          last_update        lat  ...  mortality_rate  uid  iso3\n",
              "177              US  2021-01-10 19:22:28  40.000000  ...        1.678046  840   USA\n",
              "79            India  2021-01-10 19:22:28  20.593684  ...        1.444927  356   IND\n",
              "23           Brazil  2021-01-10 19:22:28 -14.235000  ...        2.509052   76   BRA\n",
              "141          Russia  2021-01-10 19:22:28  61.524000  ...        1.810756  643   RUS\n",
              "181  United Kingdom  2021-01-10 19:22:28  55.000000  ...        2.647028  826   GBR\n",
              "\n",
              "[5 rows x 14 columns]"
            ]
          },
          "metadata": {
            "tags": []
          },
          "execution_count": 154
        }
      ]
    },
    {
      "cell_type": "code",
      "metadata": {
        "colab": {
          "base_uri": "https://localhost:8080/",
          "height": 124
        },
        "id": "06QHkXM9HSRY",
        "outputId": "649d00d7-df33-43ec-d748-ae2506f4f753"
      },
      "source": [
        "def highlight_col(x):\r\n",
        "  r='background-color:red'\r\n",
        "  p='background-color:blue'\r\n",
        "  q='background-color:grey'\r\n",
        "  temp_df=pd.DataFrame('',index=x.index,columns=x.columns)\r\n",
        "  temp_df.iloc[:,4]=p\r\n",
        "  temp_df.iloc[:,5]=q\r\n",
        "  temp_df.iloc[:,6]=r\r\n",
        "  return temp_df\r\n",
        "\r\n",
        "\r\n",
        "sorted_country_df.head(5).style.apply(highlight_col,axis=None)\r\n",
        "\r\n",
        "\r\n",
        " "
      ],
      "execution_count": 155,
      "outputs": [
        {
          "output_type": "execute_result",
          "data": {
            "text/html": [
              "<style  type=\"text/css\" >\n",
              "#T_6171ce48_5380_11eb_a553_0242ac1c0002row0_col4,#T_6171ce48_5380_11eb_a553_0242ac1c0002row1_col4,#T_6171ce48_5380_11eb_a553_0242ac1c0002row2_col4,#T_6171ce48_5380_11eb_a553_0242ac1c0002row3_col4,#T_6171ce48_5380_11eb_a553_0242ac1c0002row4_col4{\n",
              "            background-color: blue;\n",
              "        }#T_6171ce48_5380_11eb_a553_0242ac1c0002row0_col5,#T_6171ce48_5380_11eb_a553_0242ac1c0002row1_col5,#T_6171ce48_5380_11eb_a553_0242ac1c0002row2_col5,#T_6171ce48_5380_11eb_a553_0242ac1c0002row3_col5,#T_6171ce48_5380_11eb_a553_0242ac1c0002row4_col5{\n",
              "            background-color: grey;\n",
              "        }#T_6171ce48_5380_11eb_a553_0242ac1c0002row0_col6,#T_6171ce48_5380_11eb_a553_0242ac1c0002row1_col6,#T_6171ce48_5380_11eb_a553_0242ac1c0002row2_col6,#T_6171ce48_5380_11eb_a553_0242ac1c0002row3_col6,#T_6171ce48_5380_11eb_a553_0242ac1c0002row4_col6{\n",
              "            background-color: red;\n",
              "        }</style><table id=\"T_6171ce48_5380_11eb_a553_0242ac1c0002\" ><thead>    <tr>        <th class=\"blank level0\" ></th>        <th class=\"col_heading level0 col0\" >country</th>        <th class=\"col_heading level0 col1\" >last_update</th>        <th class=\"col_heading level0 col2\" >lat</th>        <th class=\"col_heading level0 col3\" >long_</th>        <th class=\"col_heading level0 col4\" >confirmed</th>        <th class=\"col_heading level0 col5\" >deaths</th>        <th class=\"col_heading level0 col6\" >recovered</th>        <th class=\"col_heading level0 col7\" >active</th>        <th class=\"col_heading level0 col8\" >incident_rate</th>        <th class=\"col_heading level0 col9\" >people_tested</th>        <th class=\"col_heading level0 col10\" >people_hospitalized</th>        <th class=\"col_heading level0 col11\" >mortality_rate</th>        <th class=\"col_heading level0 col12\" >uid</th>        <th class=\"col_heading level0 col13\" >iso3</th>    </tr></thead><tbody>\n",
              "                <tr>\n",
              "                        <th id=\"T_6171ce48_5380_11eb_a553_0242ac1c0002level0_row0\" class=\"row_heading level0 row0\" >177</th>\n",
              "                        <td id=\"T_6171ce48_5380_11eb_a553_0242ac1c0002row0_col0\" class=\"data row0 col0\" >US</td>\n",
              "                        <td id=\"T_6171ce48_5380_11eb_a553_0242ac1c0002row0_col1\" class=\"data row0 col1\" >2021-01-10 19:22:28</td>\n",
              "                        <td id=\"T_6171ce48_5380_11eb_a553_0242ac1c0002row0_col2\" class=\"data row0 col2\" >40.000000</td>\n",
              "                        <td id=\"T_6171ce48_5380_11eb_a553_0242ac1c0002row0_col3\" class=\"data row0 col3\" >-100.000000</td>\n",
              "                        <td id=\"T_6171ce48_5380_11eb_a553_0242ac1c0002row0_col4\" class=\"data row0 col4\" >22255827.000000</td>\n",
              "                        <td id=\"T_6171ce48_5380_11eb_a553_0242ac1c0002row0_col5\" class=\"data row0 col5\" >373463.000000</td>\n",
              "                        <td id=\"T_6171ce48_5380_11eb_a553_0242ac1c0002row0_col6\" class=\"data row0 col6\" >nan</td>\n",
              "                        <td id=\"T_6171ce48_5380_11eb_a553_0242ac1c0002row0_col7\" class=\"data row0 col7\" >21882364.000000</td>\n",
              "                        <td id=\"T_6171ce48_5380_11eb_a553_0242ac1c0002row0_col8\" class=\"data row0 col8\" >6755.115212</td>\n",
              "                        <td id=\"T_6171ce48_5380_11eb_a553_0242ac1c0002row0_col9\" class=\"data row0 col9\" >nan</td>\n",
              "                        <td id=\"T_6171ce48_5380_11eb_a553_0242ac1c0002row0_col10\" class=\"data row0 col10\" >nan</td>\n",
              "                        <td id=\"T_6171ce48_5380_11eb_a553_0242ac1c0002row0_col11\" class=\"data row0 col11\" >1.678046</td>\n",
              "                        <td id=\"T_6171ce48_5380_11eb_a553_0242ac1c0002row0_col12\" class=\"data row0 col12\" >840</td>\n",
              "                        <td id=\"T_6171ce48_5380_11eb_a553_0242ac1c0002row0_col13\" class=\"data row0 col13\" >USA</td>\n",
              "            </tr>\n",
              "            <tr>\n",
              "                        <th id=\"T_6171ce48_5380_11eb_a553_0242ac1c0002level0_row1\" class=\"row_heading level0 row1\" >79</th>\n",
              "                        <td id=\"T_6171ce48_5380_11eb_a553_0242ac1c0002row1_col0\" class=\"data row1 col0\" >India</td>\n",
              "                        <td id=\"T_6171ce48_5380_11eb_a553_0242ac1c0002row1_col1\" class=\"data row1 col1\" >2021-01-10 19:22:28</td>\n",
              "                        <td id=\"T_6171ce48_5380_11eb_a553_0242ac1c0002row1_col2\" class=\"data row1 col2\" >20.593684</td>\n",
              "                        <td id=\"T_6171ce48_5380_11eb_a553_0242ac1c0002row1_col3\" class=\"data row1 col3\" >78.962880</td>\n",
              "                        <td id=\"T_6171ce48_5380_11eb_a553_0242ac1c0002row1_col4\" class=\"data row1 col4\" >10450284.000000</td>\n",
              "                        <td id=\"T_6171ce48_5380_11eb_a553_0242ac1c0002row1_col5\" class=\"data row1 col5\" >150999.000000</td>\n",
              "                        <td id=\"T_6171ce48_5380_11eb_a553_0242ac1c0002row1_col6\" class=\"data row1 col6\" >10075950.000000</td>\n",
              "                        <td id=\"T_6171ce48_5380_11eb_a553_0242ac1c0002row1_col7\" class=\"data row1 col7\" >223335.000000</td>\n",
              "                        <td id=\"T_6171ce48_5380_11eb_a553_0242ac1c0002row1_col8\" class=\"data row1 col8\" >757.264550</td>\n",
              "                        <td id=\"T_6171ce48_5380_11eb_a553_0242ac1c0002row1_col9\" class=\"data row1 col9\" >nan</td>\n",
              "                        <td id=\"T_6171ce48_5380_11eb_a553_0242ac1c0002row1_col10\" class=\"data row1 col10\" >nan</td>\n",
              "                        <td id=\"T_6171ce48_5380_11eb_a553_0242ac1c0002row1_col11\" class=\"data row1 col11\" >1.444927</td>\n",
              "                        <td id=\"T_6171ce48_5380_11eb_a553_0242ac1c0002row1_col12\" class=\"data row1 col12\" >356</td>\n",
              "                        <td id=\"T_6171ce48_5380_11eb_a553_0242ac1c0002row1_col13\" class=\"data row1 col13\" >IND</td>\n",
              "            </tr>\n",
              "            <tr>\n",
              "                        <th id=\"T_6171ce48_5380_11eb_a553_0242ac1c0002level0_row2\" class=\"row_heading level0 row2\" >23</th>\n",
              "                        <td id=\"T_6171ce48_5380_11eb_a553_0242ac1c0002row2_col0\" class=\"data row2 col0\" >Brazil</td>\n",
              "                        <td id=\"T_6171ce48_5380_11eb_a553_0242ac1c0002row2_col1\" class=\"data row2 col1\" >2021-01-10 19:22:28</td>\n",
              "                        <td id=\"T_6171ce48_5380_11eb_a553_0242ac1c0002row2_col2\" class=\"data row2 col2\" >-14.235000</td>\n",
              "                        <td id=\"T_6171ce48_5380_11eb_a553_0242ac1c0002row2_col3\" class=\"data row2 col3\" >-51.925300</td>\n",
              "                        <td id=\"T_6171ce48_5380_11eb_a553_0242ac1c0002row2_col4\" class=\"data row2 col4\" >8075998.000000</td>\n",
              "                        <td id=\"T_6171ce48_5380_11eb_a553_0242ac1c0002row2_col5\" class=\"data row2 col5\" >202631.000000</td>\n",
              "                        <td id=\"T_6171ce48_5380_11eb_a553_0242ac1c0002row2_col6\" class=\"data row2 col6\" >7208704.000000</td>\n",
              "                        <td id=\"T_6171ce48_5380_11eb_a553_0242ac1c0002row2_col7\" class=\"data row2 col7\" >664663.000000</td>\n",
              "                        <td id=\"T_6171ce48_5380_11eb_a553_0242ac1c0002row2_col8\" class=\"data row2 col8\" >3799.407440</td>\n",
              "                        <td id=\"T_6171ce48_5380_11eb_a553_0242ac1c0002row2_col9\" class=\"data row2 col9\" >nan</td>\n",
              "                        <td id=\"T_6171ce48_5380_11eb_a553_0242ac1c0002row2_col10\" class=\"data row2 col10\" >nan</td>\n",
              "                        <td id=\"T_6171ce48_5380_11eb_a553_0242ac1c0002row2_col11\" class=\"data row2 col11\" >2.509052</td>\n",
              "                        <td id=\"T_6171ce48_5380_11eb_a553_0242ac1c0002row2_col12\" class=\"data row2 col12\" >76</td>\n",
              "                        <td id=\"T_6171ce48_5380_11eb_a553_0242ac1c0002row2_col13\" class=\"data row2 col13\" >BRA</td>\n",
              "            </tr>\n",
              "            <tr>\n",
              "                        <th id=\"T_6171ce48_5380_11eb_a553_0242ac1c0002level0_row3\" class=\"row_heading level0 row3\" >141</th>\n",
              "                        <td id=\"T_6171ce48_5380_11eb_a553_0242ac1c0002row3_col0\" class=\"data row3 col0\" >Russia</td>\n",
              "                        <td id=\"T_6171ce48_5380_11eb_a553_0242ac1c0002row3_col1\" class=\"data row3 col1\" >2021-01-10 19:22:28</td>\n",
              "                        <td id=\"T_6171ce48_5380_11eb_a553_0242ac1c0002row3_col2\" class=\"data row3 col2\" >61.524000</td>\n",
              "                        <td id=\"T_6171ce48_5380_11eb_a553_0242ac1c0002row3_col3\" class=\"data row3 col3\" >105.318800</td>\n",
              "                        <td id=\"T_6171ce48_5380_11eb_a553_0242ac1c0002row3_col4\" class=\"data row3 col4\" >3366715.000000</td>\n",
              "                        <td id=\"T_6171ce48_5380_11eb_a553_0242ac1c0002row3_col5\" class=\"data row3 col5\" >60963.000000</td>\n",
              "                        <td id=\"T_6171ce48_5380_11eb_a553_0242ac1c0002row3_col6\" class=\"data row3 col6\" >2750102.000000</td>\n",
              "                        <td id=\"T_6171ce48_5380_11eb_a553_0242ac1c0002row3_col7\" class=\"data row3 col7\" >555650.000000</td>\n",
              "                        <td id=\"T_6171ce48_5380_11eb_a553_0242ac1c0002row3_col8\" class=\"data row3 col8\" >2307.004802</td>\n",
              "                        <td id=\"T_6171ce48_5380_11eb_a553_0242ac1c0002row3_col9\" class=\"data row3 col9\" >nan</td>\n",
              "                        <td id=\"T_6171ce48_5380_11eb_a553_0242ac1c0002row3_col10\" class=\"data row3 col10\" >nan</td>\n",
              "                        <td id=\"T_6171ce48_5380_11eb_a553_0242ac1c0002row3_col11\" class=\"data row3 col11\" >1.810756</td>\n",
              "                        <td id=\"T_6171ce48_5380_11eb_a553_0242ac1c0002row3_col12\" class=\"data row3 col12\" >643</td>\n",
              "                        <td id=\"T_6171ce48_5380_11eb_a553_0242ac1c0002row3_col13\" class=\"data row3 col13\" >RUS</td>\n",
              "            </tr>\n",
              "            <tr>\n",
              "                        <th id=\"T_6171ce48_5380_11eb_a553_0242ac1c0002level0_row4\" class=\"row_heading level0 row4\" >181</th>\n",
              "                        <td id=\"T_6171ce48_5380_11eb_a553_0242ac1c0002row4_col0\" class=\"data row4 col0\" >United Kingdom</td>\n",
              "                        <td id=\"T_6171ce48_5380_11eb_a553_0242ac1c0002row4_col1\" class=\"data row4 col1\" >2021-01-10 19:22:28</td>\n",
              "                        <td id=\"T_6171ce48_5380_11eb_a553_0242ac1c0002row4_col2\" class=\"data row4 col2\" >55.000000</td>\n",
              "                        <td id=\"T_6171ce48_5380_11eb_a553_0242ac1c0002row4_col3\" class=\"data row4 col3\" >-3.000000</td>\n",
              "                        <td id=\"T_6171ce48_5380_11eb_a553_0242ac1c0002row4_col4\" class=\"data row4 col4\" >3081305.000000</td>\n",
              "                        <td id=\"T_6171ce48_5380_11eb_a553_0242ac1c0002row4_col5\" class=\"data row4 col5\" >81563.000000</td>\n",
              "                        <td id=\"T_6171ce48_5380_11eb_a553_0242ac1c0002row4_col6\" class=\"data row4 col6\" >6862.000000</td>\n",
              "                        <td id=\"T_6171ce48_5380_11eb_a553_0242ac1c0002row4_col7\" class=\"data row4 col7\" >2992880.000000</td>\n",
              "                        <td id=\"T_6171ce48_5380_11eb_a553_0242ac1c0002row4_col8\" class=\"data row4 col8\" >4538.940015</td>\n",
              "                        <td id=\"T_6171ce48_5380_11eb_a553_0242ac1c0002row4_col9\" class=\"data row4 col9\" >nan</td>\n",
              "                        <td id=\"T_6171ce48_5380_11eb_a553_0242ac1c0002row4_col10\" class=\"data row4 col10\" >nan</td>\n",
              "                        <td id=\"T_6171ce48_5380_11eb_a553_0242ac1c0002row4_col11\" class=\"data row4 col11\" >2.647028</td>\n",
              "                        <td id=\"T_6171ce48_5380_11eb_a553_0242ac1c0002row4_col12\" class=\"data row4 col12\" >826</td>\n",
              "                        <td id=\"T_6171ce48_5380_11eb_a553_0242ac1c0002row4_col13\" class=\"data row4 col13\" >GBR</td>\n",
              "            </tr>\n",
              "    </tbody></table>"
            ],
            "text/plain": [
              "<pandas.io.formats.style.Styler at 0x7f629d687400>"
            ]
          },
          "metadata": {
            "tags": []
          },
          "execution_count": 155
        }
      ]
    },
    {
      "cell_type": "code",
      "metadata": {
        "id": "P_MW1D1eKTST"
      },
      "source": [
        "import plotly.express as px"
      ],
      "execution_count": 50,
      "outputs": []
    },
    {
      "cell_type": "code",
      "metadata": {
        "colab": {
          "base_uri": "https://localhost:8080/",
          "height": 542
        },
        "id": "U92IlVpBKenk",
        "outputId": "1a4bdb57-7079-4131-b0d0-911f40146105"
      },
      "source": [
        "fig=px.scatter( sorted_country_df.head(),x='country',y='confirmed',size='confirmed',\r\n",
        "               color='country',hover_name='country',size_max=60)\r\n",
        "\r\n",
        "fig.show()"
      ],
      "execution_count": 156,
      "outputs": [
        {
          "output_type": "display_data",
          "data": {
            "text/html": [
              "<html>\n",
              "<head><meta charset=\"utf-8\" /></head>\n",
              "<body>\n",
              "    <div>\n",
              "            <script src=\"https://cdnjs.cloudflare.com/ajax/libs/mathjax/2.7.5/MathJax.js?config=TeX-AMS-MML_SVG\"></script><script type=\"text/javascript\">if (window.MathJax) {MathJax.Hub.Config({SVG: {font: \"STIX-Web\"}});}</script>\n",
              "                <script type=\"text/javascript\">window.PlotlyConfig = {MathJaxConfig: 'local'};</script>\n",
              "        <script src=\"https://cdn.plot.ly/plotly-latest.min.js\"></script>    \n",
              "            <div id=\"b1e7c930-cce4-4e13-aab0-4dfdb5910d70\" class=\"plotly-graph-div\" style=\"height:525px; width:100%;\"></div>\n",
              "            <script type=\"text/javascript\">\n",
              "                \n",
              "                    window.PLOTLYENV=window.PLOTLYENV || {};\n",
              "                    \n",
              "                if (document.getElementById(\"b1e7c930-cce4-4e13-aab0-4dfdb5910d70\")) {\n",
              "                    Plotly.newPlot(\n",
              "                        'b1e7c930-cce4-4e13-aab0-4dfdb5910d70',\n",
              "                        [{\"hoverlabel\": {\"namelength\": 0}, \"hovertemplate\": \"<b>%{hovertext}</b><br><br>country=%{x}<br>confirmed=%{marker.size}\", \"hovertext\": [\"US\"], \"legendgroup\": \"country=US\", \"marker\": {\"color\": \"#636efa\", \"size\": [22255827.0], \"sizemode\": \"area\", \"sizeref\": 6182.174166666667, \"symbol\": \"circle\"}, \"mode\": \"markers\", \"name\": \"country=US\", \"showlegend\": true, \"type\": \"scatter\", \"x\": [\"US\"], \"xaxis\": \"x\", \"y\": [22255827.0], \"yaxis\": \"y\"}, {\"hoverlabel\": {\"namelength\": 0}, \"hovertemplate\": \"<b>%{hovertext}</b><br><br>country=%{x}<br>confirmed=%{marker.size}\", \"hovertext\": [\"India\"], \"legendgroup\": \"country=India\", \"marker\": {\"color\": \"#EF553B\", \"size\": [10450284.0], \"sizemode\": \"area\", \"sizeref\": 6182.174166666667, \"symbol\": \"circle\"}, \"mode\": \"markers\", \"name\": \"country=India\", \"showlegend\": true, \"type\": \"scatter\", \"x\": [\"India\"], \"xaxis\": \"x\", \"y\": [10450284.0], \"yaxis\": \"y\"}, {\"hoverlabel\": {\"namelength\": 0}, \"hovertemplate\": \"<b>%{hovertext}</b><br><br>country=%{x}<br>confirmed=%{marker.size}\", \"hovertext\": [\"Brazil\"], \"legendgroup\": \"country=Brazil\", \"marker\": {\"color\": \"#00cc96\", \"size\": [8075998.0], \"sizemode\": \"area\", \"sizeref\": 6182.174166666667, \"symbol\": \"circle\"}, \"mode\": \"markers\", \"name\": \"country=Brazil\", \"showlegend\": true, \"type\": \"scatter\", \"x\": [\"Brazil\"], \"xaxis\": \"x\", \"y\": [8075998.0], \"yaxis\": \"y\"}, {\"hoverlabel\": {\"namelength\": 0}, \"hovertemplate\": \"<b>%{hovertext}</b><br><br>country=%{x}<br>confirmed=%{marker.size}\", \"hovertext\": [\"Russia\"], \"legendgroup\": \"country=Russia\", \"marker\": {\"color\": \"#ab63fa\", \"size\": [3366715.0], \"sizemode\": \"area\", \"sizeref\": 6182.174166666667, \"symbol\": \"circle\"}, \"mode\": \"markers\", \"name\": \"country=Russia\", \"showlegend\": true, \"type\": \"scatter\", \"x\": [\"Russia\"], \"xaxis\": \"x\", \"y\": [3366715.0], \"yaxis\": \"y\"}, {\"hoverlabel\": {\"namelength\": 0}, \"hovertemplate\": \"<b>%{hovertext}</b><br><br>country=%{x}<br>confirmed=%{marker.size}\", \"hovertext\": [\"United Kingdom\"], \"legendgroup\": \"country=United Kingdom\", \"marker\": {\"color\": \"#FFA15A\", \"size\": [3081305.0], \"sizemode\": \"area\", \"sizeref\": 6182.174166666667, \"symbol\": \"circle\"}, \"mode\": \"markers\", \"name\": \"country=United Kingdom\", \"showlegend\": true, \"type\": \"scatter\", \"x\": [\"United Kingdom\"], \"xaxis\": \"x\", \"y\": [3081305.0], \"yaxis\": \"y\"}],\n",
              "                        {\"legend\": {\"itemsizing\": \"constant\", \"tracegroupgap\": 0}, \"margin\": {\"t\": 60}, \"template\": {\"data\": {\"bar\": [{\"error_x\": {\"color\": \"#2a3f5f\"}, \"error_y\": {\"color\": \"#2a3f5f\"}, \"marker\": {\"line\": {\"color\": \"#E5ECF6\", \"width\": 0.5}}, \"type\": \"bar\"}], \"barpolar\": [{\"marker\": {\"line\": {\"color\": \"#E5ECF6\", \"width\": 0.5}}, \"type\": \"barpolar\"}], \"carpet\": [{\"aaxis\": {\"endlinecolor\": \"#2a3f5f\", \"gridcolor\": \"white\", \"linecolor\": \"white\", \"minorgridcolor\": \"white\", \"startlinecolor\": \"#2a3f5f\"}, \"baxis\": {\"endlinecolor\": \"#2a3f5f\", \"gridcolor\": \"white\", \"linecolor\": \"white\", \"minorgridcolor\": \"white\", \"startlinecolor\": \"#2a3f5f\"}, \"type\": \"carpet\"}], \"choropleth\": [{\"colorbar\": {\"outlinewidth\": 0, \"ticks\": \"\"}, \"type\": \"choropleth\"}], \"contour\": [{\"colorbar\": {\"outlinewidth\": 0, \"ticks\": \"\"}, \"colorscale\": [[0.0, \"#0d0887\"], [0.1111111111111111, \"#46039f\"], [0.2222222222222222, \"#7201a8\"], [0.3333333333333333, \"#9c179e\"], [0.4444444444444444, \"#bd3786\"], [0.5555555555555556, \"#d8576b\"], [0.6666666666666666, \"#ed7953\"], [0.7777777777777778, \"#fb9f3a\"], [0.8888888888888888, \"#fdca26\"], [1.0, \"#f0f921\"]], \"type\": \"contour\"}], \"contourcarpet\": [{\"colorbar\": {\"outlinewidth\": 0, \"ticks\": \"\"}, \"type\": \"contourcarpet\"}], \"heatmap\": [{\"colorbar\": {\"outlinewidth\": 0, \"ticks\": \"\"}, \"colorscale\": [[0.0, \"#0d0887\"], [0.1111111111111111, \"#46039f\"], [0.2222222222222222, \"#7201a8\"], [0.3333333333333333, \"#9c179e\"], [0.4444444444444444, \"#bd3786\"], [0.5555555555555556, \"#d8576b\"], [0.6666666666666666, \"#ed7953\"], [0.7777777777777778, \"#fb9f3a\"], [0.8888888888888888, \"#fdca26\"], [1.0, \"#f0f921\"]], \"type\": \"heatmap\"}], \"heatmapgl\": [{\"colorbar\": {\"outlinewidth\": 0, \"ticks\": \"\"}, \"colorscale\": [[0.0, \"#0d0887\"], [0.1111111111111111, \"#46039f\"], [0.2222222222222222, \"#7201a8\"], [0.3333333333333333, \"#9c179e\"], [0.4444444444444444, \"#bd3786\"], [0.5555555555555556, \"#d8576b\"], [0.6666666666666666, \"#ed7953\"], [0.7777777777777778, \"#fb9f3a\"], [0.8888888888888888, \"#fdca26\"], [1.0, \"#f0f921\"]], \"type\": \"heatmapgl\"}], \"histogram\": [{\"marker\": {\"colorbar\": {\"outlinewidth\": 0, \"ticks\": \"\"}}, \"type\": \"histogram\"}], \"histogram2d\": [{\"colorbar\": {\"outlinewidth\": 0, \"ticks\": \"\"}, \"colorscale\": [[0.0, \"#0d0887\"], [0.1111111111111111, \"#46039f\"], [0.2222222222222222, \"#7201a8\"], [0.3333333333333333, \"#9c179e\"], [0.4444444444444444, \"#bd3786\"], [0.5555555555555556, \"#d8576b\"], [0.6666666666666666, \"#ed7953\"], [0.7777777777777778, \"#fb9f3a\"], [0.8888888888888888, \"#fdca26\"], [1.0, \"#f0f921\"]], \"type\": \"histogram2d\"}], \"histogram2dcontour\": [{\"colorbar\": {\"outlinewidth\": 0, \"ticks\": \"\"}, \"colorscale\": [[0.0, \"#0d0887\"], [0.1111111111111111, \"#46039f\"], [0.2222222222222222, \"#7201a8\"], [0.3333333333333333, \"#9c179e\"], [0.4444444444444444, \"#bd3786\"], [0.5555555555555556, \"#d8576b\"], [0.6666666666666666, \"#ed7953\"], [0.7777777777777778, \"#fb9f3a\"], [0.8888888888888888, \"#fdca26\"], [1.0, \"#f0f921\"]], \"type\": \"histogram2dcontour\"}], \"mesh3d\": [{\"colorbar\": {\"outlinewidth\": 0, \"ticks\": \"\"}, \"type\": \"mesh3d\"}], \"parcoords\": [{\"line\": {\"colorbar\": {\"outlinewidth\": 0, \"ticks\": \"\"}}, \"type\": \"parcoords\"}], \"pie\": [{\"automargin\": true, \"type\": \"pie\"}], \"scatter\": [{\"marker\": {\"colorbar\": {\"outlinewidth\": 0, \"ticks\": \"\"}}, \"type\": \"scatter\"}], \"scatter3d\": [{\"line\": {\"colorbar\": {\"outlinewidth\": 0, \"ticks\": \"\"}}, \"marker\": {\"colorbar\": {\"outlinewidth\": 0, \"ticks\": \"\"}}, \"type\": \"scatter3d\"}], \"scattercarpet\": [{\"marker\": {\"colorbar\": {\"outlinewidth\": 0, \"ticks\": \"\"}}, \"type\": \"scattercarpet\"}], \"scattergeo\": [{\"marker\": {\"colorbar\": {\"outlinewidth\": 0, \"ticks\": \"\"}}, \"type\": \"scattergeo\"}], \"scattergl\": [{\"marker\": {\"colorbar\": {\"outlinewidth\": 0, \"ticks\": \"\"}}, \"type\": \"scattergl\"}], \"scattermapbox\": [{\"marker\": {\"colorbar\": {\"outlinewidth\": 0, \"ticks\": \"\"}}, \"type\": \"scattermapbox\"}], \"scatterpolar\": [{\"marker\": {\"colorbar\": {\"outlinewidth\": 0, \"ticks\": \"\"}}, \"type\": \"scatterpolar\"}], \"scatterpolargl\": [{\"marker\": {\"colorbar\": {\"outlinewidth\": 0, \"ticks\": \"\"}}, \"type\": \"scatterpolargl\"}], \"scatterternary\": [{\"marker\": {\"colorbar\": {\"outlinewidth\": 0, \"ticks\": \"\"}}, \"type\": \"scatterternary\"}], \"surface\": [{\"colorbar\": {\"outlinewidth\": 0, \"ticks\": \"\"}, \"colorscale\": [[0.0, \"#0d0887\"], [0.1111111111111111, \"#46039f\"], [0.2222222222222222, \"#7201a8\"], [0.3333333333333333, \"#9c179e\"], [0.4444444444444444, \"#bd3786\"], [0.5555555555555556, \"#d8576b\"], [0.6666666666666666, \"#ed7953\"], [0.7777777777777778, \"#fb9f3a\"], [0.8888888888888888, \"#fdca26\"], [1.0, \"#f0f921\"]], \"type\": \"surface\"}], \"table\": [{\"cells\": {\"fill\": {\"color\": \"#EBF0F8\"}, \"line\": {\"color\": \"white\"}}, \"header\": {\"fill\": {\"color\": \"#C8D4E3\"}, \"line\": {\"color\": \"white\"}}, \"type\": \"table\"}]}, \"layout\": {\"annotationdefaults\": {\"arrowcolor\": \"#2a3f5f\", \"arrowhead\": 0, \"arrowwidth\": 1}, \"coloraxis\": {\"colorbar\": {\"outlinewidth\": 0, \"ticks\": \"\"}}, \"colorscale\": {\"diverging\": [[0, \"#8e0152\"], [0.1, \"#c51b7d\"], [0.2, \"#de77ae\"], [0.3, \"#f1b6da\"], [0.4, \"#fde0ef\"], [0.5, \"#f7f7f7\"], [0.6, \"#e6f5d0\"], [0.7, \"#b8e186\"], [0.8, \"#7fbc41\"], [0.9, \"#4d9221\"], [1, \"#276419\"]], \"sequential\": [[0.0, \"#0d0887\"], [0.1111111111111111, \"#46039f\"], [0.2222222222222222, \"#7201a8\"], [0.3333333333333333, \"#9c179e\"], [0.4444444444444444, \"#bd3786\"], [0.5555555555555556, \"#d8576b\"], [0.6666666666666666, \"#ed7953\"], [0.7777777777777778, \"#fb9f3a\"], [0.8888888888888888, \"#fdca26\"], [1.0, \"#f0f921\"]], \"sequentialminus\": [[0.0, \"#0d0887\"], [0.1111111111111111, \"#46039f\"], [0.2222222222222222, \"#7201a8\"], [0.3333333333333333, \"#9c179e\"], [0.4444444444444444, \"#bd3786\"], [0.5555555555555556, \"#d8576b\"], [0.6666666666666666, \"#ed7953\"], [0.7777777777777778, \"#fb9f3a\"], [0.8888888888888888, \"#fdca26\"], [1.0, \"#f0f921\"]]}, \"colorway\": [\"#636efa\", \"#EF553B\", \"#00cc96\", \"#ab63fa\", \"#FFA15A\", \"#19d3f3\", \"#FF6692\", \"#B6E880\", \"#FF97FF\", \"#FECB52\"], \"font\": {\"color\": \"#2a3f5f\"}, \"geo\": {\"bgcolor\": \"white\", \"lakecolor\": \"white\", \"landcolor\": \"#E5ECF6\", \"showlakes\": true, \"showland\": true, \"subunitcolor\": \"white\"}, \"hoverlabel\": {\"align\": \"left\"}, \"hovermode\": \"closest\", \"mapbox\": {\"style\": \"light\"}, \"paper_bgcolor\": \"white\", \"plot_bgcolor\": \"#E5ECF6\", \"polar\": {\"angularaxis\": {\"gridcolor\": \"white\", \"linecolor\": \"white\", \"ticks\": \"\"}, \"bgcolor\": \"#E5ECF6\", \"radialaxis\": {\"gridcolor\": \"white\", \"linecolor\": \"white\", \"ticks\": \"\"}}, \"scene\": {\"xaxis\": {\"backgroundcolor\": \"#E5ECF6\", \"gridcolor\": \"white\", \"gridwidth\": 2, \"linecolor\": \"white\", \"showbackground\": true, \"ticks\": \"\", \"zerolinecolor\": \"white\"}, \"yaxis\": {\"backgroundcolor\": \"#E5ECF6\", \"gridcolor\": \"white\", \"gridwidth\": 2, \"linecolor\": \"white\", \"showbackground\": true, \"ticks\": \"\", \"zerolinecolor\": \"white\"}, \"zaxis\": {\"backgroundcolor\": \"#E5ECF6\", \"gridcolor\": \"white\", \"gridwidth\": 2, \"linecolor\": \"white\", \"showbackground\": true, \"ticks\": \"\", \"zerolinecolor\": \"white\"}}, \"shapedefaults\": {\"line\": {\"color\": \"#2a3f5f\"}}, \"ternary\": {\"aaxis\": {\"gridcolor\": \"white\", \"linecolor\": \"white\", \"ticks\": \"\"}, \"baxis\": {\"gridcolor\": \"white\", \"linecolor\": \"white\", \"ticks\": \"\"}, \"bgcolor\": \"#E5ECF6\", \"caxis\": {\"gridcolor\": \"white\", \"linecolor\": \"white\", \"ticks\": \"\"}}, \"title\": {\"x\": 0.05}, \"xaxis\": {\"automargin\": true, \"gridcolor\": \"white\", \"linecolor\": \"white\", \"ticks\": \"\", \"title\": {\"standoff\": 15}, \"zerolinecolor\": \"white\", \"zerolinewidth\": 2}, \"yaxis\": {\"automargin\": true, \"gridcolor\": \"white\", \"linecolor\": \"white\", \"ticks\": \"\", \"title\": {\"standoff\": 15}, \"zerolinecolor\": \"white\", \"zerolinewidth\": 2}}}, \"xaxis\": {\"anchor\": \"y\", \"categoryarray\": [\"US\", \"India\", \"Brazil\", \"Russia\", \"United Kingdom\"], \"categoryorder\": \"array\", \"domain\": [0.0, 1.0], \"title\": {\"text\": \"country\"}}, \"yaxis\": {\"anchor\": \"x\", \"domain\": [0.0, 1.0], \"title\": {\"text\": \"confirmed\"}}},\n",
              "                        {\"responsive\": true}\n",
              "                    ).then(function(){\n",
              "                            \n",
              "var gd = document.getElementById('b1e7c930-cce4-4e13-aab0-4dfdb5910d70');\n",
              "var x = new MutationObserver(function (mutations, observer) {{\n",
              "        var display = window.getComputedStyle(gd).display;\n",
              "        if (!display || display === 'none') {{\n",
              "            console.log([gd, 'removed!']);\n",
              "            Plotly.purge(gd);\n",
              "            observer.disconnect();\n",
              "        }}\n",
              "}});\n",
              "\n",
              "// Listen for the removal of the full notebook cells\n",
              "var notebookContainer = gd.closest('#notebook-container');\n",
              "if (notebookContainer) {{\n",
              "    x.observe(notebookContainer, {childList: true});\n",
              "}}\n",
              "\n",
              "// Listen for the clearing of the current output cell\n",
              "var outputEl = gd.closest('.output');\n",
              "if (outputEl) {{\n",
              "    x.observe(outputEl, {childList: true});\n",
              "}}\n",
              "\n",
              "                        })\n",
              "                };\n",
              "                \n",
              "            </script>\n",
              "        </div>\n",
              "</body>\n",
              "</html>"
            ]
          },
          "metadata": {
            "tags": []
          }
        }
      ]
    },
    {
      "cell_type": "code",
      "metadata": {
        "id": "r5sFGpRsF8GM"
      },
      "source": [
        "confirmed_total = int(country_df['confirmed'].sum())\r\n",
        "deaths_total = int(country_df['deaths'].sum())\r\n",
        "recovered_total = int(country_df['recovered'].sum())\r\n",
        "active_total = int(country_df['active'].sum())"
      ],
      "execution_count": 157,
      "outputs": []
    },
    {
      "cell_type": "code",
      "metadata": {
        "colab": {
          "base_uri": "https://localhost:8080/",
          "height": 113
        },
        "id": "57z8Oi05GGUR",
        "outputId": "cf939e06-a3a3-462d-bf2e-3d370961b820"
      },
      "source": [
        "display(HTML(\"<div style = 'background-color: #504e4e; padding: 30px '>\" +\r\n",
        "             \"<span style='color: #fff; font-size:30px;'> Confirmed: \"  + str(confirmed_total) +\"</span>\" +\r\n",
        "             \"<span style='color: red; font-size:30px;margin-left:20px;'> Deaths: \" + str(deaths_total) + \"</span>\"+\r\n",
        "             \"<span style='color: lightgreen; font-size:30px; margin-left:20px;'> Recovered: \" + str(recovered_total) + \"</span>\"+\r\n",
        "             \"</div>\")\r\n",
        "       )"
      ],
      "execution_count": 158,
      "outputs": [
        {
          "output_type": "display_data",
          "data": {
            "text/html": [
              "<div style = 'background-color: #504e4e; padding: 30px '><span style='color: #fff; font-size:30px;'> Confirmed: 90005787</span><span style='color: red; font-size:30px;margin-left:20px;'> Deaths: 1931382</span><span style='color: lightgreen; font-size:30px; margin-left:20px;'> Recovered: 49885280</span></div>"
            ],
            "text/plain": [
              "<IPython.core.display.HTML object>"
            ]
          },
          "metadata": {
            "tags": []
          }
        }
      ]
    },
    {
      "cell_type": "code",
      "metadata": {
        "colab": {
          "base_uri": "https://localhost:8080/",
          "height": 245,
          "referenced_widgets": [
            "607c0e0e277a4f3ca4b7d51e910fd092",
            "2cc691da7780409ca1109b0cf8eb87b6",
            "12ffbc699ba3444294b2dde54dc0af23",
            "3e17751748cb4ff58b9cdb8c09531d2c",
            "56bf13058f394d4ca21e03c1c8ed8acd",
            "72fabd5945744c888cfde74b0592d5fd",
            "f9149420663e434f8364b4c1682489f4",
            "a755f07006b74e9d8279626869ca5549",
            "b269e63623e74f31878b0dea455859e1",
            "fa3ca2c6d6244ae4a42b7181b4d4565c"
          ]
        },
        "id": "4BG2BuT5GXzn",
        "outputId": "1bd52146-71f5-4f5f-9f4c-92728005a2e6"
      },
      "source": [
        "# sorting the values by confirmed descednding order\r\n",
        "# country_df.sort_values('confirmed', ascending= False).head(10).style.background_gradient(cmap='copper')\r\n",
        "fig = go.FigureWidget( layout=go.Layout() )\r\n",
        "def highlight_col(x):\r\n",
        "    r = 'background-color: red'\r\n",
        "    y = 'background-color: purple'\r\n",
        "    g = 'background-color: grey'\r\n",
        "    df1 = pd.DataFrame('', index=x.index, columns=x.columns)\r\n",
        "    df1.iloc[:, 4] = y\r\n",
        "    df1.iloc[:, 5] = r\r\n",
        "    df1.iloc[:, 6] = g\r\n",
        "    \r\n",
        "    return df1\r\n",
        "\r\n",
        "def show_latest_cases(n):\r\n",
        "    n = int(n)\r\n",
        "    return country_df.sort_values('confirmed', ascending= False).head(n).style.apply(highlight_col, axis=None)\r\n",
        "\r\n",
        "interact(show_latest_cases, n='10')\r\n",
        "\r\n",
        "ipywLayout = widgets.Layout(border='solid 2px green')\r\n",
        "ipywLayout.display='none' # uncomment this, run cell again - then the graph/figure disappears\r\n",
        "widgets.VBox([fig], layout=ipywLayout)"
      ],
      "execution_count": 159,
      "outputs": [
        {
          "output_type": "display_data",
          "data": {
            "application/vnd.jupyter.widget-view+json": {
              "model_id": "607c0e0e277a4f3ca4b7d51e910fd092",
              "version_minor": 0,
              "version_major": 2
            },
            "text/plain": [
              "interactive(children=(Text(value='10', description='n'), Output()), _dom_classes=('widget-interact',))"
            ]
          },
          "metadata": {
            "tags": []
          }
        },
        {
          "output_type": "display_data",
          "data": {
            "application/vnd.jupyter.widget-view+json": {
              "model_id": "a755f07006b74e9d8279626869ca5549",
              "version_minor": 0,
              "version_major": 2
            },
            "text/plain": [
              "VBox(children=(FigureWidget({\n",
              "    'data': [], 'layout': {'template': '...'}\n",
              "}),), layout=Layout(border='solid …"
            ]
          },
          "metadata": {
            "tags": []
          }
        }
      ]
    },
    {
      "cell_type": "markdown",
      "metadata": {
        "id": "T7bW15GoIYAY"
      },
      "source": [
        "# Slide to check for the worst hit countries"
      ]
    },
    {
      "cell_type": "code",
      "metadata": {
        "colab": {
          "base_uri": "https://localhost:8080/",
          "height": 574,
          "referenced_widgets": [
            "7d3661c38c7743f3bdb767c5c6fb7b1d",
            "a517220a80f340fea906a33dc43f48c9",
            "f5fc4f42c0734d80b9e2f9f147dd3eae",
            "7304cbe4dce14af3868f49f233c7b53f",
            "9736b65ccf264dbe9d070abe7c5924d6",
            "a52f14b97b324ac7856bcb2f6b060be3",
            "d3db4759552d4352832064479b1c436f",
            "ba5fdc789a324973968886929b2a7b9e",
            "b5905a2c8a2044a69c3dfdf27580b8f0",
            "fa3ca2c6d6244ae4a42b7181b4d4565c"
          ]
        },
        "id": "XfEI6CERIogo",
        "outputId": "d9d22619-5c15-4e37-aac4-688f1ae2b769"
      },
      "source": [
        "# # plotting the 20 worst hit countries\r\n",
        "\r\n",
        "def bubble_chart(n):\r\n",
        "    fig = px.scatter(sorted_country_df.head(n), x=\"country\", y=\"confirmed\", size=\"confirmed\", color=\"country\",\r\n",
        "               hover_name=\"country\", size_max=60)\r\n",
        "    fig.update_layout(\r\n",
        "    title=str(n) +\" Worst hit countries\",\r\n",
        "    xaxis_title=\"Countries\",\r\n",
        "    yaxis_title=\"Confirmed Cases\",\r\n",
        "    width = 700\r\n",
        "    )\r\n",
        "    fig.show();\r\n",
        "\r\n",
        "interact(bubble_chart, n=10)\r\n",
        "\r\n",
        "ipywLayout = widgets.Layout(border='solid 2px green')\r\n",
        "ipywLayout.display='none'\r\n",
        "widgets.VBox([fig], layout=ipywLayout)"
      ],
      "execution_count": 160,
      "outputs": [
        {
          "output_type": "display_data",
          "data": {
            "application/vnd.jupyter.widget-view+json": {
              "model_id": "7d3661c38c7743f3bdb767c5c6fb7b1d",
              "version_minor": 0,
              "version_major": 2
            },
            "text/plain": [
              "interactive(children=(IntSlider(value=10, description='n', max=30, min=-10), Output()), _dom_classes=('widget-…"
            ]
          },
          "metadata": {
            "tags": []
          }
        },
        {
          "output_type": "display_data",
          "data": {
            "application/vnd.jupyter.widget-view+json": {
              "model_id": "ba5fdc789a324973968886929b2a7b9e",
              "version_minor": 0,
              "version_major": 2
            },
            "text/plain": [
              "VBox(children=(FigureWidget({\n",
              "    'data': [], 'layout': {'template': '...'}\n",
              "}),), layout=Layout(border='solid …"
            ]
          },
          "metadata": {
            "tags": []
          }
        }
      ]
    },
    {
      "cell_type": "code",
      "metadata": {
        "id": "jo_-hGOeI3D0"
      },
      "source": [
        "def plot_cases_of_a_country(country):\r\n",
        "    labels = ['confirmed', 'deaths']\r\n",
        "    colors = ['blue', 'red']\r\n",
        "    mode_size = [6, 8]\r\n",
        "    line_size = [4, 5]\r\n",
        "    \r\n",
        "    df_list = [confirmed_df, death_df]\r\n",
        "    \r\n",
        "    fig = go.Figure();\r\n",
        "    \r\n",
        "    for i, df in enumerate(df_list):\r\n",
        "        if country == 'World' or country == 'world':\r\n",
        "            x_data = np.array(list(df.iloc[:, 20:].columns))\r\n",
        "            y_data = np.sum(np.asarray(df.iloc[:,4:]),axis = 0)\r\n",
        "            \r\n",
        "        else:    \r\n",
        "            x_data = np.array(list(df.iloc[:, 20:].columns))\r\n",
        "            y_data = np.sum(np.asarray(df[df['country'] == country].iloc[:,20:]),axis = 0)\r\n",
        "        print(i)\r\n",
        "        fig.add_trace(go.Scatter(x=x_data, y=y_data, mode='lines+markers',\r\n",
        "        name=labels[i],\r\n",
        "        line=dict(color=colors[i], width=line_size[i]),\r\n",
        "        connectgaps=True,\r\n",
        "        text = \"Total \" + str(labels[i]) +\": \"+ str(y_data[-1])\r\n",
        "        ));\r\n",
        "    \r\n",
        "    fig.update_layout(\r\n",
        "        title=\"COVID 19 cases of \" + country,\r\n",
        "        xaxis_title='Date',\r\n",
        "        yaxis_title='No. of Confirmed Cases',\r\n",
        "        margin=dict(l=20, r=20, t=40, b=20),\r\n",
        "        paper_bgcolor=\"lightgrey\",\r\n",
        "        width = 800,\r\n",
        "        \r\n",
        "    );\r\n",
        "    \r\n",
        "    fig.update_yaxes(type=\"linear\")\r\n",
        "    fig.show();"
      ],
      "execution_count": 161,
      "outputs": []
    },
    {
      "cell_type": "markdown",
      "metadata": {
        "id": "jIsg3mkyJHVk"
      },
      "source": [
        "# Check the details of your country or the World\r\n",
        "\r\n",
        "*   Enter the name of your country(in capitalized format(e.g. Italy)) and world for total cases\r\n",
        "\r\n"
      ]
    },
    {
      "cell_type": "code",
      "metadata": {
        "colab": {
          "base_uri": "https://localhost:8080/",
          "height": 610,
          "referenced_widgets": [
            "1aaa01d303d44675b4d1630223e57ee7",
            "203fdb0b41bb41e5ae1d302329c346cd",
            "163323662ee147c3ac9d29ad88404fcc",
            "be0ea8cd8792480083c92543a2f2e1f4",
            "1e21e20b04c04c739e88d50956b650ff",
            "455b23db80294f829092d8f113394f11",
            "4c31471c805a488b8deb28e1bcce56ec",
            "d16d17b203ad4b27bc11d444f2b1b041",
            "7faf66e4146841c2b2746e4e30fe7326",
            "fa3ca2c6d6244ae4a42b7181b4d4565c"
          ]
        },
        "id": "PNaYPT96JZ-t",
        "outputId": "b670e7e8-aae1-43e7-c424-14e3f38e6262"
      },
      "source": [
        "interact(plot_cases_of_a_country, country='World')\r\n",
        "\r\n",
        "ipywLayout = widgets.Layout(border='solid 2px green')\r\n",
        "ipywLayout.display='none' # uncomment this, run cell again - then the graph/figure disappears\r\n",
        "widgets.VBox([fig], layout=ipywLayout)"
      ],
      "execution_count": 162,
      "outputs": [
        {
          "output_type": "display_data",
          "data": {
            "application/vnd.jupyter.widget-view+json": {
              "model_id": "1aaa01d303d44675b4d1630223e57ee7",
              "version_minor": 0,
              "version_major": 2
            },
            "text/plain": [
              "interactive(children=(Text(value='World', description='country'), Output()), _dom_classes=('widget-interact',)…"
            ]
          },
          "metadata": {
            "tags": []
          }
        },
        {
          "output_type": "display_data",
          "data": {
            "application/vnd.jupyter.widget-view+json": {
              "model_id": "d16d17b203ad4b27bc11d444f2b1b041",
              "version_minor": 0,
              "version_major": 2
            },
            "text/plain": [
              "VBox(children=(FigureWidget({\n",
              "    'data': [], 'layout': {'template': '...'}\n",
              "}),), layout=Layout(border='solid …"
            ]
          },
          "metadata": {
            "tags": []
          }
        }
      ]
    },
    {
      "cell_type": "markdown",
      "metadata": {
        "id": "eODsvEnkKDkE"
      },
      "source": [
        "# **10 worst hit countries - Confirmed cases**"
      ]
    },
    {
      "cell_type": "code",
      "metadata": {
        "colab": {
          "base_uri": "https://localhost:8080/",
          "height": 516
        },
        "id": "oNd0JBe4KRLU",
        "outputId": "cbfc03e1-8302-4fea-dda4-f6d9e0254122"
      },
      "source": [
        "px.bar(\r\n",
        "    sorted_country_df.head(10),\r\n",
        "    x = \"country\",\r\n",
        "    y = \"confirmed\",\r\n",
        "    title= \"Top 10 worst affected countries\", # the axis names\r\n",
        "    color_discrete_sequence=[\"pink\"], \r\n",
        "    height=500,\r\n",
        "    width=800\r\n",
        ")"
      ],
      "execution_count": 163,
      "outputs": [
        {
          "output_type": "display_data",
          "data": {
            "text/html": [
              "<html>\n",
              "<head><meta charset=\"utf-8\" /></head>\n",
              "<body>\n",
              "    <div>\n",
              "            <script src=\"https://cdnjs.cloudflare.com/ajax/libs/mathjax/2.7.5/MathJax.js?config=TeX-AMS-MML_SVG\"></script><script type=\"text/javascript\">if (window.MathJax) {MathJax.Hub.Config({SVG: {font: \"STIX-Web\"}});}</script>\n",
              "                <script type=\"text/javascript\">window.PlotlyConfig = {MathJaxConfig: 'local'};</script>\n",
              "        <script src=\"https://cdn.plot.ly/plotly-latest.min.js\"></script>    \n",
              "            <div id=\"ef048b97-05f3-4926-a723-cf29f8b4352a\" class=\"plotly-graph-div\" style=\"height:500px; width:800px;\"></div>\n",
              "            <script type=\"text/javascript\">\n",
              "                \n",
              "                    window.PLOTLYENV=window.PLOTLYENV || {};\n",
              "                    \n",
              "                if (document.getElementById(\"ef048b97-05f3-4926-a723-cf29f8b4352a\")) {\n",
              "                    Plotly.newPlot(\n",
              "                        'ef048b97-05f3-4926-a723-cf29f8b4352a',\n",
              "                        [{\"alignmentgroup\": \"True\", \"hoverlabel\": {\"namelength\": 0}, \"hovertemplate\": \"country=%{x}<br>confirmed=%{y}\", \"legendgroup\": \"\", \"marker\": {\"color\": \"pink\"}, \"name\": \"\", \"offsetgroup\": \"\", \"orientation\": \"v\", \"showlegend\": false, \"textposition\": \"auto\", \"type\": \"bar\", \"x\": [\"US\", \"India\", \"Brazil\", \"Russia\", \"United Kingdom\"], \"xaxis\": \"x\", \"y\": [22255827.0, 10450284.0, 8075998.0, 3366715.0, 3081305.0], \"yaxis\": \"y\"}],\n",
              "                        {\"barmode\": \"relative\", \"height\": 500, \"legend\": {\"tracegroupgap\": 0}, \"template\": {\"data\": {\"bar\": [{\"error_x\": {\"color\": \"#2a3f5f\"}, \"error_y\": {\"color\": \"#2a3f5f\"}, \"marker\": {\"line\": {\"color\": \"#E5ECF6\", \"width\": 0.5}}, \"type\": \"bar\"}], \"barpolar\": [{\"marker\": {\"line\": {\"color\": \"#E5ECF6\", \"width\": 0.5}}, \"type\": \"barpolar\"}], \"carpet\": [{\"aaxis\": {\"endlinecolor\": \"#2a3f5f\", \"gridcolor\": \"white\", \"linecolor\": \"white\", \"minorgridcolor\": \"white\", \"startlinecolor\": \"#2a3f5f\"}, \"baxis\": {\"endlinecolor\": \"#2a3f5f\", \"gridcolor\": \"white\", \"linecolor\": \"white\", \"minorgridcolor\": \"white\", \"startlinecolor\": \"#2a3f5f\"}, \"type\": \"carpet\"}], \"choropleth\": [{\"colorbar\": {\"outlinewidth\": 0, \"ticks\": \"\"}, \"type\": \"choropleth\"}], \"contour\": [{\"colorbar\": {\"outlinewidth\": 0, \"ticks\": \"\"}, \"colorscale\": [[0.0, \"#0d0887\"], [0.1111111111111111, \"#46039f\"], [0.2222222222222222, \"#7201a8\"], [0.3333333333333333, \"#9c179e\"], [0.4444444444444444, \"#bd3786\"], [0.5555555555555556, \"#d8576b\"], [0.6666666666666666, \"#ed7953\"], [0.7777777777777778, \"#fb9f3a\"], [0.8888888888888888, \"#fdca26\"], [1.0, \"#f0f921\"]], \"type\": \"contour\"}], \"contourcarpet\": [{\"colorbar\": {\"outlinewidth\": 0, \"ticks\": \"\"}, \"type\": \"contourcarpet\"}], \"heatmap\": [{\"colorbar\": {\"outlinewidth\": 0, \"ticks\": \"\"}, \"colorscale\": [[0.0, \"#0d0887\"], [0.1111111111111111, \"#46039f\"], [0.2222222222222222, \"#7201a8\"], [0.3333333333333333, \"#9c179e\"], [0.4444444444444444, \"#bd3786\"], [0.5555555555555556, \"#d8576b\"], [0.6666666666666666, \"#ed7953\"], [0.7777777777777778, \"#fb9f3a\"], [0.8888888888888888, \"#fdca26\"], [1.0, \"#f0f921\"]], \"type\": \"heatmap\"}], \"heatmapgl\": [{\"colorbar\": {\"outlinewidth\": 0, \"ticks\": \"\"}, \"colorscale\": [[0.0, \"#0d0887\"], [0.1111111111111111, \"#46039f\"], [0.2222222222222222, \"#7201a8\"], [0.3333333333333333, \"#9c179e\"], [0.4444444444444444, \"#bd3786\"], [0.5555555555555556, \"#d8576b\"], [0.6666666666666666, \"#ed7953\"], [0.7777777777777778, \"#fb9f3a\"], [0.8888888888888888, \"#fdca26\"], [1.0, \"#f0f921\"]], \"type\": \"heatmapgl\"}], \"histogram\": [{\"marker\": {\"colorbar\": {\"outlinewidth\": 0, \"ticks\": \"\"}}, \"type\": \"histogram\"}], \"histogram2d\": [{\"colorbar\": {\"outlinewidth\": 0, \"ticks\": \"\"}, \"colorscale\": [[0.0, \"#0d0887\"], [0.1111111111111111, \"#46039f\"], [0.2222222222222222, \"#7201a8\"], [0.3333333333333333, \"#9c179e\"], [0.4444444444444444, \"#bd3786\"], [0.5555555555555556, \"#d8576b\"], [0.6666666666666666, \"#ed7953\"], [0.7777777777777778, \"#fb9f3a\"], [0.8888888888888888, \"#fdca26\"], [1.0, \"#f0f921\"]], \"type\": \"histogram2d\"}], \"histogram2dcontour\": [{\"colorbar\": {\"outlinewidth\": 0, \"ticks\": \"\"}, \"colorscale\": [[0.0, \"#0d0887\"], [0.1111111111111111, \"#46039f\"], [0.2222222222222222, \"#7201a8\"], [0.3333333333333333, \"#9c179e\"], [0.4444444444444444, \"#bd3786\"], [0.5555555555555556, \"#d8576b\"], [0.6666666666666666, \"#ed7953\"], [0.7777777777777778, \"#fb9f3a\"], [0.8888888888888888, \"#fdca26\"], [1.0, \"#f0f921\"]], \"type\": \"histogram2dcontour\"}], \"mesh3d\": [{\"colorbar\": {\"outlinewidth\": 0, \"ticks\": \"\"}, \"type\": \"mesh3d\"}], \"parcoords\": [{\"line\": {\"colorbar\": {\"outlinewidth\": 0, \"ticks\": \"\"}}, \"type\": \"parcoords\"}], \"pie\": [{\"automargin\": true, \"type\": \"pie\"}], \"scatter\": [{\"marker\": {\"colorbar\": {\"outlinewidth\": 0, \"ticks\": \"\"}}, \"type\": \"scatter\"}], \"scatter3d\": [{\"line\": {\"colorbar\": {\"outlinewidth\": 0, \"ticks\": \"\"}}, \"marker\": {\"colorbar\": {\"outlinewidth\": 0, \"ticks\": \"\"}}, \"type\": \"scatter3d\"}], \"scattercarpet\": [{\"marker\": {\"colorbar\": {\"outlinewidth\": 0, \"ticks\": \"\"}}, \"type\": \"scattercarpet\"}], \"scattergeo\": [{\"marker\": {\"colorbar\": {\"outlinewidth\": 0, \"ticks\": \"\"}}, \"type\": \"scattergeo\"}], \"scattergl\": [{\"marker\": {\"colorbar\": {\"outlinewidth\": 0, \"ticks\": \"\"}}, \"type\": \"scattergl\"}], \"scattermapbox\": [{\"marker\": {\"colorbar\": {\"outlinewidth\": 0, \"ticks\": \"\"}}, \"type\": \"scattermapbox\"}], \"scatterpolar\": [{\"marker\": {\"colorbar\": {\"outlinewidth\": 0, \"ticks\": \"\"}}, \"type\": \"scatterpolar\"}], \"scatterpolargl\": [{\"marker\": {\"colorbar\": {\"outlinewidth\": 0, \"ticks\": \"\"}}, \"type\": \"scatterpolargl\"}], \"scatterternary\": [{\"marker\": {\"colorbar\": {\"outlinewidth\": 0, \"ticks\": \"\"}}, \"type\": \"scatterternary\"}], \"surface\": [{\"colorbar\": {\"outlinewidth\": 0, \"ticks\": \"\"}, \"colorscale\": [[0.0, \"#0d0887\"], [0.1111111111111111, \"#46039f\"], [0.2222222222222222, \"#7201a8\"], [0.3333333333333333, \"#9c179e\"], [0.4444444444444444, \"#bd3786\"], [0.5555555555555556, \"#d8576b\"], [0.6666666666666666, \"#ed7953\"], [0.7777777777777778, \"#fb9f3a\"], [0.8888888888888888, \"#fdca26\"], [1.0, \"#f0f921\"]], \"type\": \"surface\"}], \"table\": [{\"cells\": {\"fill\": {\"color\": \"#EBF0F8\"}, \"line\": {\"color\": \"white\"}}, \"header\": {\"fill\": {\"color\": \"#C8D4E3\"}, \"line\": {\"color\": \"white\"}}, \"type\": \"table\"}]}, \"layout\": {\"annotationdefaults\": {\"arrowcolor\": \"#2a3f5f\", \"arrowhead\": 0, \"arrowwidth\": 1}, \"coloraxis\": {\"colorbar\": {\"outlinewidth\": 0, \"ticks\": \"\"}}, \"colorscale\": {\"diverging\": [[0, \"#8e0152\"], [0.1, \"#c51b7d\"], [0.2, \"#de77ae\"], [0.3, \"#f1b6da\"], [0.4, \"#fde0ef\"], [0.5, \"#f7f7f7\"], [0.6, \"#e6f5d0\"], [0.7, \"#b8e186\"], [0.8, \"#7fbc41\"], [0.9, \"#4d9221\"], [1, \"#276419\"]], \"sequential\": [[0.0, \"#0d0887\"], [0.1111111111111111, \"#46039f\"], [0.2222222222222222, \"#7201a8\"], [0.3333333333333333, \"#9c179e\"], [0.4444444444444444, \"#bd3786\"], [0.5555555555555556, \"#d8576b\"], [0.6666666666666666, \"#ed7953\"], [0.7777777777777778, \"#fb9f3a\"], [0.8888888888888888, \"#fdca26\"], [1.0, \"#f0f921\"]], \"sequentialminus\": [[0.0, \"#0d0887\"], [0.1111111111111111, \"#46039f\"], [0.2222222222222222, \"#7201a8\"], [0.3333333333333333, \"#9c179e\"], [0.4444444444444444, \"#bd3786\"], [0.5555555555555556, \"#d8576b\"], [0.6666666666666666, \"#ed7953\"], [0.7777777777777778, \"#fb9f3a\"], [0.8888888888888888, \"#fdca26\"], [1.0, \"#f0f921\"]]}, \"colorway\": [\"#636efa\", \"#EF553B\", \"#00cc96\", \"#ab63fa\", \"#FFA15A\", \"#19d3f3\", \"#FF6692\", \"#B6E880\", \"#FF97FF\", \"#FECB52\"], \"font\": {\"color\": \"#2a3f5f\"}, \"geo\": {\"bgcolor\": \"white\", \"lakecolor\": \"white\", \"landcolor\": \"#E5ECF6\", \"showlakes\": true, \"showland\": true, \"subunitcolor\": \"white\"}, \"hoverlabel\": {\"align\": \"left\"}, \"hovermode\": \"closest\", \"mapbox\": {\"style\": \"light\"}, \"paper_bgcolor\": \"white\", \"plot_bgcolor\": \"#E5ECF6\", \"polar\": {\"angularaxis\": {\"gridcolor\": \"white\", \"linecolor\": \"white\", \"ticks\": \"\"}, \"bgcolor\": \"#E5ECF6\", \"radialaxis\": {\"gridcolor\": \"white\", \"linecolor\": \"white\", \"ticks\": \"\"}}, \"scene\": {\"xaxis\": {\"backgroundcolor\": \"#E5ECF6\", \"gridcolor\": \"white\", \"gridwidth\": 2, \"linecolor\": \"white\", \"showbackground\": true, \"ticks\": \"\", \"zerolinecolor\": \"white\"}, \"yaxis\": {\"backgroundcolor\": \"#E5ECF6\", \"gridcolor\": \"white\", \"gridwidth\": 2, \"linecolor\": \"white\", \"showbackground\": true, \"ticks\": \"\", \"zerolinecolor\": \"white\"}, \"zaxis\": {\"backgroundcolor\": \"#E5ECF6\", \"gridcolor\": \"white\", \"gridwidth\": 2, \"linecolor\": \"white\", \"showbackground\": true, \"ticks\": \"\", \"zerolinecolor\": \"white\"}}, \"shapedefaults\": {\"line\": {\"color\": \"#2a3f5f\"}}, \"ternary\": {\"aaxis\": {\"gridcolor\": \"white\", \"linecolor\": \"white\", \"ticks\": \"\"}, \"baxis\": {\"gridcolor\": \"white\", \"linecolor\": \"white\", \"ticks\": \"\"}, \"bgcolor\": \"#E5ECF6\", \"caxis\": {\"gridcolor\": \"white\", \"linecolor\": \"white\", \"ticks\": \"\"}}, \"title\": {\"x\": 0.05}, \"xaxis\": {\"automargin\": true, \"gridcolor\": \"white\", \"linecolor\": \"white\", \"ticks\": \"\", \"title\": {\"standoff\": 15}, \"zerolinecolor\": \"white\", \"zerolinewidth\": 2}, \"yaxis\": {\"automargin\": true, \"gridcolor\": \"white\", \"linecolor\": \"white\", \"ticks\": \"\", \"title\": {\"standoff\": 15}, \"zerolinecolor\": \"white\", \"zerolinewidth\": 2}}}, \"title\": {\"text\": \"Top 10 worst affected countries\"}, \"width\": 800, \"xaxis\": {\"anchor\": \"y\", \"domain\": [0.0, 1.0], \"title\": {\"text\": \"country\"}}, \"yaxis\": {\"anchor\": \"x\", \"domain\": [0.0, 1.0], \"title\": {\"text\": \"confirmed\"}}},\n",
              "                        {\"responsive\": true}\n",
              "                    ).then(function(){\n",
              "                            \n",
              "var gd = document.getElementById('ef048b97-05f3-4926-a723-cf29f8b4352a');\n",
              "var x = new MutationObserver(function (mutations, observer) {{\n",
              "        var display = window.getComputedStyle(gd).display;\n",
              "        if (!display || display === 'none') {{\n",
              "            console.log([gd, 'removed!']);\n",
              "            Plotly.purge(gd);\n",
              "            observer.disconnect();\n",
              "        }}\n",
              "}});\n",
              "\n",
              "// Listen for the removal of the full notebook cells\n",
              "var notebookContainer = gd.closest('#notebook-container');\n",
              "if (notebookContainer) {{\n",
              "    x.observe(notebookContainer, {childList: true});\n",
              "}}\n",
              "\n",
              "// Listen for the clearing of the current output cell\n",
              "var outputEl = gd.closest('.output');\n",
              "if (outputEl) {{\n",
              "    x.observe(outputEl, {childList: true});\n",
              "}}\n",
              "\n",
              "                        })\n",
              "                };\n",
              "                \n",
              "            </script>\n",
              "        </div>\n",
              "</body>\n",
              "</html>"
            ]
          },
          "metadata": {
            "tags": []
          }
        }
      ]
    },
    {
      "cell_type": "markdown",
      "metadata": {
        "id": "Van1As26KkTq"
      },
      "source": [
        "# **10 worst hit countries - Death cases**"
      ]
    },
    {
      "cell_type": "code",
      "metadata": {
        "colab": {
          "base_uri": "https://localhost:8080/",
          "height": 516
        },
        "id": "KS3ZA1IxK0Xx",
        "outputId": "602d932d-13bf-4110-d4ad-fa2f8f46cd52"
      },
      "source": [
        "px.bar(\r\n",
        "    sorted_country_df.head(10),\r\n",
        "    x = \"country\",\r\n",
        "    y = \"deaths\",\r\n",
        "    title= \"Top 10 worst affected countries\", # the axis names\r\n",
        "    color_discrete_sequence=[\"pink\"], \r\n",
        "    height=500,\r\n",
        "    width=800\r\n",
        ")"
      ],
      "execution_count": 164,
      "outputs": [
        {
          "output_type": "display_data",
          "data": {
            "text/html": [
              "<html>\n",
              "<head><meta charset=\"utf-8\" /></head>\n",
              "<body>\n",
              "    <div>\n",
              "            <script src=\"https://cdnjs.cloudflare.com/ajax/libs/mathjax/2.7.5/MathJax.js?config=TeX-AMS-MML_SVG\"></script><script type=\"text/javascript\">if (window.MathJax) {MathJax.Hub.Config({SVG: {font: \"STIX-Web\"}});}</script>\n",
              "                <script type=\"text/javascript\">window.PlotlyConfig = {MathJaxConfig: 'local'};</script>\n",
              "        <script src=\"https://cdn.plot.ly/plotly-latest.min.js\"></script>    \n",
              "            <div id=\"6c799841-7efb-44a6-99f7-6d3f512efd48\" class=\"plotly-graph-div\" style=\"height:500px; width:800px;\"></div>\n",
              "            <script type=\"text/javascript\">\n",
              "                \n",
              "                    window.PLOTLYENV=window.PLOTLYENV || {};\n",
              "                    \n",
              "                if (document.getElementById(\"6c799841-7efb-44a6-99f7-6d3f512efd48\")) {\n",
              "                    Plotly.newPlot(\n",
              "                        '6c799841-7efb-44a6-99f7-6d3f512efd48',\n",
              "                        [{\"alignmentgroup\": \"True\", \"hoverlabel\": {\"namelength\": 0}, \"hovertemplate\": \"country=%{x}<br>deaths=%{y}\", \"legendgroup\": \"\", \"marker\": {\"color\": \"pink\"}, \"name\": \"\", \"offsetgroup\": \"\", \"orientation\": \"v\", \"showlegend\": false, \"textposition\": \"auto\", \"type\": \"bar\", \"x\": [\"US\", \"India\", \"Brazil\", \"Russia\", \"United Kingdom\"], \"xaxis\": \"x\", \"y\": [373463.0, 150999.0, 202631.0, 60963.0, 81563.0], \"yaxis\": \"y\"}],\n",
              "                        {\"barmode\": \"relative\", \"height\": 500, \"legend\": {\"tracegroupgap\": 0}, \"template\": {\"data\": {\"bar\": [{\"error_x\": {\"color\": \"#2a3f5f\"}, \"error_y\": {\"color\": \"#2a3f5f\"}, \"marker\": {\"line\": {\"color\": \"#E5ECF6\", \"width\": 0.5}}, \"type\": \"bar\"}], \"barpolar\": [{\"marker\": {\"line\": {\"color\": \"#E5ECF6\", \"width\": 0.5}}, \"type\": \"barpolar\"}], \"carpet\": [{\"aaxis\": {\"endlinecolor\": \"#2a3f5f\", \"gridcolor\": \"white\", \"linecolor\": \"white\", \"minorgridcolor\": \"white\", \"startlinecolor\": \"#2a3f5f\"}, \"baxis\": {\"endlinecolor\": \"#2a3f5f\", \"gridcolor\": \"white\", \"linecolor\": \"white\", \"minorgridcolor\": \"white\", \"startlinecolor\": \"#2a3f5f\"}, \"type\": \"carpet\"}], \"choropleth\": [{\"colorbar\": {\"outlinewidth\": 0, \"ticks\": \"\"}, \"type\": \"choropleth\"}], \"contour\": [{\"colorbar\": {\"outlinewidth\": 0, \"ticks\": \"\"}, \"colorscale\": [[0.0, \"#0d0887\"], [0.1111111111111111, \"#46039f\"], [0.2222222222222222, \"#7201a8\"], [0.3333333333333333, \"#9c179e\"], [0.4444444444444444, \"#bd3786\"], [0.5555555555555556, \"#d8576b\"], [0.6666666666666666, \"#ed7953\"], [0.7777777777777778, \"#fb9f3a\"], [0.8888888888888888, \"#fdca26\"], [1.0, \"#f0f921\"]], \"type\": \"contour\"}], \"contourcarpet\": [{\"colorbar\": {\"outlinewidth\": 0, \"ticks\": \"\"}, \"type\": \"contourcarpet\"}], \"heatmap\": [{\"colorbar\": {\"outlinewidth\": 0, \"ticks\": \"\"}, \"colorscale\": [[0.0, \"#0d0887\"], [0.1111111111111111, \"#46039f\"], [0.2222222222222222, \"#7201a8\"], [0.3333333333333333, \"#9c179e\"], [0.4444444444444444, \"#bd3786\"], [0.5555555555555556, \"#d8576b\"], [0.6666666666666666, \"#ed7953\"], [0.7777777777777778, \"#fb9f3a\"], [0.8888888888888888, \"#fdca26\"], [1.0, \"#f0f921\"]], \"type\": \"heatmap\"}], \"heatmapgl\": [{\"colorbar\": {\"outlinewidth\": 0, \"ticks\": \"\"}, \"colorscale\": [[0.0, \"#0d0887\"], [0.1111111111111111, \"#46039f\"], [0.2222222222222222, \"#7201a8\"], [0.3333333333333333, \"#9c179e\"], [0.4444444444444444, \"#bd3786\"], [0.5555555555555556, \"#d8576b\"], [0.6666666666666666, \"#ed7953\"], [0.7777777777777778, \"#fb9f3a\"], [0.8888888888888888, \"#fdca26\"], [1.0, \"#f0f921\"]], \"type\": \"heatmapgl\"}], \"histogram\": [{\"marker\": {\"colorbar\": {\"outlinewidth\": 0, \"ticks\": \"\"}}, \"type\": \"histogram\"}], \"histogram2d\": [{\"colorbar\": {\"outlinewidth\": 0, \"ticks\": \"\"}, \"colorscale\": [[0.0, \"#0d0887\"], [0.1111111111111111, \"#46039f\"], [0.2222222222222222, \"#7201a8\"], [0.3333333333333333, \"#9c179e\"], [0.4444444444444444, \"#bd3786\"], [0.5555555555555556, \"#d8576b\"], [0.6666666666666666, \"#ed7953\"], [0.7777777777777778, \"#fb9f3a\"], [0.8888888888888888, \"#fdca26\"], [1.0, \"#f0f921\"]], \"type\": \"histogram2d\"}], \"histogram2dcontour\": [{\"colorbar\": {\"outlinewidth\": 0, \"ticks\": \"\"}, \"colorscale\": [[0.0, \"#0d0887\"], [0.1111111111111111, \"#46039f\"], [0.2222222222222222, \"#7201a8\"], [0.3333333333333333, \"#9c179e\"], [0.4444444444444444, \"#bd3786\"], [0.5555555555555556, \"#d8576b\"], [0.6666666666666666, \"#ed7953\"], [0.7777777777777778, \"#fb9f3a\"], [0.8888888888888888, \"#fdca26\"], [1.0, \"#f0f921\"]], \"type\": \"histogram2dcontour\"}], \"mesh3d\": [{\"colorbar\": {\"outlinewidth\": 0, \"ticks\": \"\"}, \"type\": \"mesh3d\"}], \"parcoords\": [{\"line\": {\"colorbar\": {\"outlinewidth\": 0, \"ticks\": \"\"}}, \"type\": \"parcoords\"}], \"pie\": [{\"automargin\": true, \"type\": \"pie\"}], \"scatter\": [{\"marker\": {\"colorbar\": {\"outlinewidth\": 0, \"ticks\": \"\"}}, \"type\": \"scatter\"}], \"scatter3d\": [{\"line\": {\"colorbar\": {\"outlinewidth\": 0, \"ticks\": \"\"}}, \"marker\": {\"colorbar\": {\"outlinewidth\": 0, \"ticks\": \"\"}}, \"type\": \"scatter3d\"}], \"scattercarpet\": [{\"marker\": {\"colorbar\": {\"outlinewidth\": 0, \"ticks\": \"\"}}, \"type\": \"scattercarpet\"}], \"scattergeo\": [{\"marker\": {\"colorbar\": {\"outlinewidth\": 0, \"ticks\": \"\"}}, \"type\": \"scattergeo\"}], \"scattergl\": [{\"marker\": {\"colorbar\": {\"outlinewidth\": 0, \"ticks\": \"\"}}, \"type\": \"scattergl\"}], \"scattermapbox\": [{\"marker\": {\"colorbar\": {\"outlinewidth\": 0, \"ticks\": \"\"}}, \"type\": \"scattermapbox\"}], \"scatterpolar\": [{\"marker\": {\"colorbar\": {\"outlinewidth\": 0, \"ticks\": \"\"}}, \"type\": \"scatterpolar\"}], \"scatterpolargl\": [{\"marker\": {\"colorbar\": {\"outlinewidth\": 0, \"ticks\": \"\"}}, \"type\": \"scatterpolargl\"}], \"scatterternary\": [{\"marker\": {\"colorbar\": {\"outlinewidth\": 0, \"ticks\": \"\"}}, \"type\": \"scatterternary\"}], \"surface\": [{\"colorbar\": {\"outlinewidth\": 0, \"ticks\": \"\"}, \"colorscale\": [[0.0, \"#0d0887\"], [0.1111111111111111, \"#46039f\"], [0.2222222222222222, \"#7201a8\"], [0.3333333333333333, \"#9c179e\"], [0.4444444444444444, \"#bd3786\"], [0.5555555555555556, \"#d8576b\"], [0.6666666666666666, \"#ed7953\"], [0.7777777777777778, \"#fb9f3a\"], [0.8888888888888888, \"#fdca26\"], [1.0, \"#f0f921\"]], \"type\": \"surface\"}], \"table\": [{\"cells\": {\"fill\": {\"color\": \"#EBF0F8\"}, \"line\": {\"color\": \"white\"}}, \"header\": {\"fill\": {\"color\": \"#C8D4E3\"}, \"line\": {\"color\": \"white\"}}, \"type\": \"table\"}]}, \"layout\": {\"annotationdefaults\": {\"arrowcolor\": \"#2a3f5f\", \"arrowhead\": 0, \"arrowwidth\": 1}, \"coloraxis\": {\"colorbar\": {\"outlinewidth\": 0, \"ticks\": \"\"}}, \"colorscale\": {\"diverging\": [[0, \"#8e0152\"], [0.1, \"#c51b7d\"], [0.2, \"#de77ae\"], [0.3, \"#f1b6da\"], [0.4, \"#fde0ef\"], [0.5, \"#f7f7f7\"], [0.6, \"#e6f5d0\"], [0.7, \"#b8e186\"], [0.8, \"#7fbc41\"], [0.9, \"#4d9221\"], [1, \"#276419\"]], \"sequential\": [[0.0, \"#0d0887\"], [0.1111111111111111, \"#46039f\"], [0.2222222222222222, \"#7201a8\"], [0.3333333333333333, \"#9c179e\"], [0.4444444444444444, \"#bd3786\"], [0.5555555555555556, \"#d8576b\"], [0.6666666666666666, \"#ed7953\"], [0.7777777777777778, \"#fb9f3a\"], [0.8888888888888888, \"#fdca26\"], [1.0, \"#f0f921\"]], \"sequentialminus\": [[0.0, \"#0d0887\"], [0.1111111111111111, \"#46039f\"], [0.2222222222222222, \"#7201a8\"], [0.3333333333333333, \"#9c179e\"], [0.4444444444444444, \"#bd3786\"], [0.5555555555555556, \"#d8576b\"], [0.6666666666666666, \"#ed7953\"], [0.7777777777777778, \"#fb9f3a\"], [0.8888888888888888, \"#fdca26\"], [1.0, \"#f0f921\"]]}, \"colorway\": [\"#636efa\", \"#EF553B\", \"#00cc96\", \"#ab63fa\", \"#FFA15A\", \"#19d3f3\", \"#FF6692\", \"#B6E880\", \"#FF97FF\", \"#FECB52\"], \"font\": {\"color\": \"#2a3f5f\"}, \"geo\": {\"bgcolor\": \"white\", \"lakecolor\": \"white\", \"landcolor\": \"#E5ECF6\", \"showlakes\": true, \"showland\": true, \"subunitcolor\": \"white\"}, \"hoverlabel\": {\"align\": \"left\"}, \"hovermode\": \"closest\", \"mapbox\": {\"style\": \"light\"}, \"paper_bgcolor\": \"white\", \"plot_bgcolor\": \"#E5ECF6\", \"polar\": {\"angularaxis\": {\"gridcolor\": \"white\", \"linecolor\": \"white\", \"ticks\": \"\"}, \"bgcolor\": \"#E5ECF6\", \"radialaxis\": {\"gridcolor\": \"white\", \"linecolor\": \"white\", \"ticks\": \"\"}}, \"scene\": {\"xaxis\": {\"backgroundcolor\": \"#E5ECF6\", \"gridcolor\": \"white\", \"gridwidth\": 2, \"linecolor\": \"white\", \"showbackground\": true, \"ticks\": \"\", \"zerolinecolor\": \"white\"}, \"yaxis\": {\"backgroundcolor\": \"#E5ECF6\", \"gridcolor\": \"white\", \"gridwidth\": 2, \"linecolor\": \"white\", \"showbackground\": true, \"ticks\": \"\", \"zerolinecolor\": \"white\"}, \"zaxis\": {\"backgroundcolor\": \"#E5ECF6\", \"gridcolor\": \"white\", \"gridwidth\": 2, \"linecolor\": \"white\", \"showbackground\": true, \"ticks\": \"\", \"zerolinecolor\": \"white\"}}, \"shapedefaults\": {\"line\": {\"color\": \"#2a3f5f\"}}, \"ternary\": {\"aaxis\": {\"gridcolor\": \"white\", \"linecolor\": \"white\", \"ticks\": \"\"}, \"baxis\": {\"gridcolor\": \"white\", \"linecolor\": \"white\", \"ticks\": \"\"}, \"bgcolor\": \"#E5ECF6\", \"caxis\": {\"gridcolor\": \"white\", \"linecolor\": \"white\", \"ticks\": \"\"}}, \"title\": {\"x\": 0.05}, \"xaxis\": {\"automargin\": true, \"gridcolor\": \"white\", \"linecolor\": \"white\", \"ticks\": \"\", \"title\": {\"standoff\": 15}, \"zerolinecolor\": \"white\", \"zerolinewidth\": 2}, \"yaxis\": {\"automargin\": true, \"gridcolor\": \"white\", \"linecolor\": \"white\", \"ticks\": \"\", \"title\": {\"standoff\": 15}, \"zerolinecolor\": \"white\", \"zerolinewidth\": 2}}}, \"title\": {\"text\": \"Top 10 worst affected countries\"}, \"width\": 800, \"xaxis\": {\"anchor\": \"y\", \"domain\": [0.0, 1.0], \"title\": {\"text\": \"country\"}}, \"yaxis\": {\"anchor\": \"x\", \"domain\": [0.0, 1.0], \"title\": {\"text\": \"deaths\"}}},\n",
              "                        {\"responsive\": true}\n",
              "                    ).then(function(){\n",
              "                            \n",
              "var gd = document.getElementById('6c799841-7efb-44a6-99f7-6d3f512efd48');\n",
              "var x = new MutationObserver(function (mutations, observer) {{\n",
              "        var display = window.getComputedStyle(gd).display;\n",
              "        if (!display || display === 'none') {{\n",
              "            console.log([gd, 'removed!']);\n",
              "            Plotly.purge(gd);\n",
              "            observer.disconnect();\n",
              "        }}\n",
              "}});\n",
              "\n",
              "// Listen for the removal of the full notebook cells\n",
              "var notebookContainer = gd.closest('#notebook-container');\n",
              "if (notebookContainer) {{\n",
              "    x.observe(notebookContainer, {childList: true});\n",
              "}}\n",
              "\n",
              "// Listen for the clearing of the current output cell\n",
              "var outputEl = gd.closest('.output');\n",
              "if (outputEl) {{\n",
              "    x.observe(outputEl, {childList: true});\n",
              "}}\n",
              "\n",
              "                        })\n",
              "                };\n",
              "                \n",
              "            </script>\n",
              "        </div>\n",
              "</body>\n",
              "</html>"
            ]
          },
          "metadata": {
            "tags": []
          }
        }
      ]
    },
    {
      "cell_type": "markdown",
      "metadata": {
        "id": "ZFVbf8UNMWVI"
      },
      "source": [
        "# **Worst hit countries - Recovering cases**"
      ]
    },
    {
      "cell_type": "code",
      "metadata": {
        "id": "rga9aeNBMl0_",
        "colab": {
          "base_uri": "https://localhost:8080/",
          "height": 516
        },
        "outputId": "11121311-72c0-40f7-84da-0f213b07d821"
      },
      "source": [
        "px.bar(\r\n",
        "    sorted_country_df.head(10),\r\n",
        "    x = \"country\",\r\n",
        "    y = \"recovered\",\r\n",
        "    title= \"Top 10 worst affected countries\", # the axis names\r\n",
        "    color_discrete_sequence=[\"pink\"], \r\n",
        "    height=500,\r\n",
        "    width=800\r\n",
        ")"
      ],
      "execution_count": 165,
      "outputs": [
        {
          "output_type": "display_data",
          "data": {
            "text/html": [
              "<html>\n",
              "<head><meta charset=\"utf-8\" /></head>\n",
              "<body>\n",
              "    <div>\n",
              "            <script src=\"https://cdnjs.cloudflare.com/ajax/libs/mathjax/2.7.5/MathJax.js?config=TeX-AMS-MML_SVG\"></script><script type=\"text/javascript\">if (window.MathJax) {MathJax.Hub.Config({SVG: {font: \"STIX-Web\"}});}</script>\n",
              "                <script type=\"text/javascript\">window.PlotlyConfig = {MathJaxConfig: 'local'};</script>\n",
              "        <script src=\"https://cdn.plot.ly/plotly-latest.min.js\"></script>    \n",
              "            <div id=\"910234fc-8f8b-4356-90e0-d8d9fb9d0bd9\" class=\"plotly-graph-div\" style=\"height:500px; width:800px;\"></div>\n",
              "            <script type=\"text/javascript\">\n",
              "                \n",
              "                    window.PLOTLYENV=window.PLOTLYENV || {};\n",
              "                    \n",
              "                if (document.getElementById(\"910234fc-8f8b-4356-90e0-d8d9fb9d0bd9\")) {\n",
              "                    Plotly.newPlot(\n",
              "                        '910234fc-8f8b-4356-90e0-d8d9fb9d0bd9',\n",
              "                        [{\"alignmentgroup\": \"True\", \"hoverlabel\": {\"namelength\": 0}, \"hovertemplate\": \"country=%{x}<br>recovered=%{y}\", \"legendgroup\": \"\", \"marker\": {\"color\": \"pink\"}, \"name\": \"\", \"offsetgroup\": \"\", \"orientation\": \"v\", \"showlegend\": false, \"textposition\": \"auto\", \"type\": \"bar\", \"x\": [\"US\", \"India\", \"Brazil\", \"Russia\", \"United Kingdom\"], \"xaxis\": \"x\", \"y\": [null, 10075950.0, 7208704.0, 2750102.0, 6862.0], \"yaxis\": \"y\"}],\n",
              "                        {\"barmode\": \"relative\", \"height\": 500, \"legend\": {\"tracegroupgap\": 0}, \"template\": {\"data\": {\"bar\": [{\"error_x\": {\"color\": \"#2a3f5f\"}, \"error_y\": {\"color\": \"#2a3f5f\"}, \"marker\": {\"line\": {\"color\": \"#E5ECF6\", \"width\": 0.5}}, \"type\": \"bar\"}], \"barpolar\": [{\"marker\": {\"line\": {\"color\": \"#E5ECF6\", \"width\": 0.5}}, \"type\": \"barpolar\"}], \"carpet\": [{\"aaxis\": {\"endlinecolor\": \"#2a3f5f\", \"gridcolor\": \"white\", \"linecolor\": \"white\", \"minorgridcolor\": \"white\", \"startlinecolor\": \"#2a3f5f\"}, \"baxis\": {\"endlinecolor\": \"#2a3f5f\", \"gridcolor\": \"white\", \"linecolor\": \"white\", \"minorgridcolor\": \"white\", \"startlinecolor\": \"#2a3f5f\"}, \"type\": \"carpet\"}], \"choropleth\": [{\"colorbar\": {\"outlinewidth\": 0, \"ticks\": \"\"}, \"type\": \"choropleth\"}], \"contour\": [{\"colorbar\": {\"outlinewidth\": 0, \"ticks\": \"\"}, \"colorscale\": [[0.0, \"#0d0887\"], [0.1111111111111111, \"#46039f\"], [0.2222222222222222, \"#7201a8\"], [0.3333333333333333, \"#9c179e\"], [0.4444444444444444, \"#bd3786\"], [0.5555555555555556, \"#d8576b\"], [0.6666666666666666, \"#ed7953\"], [0.7777777777777778, \"#fb9f3a\"], [0.8888888888888888, \"#fdca26\"], [1.0, \"#f0f921\"]], \"type\": \"contour\"}], \"contourcarpet\": [{\"colorbar\": {\"outlinewidth\": 0, \"ticks\": \"\"}, \"type\": \"contourcarpet\"}], \"heatmap\": [{\"colorbar\": {\"outlinewidth\": 0, \"ticks\": \"\"}, \"colorscale\": [[0.0, \"#0d0887\"], [0.1111111111111111, \"#46039f\"], [0.2222222222222222, \"#7201a8\"], [0.3333333333333333, \"#9c179e\"], [0.4444444444444444, \"#bd3786\"], [0.5555555555555556, \"#d8576b\"], [0.6666666666666666, \"#ed7953\"], [0.7777777777777778, \"#fb9f3a\"], [0.8888888888888888, \"#fdca26\"], [1.0, \"#f0f921\"]], \"type\": \"heatmap\"}], \"heatmapgl\": [{\"colorbar\": {\"outlinewidth\": 0, \"ticks\": \"\"}, \"colorscale\": [[0.0, \"#0d0887\"], [0.1111111111111111, \"#46039f\"], [0.2222222222222222, \"#7201a8\"], [0.3333333333333333, \"#9c179e\"], [0.4444444444444444, \"#bd3786\"], [0.5555555555555556, \"#d8576b\"], [0.6666666666666666, \"#ed7953\"], [0.7777777777777778, \"#fb9f3a\"], [0.8888888888888888, \"#fdca26\"], [1.0, \"#f0f921\"]], \"type\": \"heatmapgl\"}], \"histogram\": [{\"marker\": {\"colorbar\": {\"outlinewidth\": 0, \"ticks\": \"\"}}, \"type\": \"histogram\"}], \"histogram2d\": [{\"colorbar\": {\"outlinewidth\": 0, \"ticks\": \"\"}, \"colorscale\": [[0.0, \"#0d0887\"], [0.1111111111111111, \"#46039f\"], [0.2222222222222222, \"#7201a8\"], [0.3333333333333333, \"#9c179e\"], [0.4444444444444444, \"#bd3786\"], [0.5555555555555556, \"#d8576b\"], [0.6666666666666666, \"#ed7953\"], [0.7777777777777778, \"#fb9f3a\"], [0.8888888888888888, \"#fdca26\"], [1.0, \"#f0f921\"]], \"type\": \"histogram2d\"}], \"histogram2dcontour\": [{\"colorbar\": {\"outlinewidth\": 0, \"ticks\": \"\"}, \"colorscale\": [[0.0, \"#0d0887\"], [0.1111111111111111, \"#46039f\"], [0.2222222222222222, \"#7201a8\"], [0.3333333333333333, \"#9c179e\"], [0.4444444444444444, \"#bd3786\"], [0.5555555555555556, \"#d8576b\"], [0.6666666666666666, \"#ed7953\"], [0.7777777777777778, \"#fb9f3a\"], [0.8888888888888888, \"#fdca26\"], [1.0, \"#f0f921\"]], \"type\": \"histogram2dcontour\"}], \"mesh3d\": [{\"colorbar\": {\"outlinewidth\": 0, \"ticks\": \"\"}, \"type\": \"mesh3d\"}], \"parcoords\": [{\"line\": {\"colorbar\": {\"outlinewidth\": 0, \"ticks\": \"\"}}, \"type\": \"parcoords\"}], \"pie\": [{\"automargin\": true, \"type\": \"pie\"}], \"scatter\": [{\"marker\": {\"colorbar\": {\"outlinewidth\": 0, \"ticks\": \"\"}}, \"type\": \"scatter\"}], \"scatter3d\": [{\"line\": {\"colorbar\": {\"outlinewidth\": 0, \"ticks\": \"\"}}, \"marker\": {\"colorbar\": {\"outlinewidth\": 0, \"ticks\": \"\"}}, \"type\": \"scatter3d\"}], \"scattercarpet\": [{\"marker\": {\"colorbar\": {\"outlinewidth\": 0, \"ticks\": \"\"}}, \"type\": \"scattercarpet\"}], \"scattergeo\": [{\"marker\": {\"colorbar\": {\"outlinewidth\": 0, \"ticks\": \"\"}}, \"type\": \"scattergeo\"}], \"scattergl\": [{\"marker\": {\"colorbar\": {\"outlinewidth\": 0, \"ticks\": \"\"}}, \"type\": \"scattergl\"}], \"scattermapbox\": [{\"marker\": {\"colorbar\": {\"outlinewidth\": 0, \"ticks\": \"\"}}, \"type\": \"scattermapbox\"}], \"scatterpolar\": [{\"marker\": {\"colorbar\": {\"outlinewidth\": 0, \"ticks\": \"\"}}, \"type\": \"scatterpolar\"}], \"scatterpolargl\": [{\"marker\": {\"colorbar\": {\"outlinewidth\": 0, \"ticks\": \"\"}}, \"type\": \"scatterpolargl\"}], \"scatterternary\": [{\"marker\": {\"colorbar\": {\"outlinewidth\": 0, \"ticks\": \"\"}}, \"type\": \"scatterternary\"}], \"surface\": [{\"colorbar\": {\"outlinewidth\": 0, \"ticks\": \"\"}, \"colorscale\": [[0.0, \"#0d0887\"], [0.1111111111111111, \"#46039f\"], [0.2222222222222222, \"#7201a8\"], [0.3333333333333333, \"#9c179e\"], [0.4444444444444444, \"#bd3786\"], [0.5555555555555556, \"#d8576b\"], [0.6666666666666666, \"#ed7953\"], [0.7777777777777778, \"#fb9f3a\"], [0.8888888888888888, \"#fdca26\"], [1.0, \"#f0f921\"]], \"type\": \"surface\"}], \"table\": [{\"cells\": {\"fill\": {\"color\": \"#EBF0F8\"}, \"line\": {\"color\": \"white\"}}, \"header\": {\"fill\": {\"color\": \"#C8D4E3\"}, \"line\": {\"color\": \"white\"}}, \"type\": \"table\"}]}, \"layout\": {\"annotationdefaults\": {\"arrowcolor\": \"#2a3f5f\", \"arrowhead\": 0, \"arrowwidth\": 1}, \"coloraxis\": {\"colorbar\": {\"outlinewidth\": 0, \"ticks\": \"\"}}, \"colorscale\": {\"diverging\": [[0, \"#8e0152\"], [0.1, \"#c51b7d\"], [0.2, \"#de77ae\"], [0.3, \"#f1b6da\"], [0.4, \"#fde0ef\"], [0.5, \"#f7f7f7\"], [0.6, \"#e6f5d0\"], [0.7, \"#b8e186\"], [0.8, \"#7fbc41\"], [0.9, \"#4d9221\"], [1, \"#276419\"]], \"sequential\": [[0.0, \"#0d0887\"], [0.1111111111111111, \"#46039f\"], [0.2222222222222222, \"#7201a8\"], [0.3333333333333333, \"#9c179e\"], [0.4444444444444444, \"#bd3786\"], [0.5555555555555556, \"#d8576b\"], [0.6666666666666666, \"#ed7953\"], [0.7777777777777778, \"#fb9f3a\"], [0.8888888888888888, \"#fdca26\"], [1.0, \"#f0f921\"]], \"sequentialminus\": [[0.0, \"#0d0887\"], [0.1111111111111111, \"#46039f\"], [0.2222222222222222, \"#7201a8\"], [0.3333333333333333, \"#9c179e\"], [0.4444444444444444, \"#bd3786\"], [0.5555555555555556, \"#d8576b\"], [0.6666666666666666, \"#ed7953\"], [0.7777777777777778, \"#fb9f3a\"], [0.8888888888888888, \"#fdca26\"], [1.0, \"#f0f921\"]]}, \"colorway\": [\"#636efa\", \"#EF553B\", \"#00cc96\", \"#ab63fa\", \"#FFA15A\", \"#19d3f3\", \"#FF6692\", \"#B6E880\", \"#FF97FF\", \"#FECB52\"], \"font\": {\"color\": \"#2a3f5f\"}, \"geo\": {\"bgcolor\": \"white\", \"lakecolor\": \"white\", \"landcolor\": \"#E5ECF6\", \"showlakes\": true, \"showland\": true, \"subunitcolor\": \"white\"}, \"hoverlabel\": {\"align\": \"left\"}, \"hovermode\": \"closest\", \"mapbox\": {\"style\": \"light\"}, \"paper_bgcolor\": \"white\", \"plot_bgcolor\": \"#E5ECF6\", \"polar\": {\"angularaxis\": {\"gridcolor\": \"white\", \"linecolor\": \"white\", \"ticks\": \"\"}, \"bgcolor\": \"#E5ECF6\", \"radialaxis\": {\"gridcolor\": \"white\", \"linecolor\": \"white\", \"ticks\": \"\"}}, \"scene\": {\"xaxis\": {\"backgroundcolor\": \"#E5ECF6\", \"gridcolor\": \"white\", \"gridwidth\": 2, \"linecolor\": \"white\", \"showbackground\": true, \"ticks\": \"\", \"zerolinecolor\": \"white\"}, \"yaxis\": {\"backgroundcolor\": \"#E5ECF6\", \"gridcolor\": \"white\", \"gridwidth\": 2, \"linecolor\": \"white\", \"showbackground\": true, \"ticks\": \"\", \"zerolinecolor\": \"white\"}, \"zaxis\": {\"backgroundcolor\": \"#E5ECF6\", \"gridcolor\": \"white\", \"gridwidth\": 2, \"linecolor\": \"white\", \"showbackground\": true, \"ticks\": \"\", \"zerolinecolor\": \"white\"}}, \"shapedefaults\": {\"line\": {\"color\": \"#2a3f5f\"}}, \"ternary\": {\"aaxis\": {\"gridcolor\": \"white\", \"linecolor\": \"white\", \"ticks\": \"\"}, \"baxis\": {\"gridcolor\": \"white\", \"linecolor\": \"white\", \"ticks\": \"\"}, \"bgcolor\": \"#E5ECF6\", \"caxis\": {\"gridcolor\": \"white\", \"linecolor\": \"white\", \"ticks\": \"\"}}, \"title\": {\"x\": 0.05}, \"xaxis\": {\"automargin\": true, \"gridcolor\": \"white\", \"linecolor\": \"white\", \"ticks\": \"\", \"title\": {\"standoff\": 15}, \"zerolinecolor\": \"white\", \"zerolinewidth\": 2}, \"yaxis\": {\"automargin\": true, \"gridcolor\": \"white\", \"linecolor\": \"white\", \"ticks\": \"\", \"title\": {\"standoff\": 15}, \"zerolinecolor\": \"white\", \"zerolinewidth\": 2}}}, \"title\": {\"text\": \"Top 10 worst affected countries\"}, \"width\": 800, \"xaxis\": {\"anchor\": \"y\", \"domain\": [0.0, 1.0], \"title\": {\"text\": \"country\"}}, \"yaxis\": {\"anchor\": \"x\", \"domain\": [0.0, 1.0], \"title\": {\"text\": \"recovered\"}}},\n",
              "                        {\"responsive\": true}\n",
              "                    ).then(function(){\n",
              "                            \n",
              "var gd = document.getElementById('910234fc-8f8b-4356-90e0-d8d9fb9d0bd9');\n",
              "var x = new MutationObserver(function (mutations, observer) {{\n",
              "        var display = window.getComputedStyle(gd).display;\n",
              "        if (!display || display === 'none') {{\n",
              "            console.log([gd, 'removed!']);\n",
              "            Plotly.purge(gd);\n",
              "            observer.disconnect();\n",
              "        }}\n",
              "}});\n",
              "\n",
              "// Listen for the removal of the full notebook cells\n",
              "var notebookContainer = gd.closest('#notebook-container');\n",
              "if (notebookContainer) {{\n",
              "    x.observe(notebookContainer, {childList: true});\n",
              "}}\n",
              "\n",
              "// Listen for the clearing of the current output cell\n",
              "var outputEl = gd.closest('.output');\n",
              "if (outputEl) {{\n",
              "    x.observe(outputEl, {childList: true});\n",
              "}}\n",
              "\n",
              "                        })\n",
              "                };\n",
              "                \n",
              "            </script>\n",
              "        </div>\n",
              "</body>\n",
              "</html>"
            ]
          },
          "metadata": {
            "tags": []
          }
        }
      ]
    }
  ]
}